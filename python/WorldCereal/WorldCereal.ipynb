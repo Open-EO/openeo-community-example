{
 "cells": [
  {
   "cell_type": "markdown",
   "source": [
    "# WorldCereal product download"
   ],
   "metadata": {
    "collapsed": false
   }
  },
  {
   "cell_type": "code",
   "execution_count": 1,
   "metadata": {},
   "outputs": [
    {
     "name": "stdout",
     "output_type": "stream",
     "text": [
      "To authenticate: visit https://aai.egi.eu/device?user_code=VXEX-ANVK .\n"
     ]
    },
    {
     "ename": "KeyboardInterrupt",
     "evalue": "",
     "output_type": "error",
     "traceback": [
      "\u001B[0;31m---------------------------------------------------------------------------\u001B[0m",
      "\u001B[0;31mKeyboardInterrupt\u001B[0m                         Traceback (most recent call last)",
      "Cell \u001B[0;32mIn[1], line 2\u001B[0m\n\u001B[1;32m      1\u001B[0m \u001B[38;5;28;01mimport\u001B[39;00m \u001B[38;5;21;01mopeneo\u001B[39;00m\n\u001B[0;32m----> 2\u001B[0m c\u001B[38;5;241m=\u001B[39m\u001B[43mopeneo\u001B[49m\u001B[38;5;241;43m.\u001B[39;49m\u001B[43mconnect\u001B[49m\u001B[43m(\u001B[49m\u001B[38;5;124;43m\"\u001B[39;49m\u001B[38;5;124;43mopeneo.cloud\u001B[39;49m\u001B[38;5;124;43m\"\u001B[39;49m\u001B[43m)\u001B[49m\u001B[38;5;241;43m.\u001B[39;49m\u001B[43mauthenticate_oidc\u001B[49m\u001B[43m(\u001B[49m\u001B[43m)\u001B[49m\n",
      "File \u001B[0;32m~/python/openeo-python-client/openeo/rest/connection.py:588\u001B[0m, in \u001B[0;36mConnection.authenticate_oidc\u001B[0;34m(self, provider_id, client_id, client_secret, store_refresh_token, use_pkce)\u001B[0m\n\u001B[1;32m    586\u001B[0m _log\u001B[38;5;241m.\u001B[39minfo(\u001B[38;5;124m\"\u001B[39m\u001B[38;5;124mTrying device code flow.\u001B[39m\u001B[38;5;124m\"\u001B[39m)\n\u001B[1;32m    587\u001B[0m authenticator \u001B[38;5;241m=\u001B[39m OidcDeviceAuthenticator(client_info\u001B[38;5;241m=\u001B[39mclient_info, use_pkce\u001B[38;5;241m=\u001B[39muse_pkce)\n\u001B[0;32m--> 588\u001B[0m con \u001B[38;5;241m=\u001B[39m \u001B[38;5;28;43mself\u001B[39;49m\u001B[38;5;241;43m.\u001B[39;49m\u001B[43m_authenticate_oidc\u001B[49m\u001B[43m(\u001B[49m\u001B[43mauthenticator\u001B[49m\u001B[43m,\u001B[49m\u001B[43m \u001B[49m\u001B[43mprovider_id\u001B[49m\u001B[38;5;241;43m=\u001B[39;49m\u001B[43mprovider_id\u001B[49m\u001B[43m,\u001B[49m\u001B[43m \u001B[49m\u001B[43mstore_refresh_token\u001B[49m\u001B[38;5;241;43m=\u001B[39;49m\u001B[43mstore_refresh_token\u001B[49m\u001B[43m)\u001B[49m\n\u001B[1;32m    589\u001B[0m \u001B[38;5;28mprint\u001B[39m(\u001B[38;5;124m\"\u001B[39m\u001B[38;5;124mAuthenticated using device code flow.\u001B[39m\u001B[38;5;124m\"\u001B[39m)\n\u001B[1;32m    590\u001B[0m \u001B[38;5;28;01mreturn\u001B[39;00m con\n",
      "File \u001B[0;32m~/python/openeo-python-client/openeo/rest/connection.py:406\u001B[0m, in \u001B[0;36mConnection._authenticate_oidc\u001B[0;34m(self, authenticator, provider_id, store_refresh_token, fallback_refresh_token_to_store, refreshable)\u001B[0m\n\u001B[1;32m    394\u001B[0m \u001B[38;5;28;01mdef\u001B[39;00m \u001B[38;5;21m_authenticate_oidc\u001B[39m(\n\u001B[1;32m    395\u001B[0m         \u001B[38;5;28mself\u001B[39m,\n\u001B[1;32m    396\u001B[0m         authenticator: OidcAuthenticator,\n\u001B[0;32m   (...)\u001B[0m\n\u001B[1;32m    401\u001B[0m         refreshable: \u001B[38;5;28mbool\u001B[39m \u001B[38;5;241m=\u001B[39m \u001B[38;5;28;01mFalse\u001B[39;00m,\n\u001B[1;32m    402\u001B[0m ) \u001B[38;5;241m-\u001B[39m\u001B[38;5;241m>\u001B[39m \u001B[38;5;124m'\u001B[39m\u001B[38;5;124mConnection\u001B[39m\u001B[38;5;124m'\u001B[39m:\n\u001B[1;32m    403\u001B[0m \u001B[38;5;250m    \u001B[39m\u001B[38;5;124;03m\"\"\"\u001B[39;00m\n\u001B[1;32m    404\u001B[0m \u001B[38;5;124;03m    Authenticate through OIDC and set up bearer token (based on OIDC access_token) for further requests.\u001B[39;00m\n\u001B[1;32m    405\u001B[0m \u001B[38;5;124;03m    \"\"\"\u001B[39;00m\n\u001B[0;32m--> 406\u001B[0m     tokens \u001B[38;5;241m=\u001B[39m \u001B[43mauthenticator\u001B[49m\u001B[38;5;241;43m.\u001B[39;49m\u001B[43mget_tokens\u001B[49m\u001B[43m(\u001B[49m\u001B[43mrequest_refresh_token\u001B[49m\u001B[38;5;241;43m=\u001B[39;49m\u001B[43mstore_refresh_token\u001B[49m\u001B[43m)\u001B[49m\n\u001B[1;32m    407\u001B[0m     _log\u001B[38;5;241m.\u001B[39minfo(\u001B[38;5;124m\"\u001B[39m\u001B[38;5;124mObtained tokens: \u001B[39m\u001B[38;5;132;01m{t}\u001B[39;00m\u001B[38;5;124m\"\u001B[39m\u001B[38;5;241m.\u001B[39mformat(t\u001B[38;5;241m=\u001B[39m[k \u001B[38;5;28;01mfor\u001B[39;00m k, v \u001B[38;5;129;01min\u001B[39;00m tokens\u001B[38;5;241m.\u001B[39m_asdict()\u001B[38;5;241m.\u001B[39mitems() \u001B[38;5;28;01mif\u001B[39;00m v]))\n\u001B[1;32m    408\u001B[0m     \u001B[38;5;28;01mif\u001B[39;00m store_refresh_token:\n",
      "File \u001B[0;32m~/python/openeo-python-client/openeo/rest/auth/oidc.py:750\u001B[0m, in \u001B[0;36mOidcDeviceAuthenticator.get_tokens\u001B[0;34m(self, request_refresh_token)\u001B[0m\n\u001B[1;32m    745\u001B[0m time\u001B[38;5;241m.\u001B[39msleep(poll_interval)\n\u001B[1;32m    747\u001B[0m log\u001B[38;5;241m.\u001B[39mdebug(\u001B[38;5;124m\"\u001B[39m\u001B[38;5;124mDoing \u001B[39m\u001B[38;5;132;01m{g!r}\u001B[39;00m\u001B[38;5;124m token request \u001B[39m\u001B[38;5;132;01m{u!r}\u001B[39;00m\u001B[38;5;124m with post data fields \u001B[39m\u001B[38;5;132;01m{p!r}\u001B[39;00m\u001B[38;5;124m (client_id \u001B[39m\u001B[38;5;132;01m{c!r}\u001B[39;00m\u001B[38;5;124m)\u001B[39m\u001B[38;5;124m\"\u001B[39m\u001B[38;5;241m.\u001B[39mformat(\n\u001B[1;32m    748\u001B[0m     g\u001B[38;5;241m=\u001B[39m\u001B[38;5;28mself\u001B[39m\u001B[38;5;241m.\u001B[39mgrant_type, c\u001B[38;5;241m=\u001B[39m\u001B[38;5;28mself\u001B[39m\u001B[38;5;241m.\u001B[39mclient_id, u\u001B[38;5;241m=\u001B[39mtoken_endpoint, p\u001B[38;5;241m=\u001B[39m\u001B[38;5;28mlist\u001B[39m(post_data\u001B[38;5;241m.\u001B[39mkeys()))\n\u001B[1;32m    749\u001B[0m )\n\u001B[0;32m--> 750\u001B[0m resp \u001B[38;5;241m=\u001B[39m \u001B[38;5;28;43mself\u001B[39;49m\u001B[38;5;241;43m.\u001B[39;49m\u001B[43m_requests\u001B[49m\u001B[38;5;241;43m.\u001B[39;49m\u001B[43mpost\u001B[49m\u001B[43m(\u001B[49m\u001B[43murl\u001B[49m\u001B[38;5;241;43m=\u001B[39;49m\u001B[43mtoken_endpoint\u001B[49m\u001B[43m,\u001B[49m\u001B[43m \u001B[49m\u001B[43mdata\u001B[49m\u001B[38;5;241;43m=\u001B[39;49m\u001B[43mpost_data\u001B[49m\u001B[43m)\u001B[49m\n\u001B[1;32m    751\u001B[0m \u001B[38;5;28;01mif\u001B[39;00m resp\u001B[38;5;241m.\u001B[39mstatus_code \u001B[38;5;241m==\u001B[39m \u001B[38;5;241m200\u001B[39m:\n\u001B[1;32m    752\u001B[0m     log\u001B[38;5;241m.\u001B[39minfo(\u001B[38;5;124m\"\u001B[39m\u001B[38;5;124m[\u001B[39m\u001B[38;5;132;01m{e:5.1f}\u001B[39;00m\u001B[38;5;124ms] Authorized successfully.\u001B[39m\u001B[38;5;124m\"\u001B[39m\u001B[38;5;241m.\u001B[39mformat(e\u001B[38;5;241m=\u001B[39melapsed()))\n",
      "File \u001B[0;32m/usr/lib/python3.11/site-packages/requests/sessions.py:635\u001B[0m, in \u001B[0;36mSession.post\u001B[0;34m(self, url, data, json, **kwargs)\u001B[0m\n\u001B[1;32m    624\u001B[0m \u001B[38;5;28;01mdef\u001B[39;00m \u001B[38;5;21mpost\u001B[39m(\u001B[38;5;28mself\u001B[39m, url, data\u001B[38;5;241m=\u001B[39m\u001B[38;5;28;01mNone\u001B[39;00m, json\u001B[38;5;241m=\u001B[39m\u001B[38;5;28;01mNone\u001B[39;00m, \u001B[38;5;241m*\u001B[39m\u001B[38;5;241m*\u001B[39mkwargs):\n\u001B[1;32m    625\u001B[0m \u001B[38;5;250m    \u001B[39m\u001B[38;5;124mr\u001B[39m\u001B[38;5;124;03m\"\"\"Sends a POST request. Returns :class:`Response` object.\u001B[39;00m\n\u001B[1;32m    626\u001B[0m \n\u001B[1;32m    627\u001B[0m \u001B[38;5;124;03m    :param url: URL for the new :class:`Request` object.\u001B[39;00m\n\u001B[0;32m   (...)\u001B[0m\n\u001B[1;32m    632\u001B[0m \u001B[38;5;124;03m    :rtype: requests.Response\u001B[39;00m\n\u001B[1;32m    633\u001B[0m \u001B[38;5;124;03m    \"\"\"\u001B[39;00m\n\u001B[0;32m--> 635\u001B[0m     \u001B[38;5;28;01mreturn\u001B[39;00m \u001B[38;5;28;43mself\u001B[39;49m\u001B[38;5;241;43m.\u001B[39;49m\u001B[43mrequest\u001B[49m\u001B[43m(\u001B[49m\u001B[38;5;124;43m\"\u001B[39;49m\u001B[38;5;124;43mPOST\u001B[39;49m\u001B[38;5;124;43m\"\u001B[39;49m\u001B[43m,\u001B[49m\u001B[43m \u001B[49m\u001B[43murl\u001B[49m\u001B[43m,\u001B[49m\u001B[43m \u001B[49m\u001B[43mdata\u001B[49m\u001B[38;5;241;43m=\u001B[39;49m\u001B[43mdata\u001B[49m\u001B[43m,\u001B[49m\u001B[43m \u001B[49m\u001B[43mjson\u001B[49m\u001B[38;5;241;43m=\u001B[39;49m\u001B[43mjson\u001B[49m\u001B[43m,\u001B[49m\u001B[43m \u001B[49m\u001B[38;5;241;43m*\u001B[39;49m\u001B[38;5;241;43m*\u001B[39;49m\u001B[43mkwargs\u001B[49m\u001B[43m)\u001B[49m\n",
      "File \u001B[0;32m/usr/lib/python3.11/site-packages/requests/sessions.py:587\u001B[0m, in \u001B[0;36mSession.request\u001B[0;34m(self, method, url, params, data, headers, cookies, files, auth, timeout, allow_redirects, proxies, hooks, stream, verify, cert, json)\u001B[0m\n\u001B[1;32m    582\u001B[0m send_kwargs \u001B[38;5;241m=\u001B[39m {\n\u001B[1;32m    583\u001B[0m     \u001B[38;5;124m\"\u001B[39m\u001B[38;5;124mtimeout\u001B[39m\u001B[38;5;124m\"\u001B[39m: timeout,\n\u001B[1;32m    584\u001B[0m     \u001B[38;5;124m\"\u001B[39m\u001B[38;5;124mallow_redirects\u001B[39m\u001B[38;5;124m\"\u001B[39m: allow_redirects,\n\u001B[1;32m    585\u001B[0m }\n\u001B[1;32m    586\u001B[0m send_kwargs\u001B[38;5;241m.\u001B[39mupdate(settings)\n\u001B[0;32m--> 587\u001B[0m resp \u001B[38;5;241m=\u001B[39m \u001B[38;5;28;43mself\u001B[39;49m\u001B[38;5;241;43m.\u001B[39;49m\u001B[43msend\u001B[49m\u001B[43m(\u001B[49m\u001B[43mprep\u001B[49m\u001B[43m,\u001B[49m\u001B[43m \u001B[49m\u001B[38;5;241;43m*\u001B[39;49m\u001B[38;5;241;43m*\u001B[39;49m\u001B[43msend_kwargs\u001B[49m\u001B[43m)\u001B[49m\n\u001B[1;32m    589\u001B[0m \u001B[38;5;28;01mreturn\u001B[39;00m resp\n",
      "File \u001B[0;32m/usr/lib/python3.11/site-packages/requests/sessions.py:701\u001B[0m, in \u001B[0;36mSession.send\u001B[0;34m(self, request, **kwargs)\u001B[0m\n\u001B[1;32m    698\u001B[0m start \u001B[38;5;241m=\u001B[39m preferred_clock()\n\u001B[1;32m    700\u001B[0m \u001B[38;5;66;03m# Send the request\u001B[39;00m\n\u001B[0;32m--> 701\u001B[0m r \u001B[38;5;241m=\u001B[39m \u001B[43madapter\u001B[49m\u001B[38;5;241;43m.\u001B[39;49m\u001B[43msend\u001B[49m\u001B[43m(\u001B[49m\u001B[43mrequest\u001B[49m\u001B[43m,\u001B[49m\u001B[43m \u001B[49m\u001B[38;5;241;43m*\u001B[39;49m\u001B[38;5;241;43m*\u001B[39;49m\u001B[43mkwargs\u001B[49m\u001B[43m)\u001B[49m\n\u001B[1;32m    703\u001B[0m \u001B[38;5;66;03m# Total elapsed time of the request (approximately)\u001B[39;00m\n\u001B[1;32m    704\u001B[0m elapsed \u001B[38;5;241m=\u001B[39m preferred_clock() \u001B[38;5;241m-\u001B[39m start\n",
      "File \u001B[0;32m/usr/lib/python3.11/site-packages/requests/adapters.py:489\u001B[0m, in \u001B[0;36mHTTPAdapter.send\u001B[0;34m(self, request, stream, timeout, verify, cert, proxies)\u001B[0m\n\u001B[1;32m    487\u001B[0m \u001B[38;5;28;01mtry\u001B[39;00m:\n\u001B[1;32m    488\u001B[0m     \u001B[38;5;28;01mif\u001B[39;00m \u001B[38;5;129;01mnot\u001B[39;00m chunked:\n\u001B[0;32m--> 489\u001B[0m         resp \u001B[38;5;241m=\u001B[39m \u001B[43mconn\u001B[49m\u001B[38;5;241;43m.\u001B[39;49m\u001B[43murlopen\u001B[49m\u001B[43m(\u001B[49m\n\u001B[1;32m    490\u001B[0m \u001B[43m            \u001B[49m\u001B[43mmethod\u001B[49m\u001B[38;5;241;43m=\u001B[39;49m\u001B[43mrequest\u001B[49m\u001B[38;5;241;43m.\u001B[39;49m\u001B[43mmethod\u001B[49m\u001B[43m,\u001B[49m\n\u001B[1;32m    491\u001B[0m \u001B[43m            \u001B[49m\u001B[43murl\u001B[49m\u001B[38;5;241;43m=\u001B[39;49m\u001B[43murl\u001B[49m\u001B[43m,\u001B[49m\n\u001B[1;32m    492\u001B[0m \u001B[43m            \u001B[49m\u001B[43mbody\u001B[49m\u001B[38;5;241;43m=\u001B[39;49m\u001B[43mrequest\u001B[49m\u001B[38;5;241;43m.\u001B[39;49m\u001B[43mbody\u001B[49m\u001B[43m,\u001B[49m\n\u001B[1;32m    493\u001B[0m \u001B[43m            \u001B[49m\u001B[43mheaders\u001B[49m\u001B[38;5;241;43m=\u001B[39;49m\u001B[43mrequest\u001B[49m\u001B[38;5;241;43m.\u001B[39;49m\u001B[43mheaders\u001B[49m\u001B[43m,\u001B[49m\n\u001B[1;32m    494\u001B[0m \u001B[43m            \u001B[49m\u001B[43mredirect\u001B[49m\u001B[38;5;241;43m=\u001B[39;49m\u001B[38;5;28;43;01mFalse\u001B[39;49;00m\u001B[43m,\u001B[49m\n\u001B[1;32m    495\u001B[0m \u001B[43m            \u001B[49m\u001B[43massert_same_host\u001B[49m\u001B[38;5;241;43m=\u001B[39;49m\u001B[38;5;28;43;01mFalse\u001B[39;49;00m\u001B[43m,\u001B[49m\n\u001B[1;32m    496\u001B[0m \u001B[43m            \u001B[49m\u001B[43mpreload_content\u001B[49m\u001B[38;5;241;43m=\u001B[39;49m\u001B[38;5;28;43;01mFalse\u001B[39;49;00m\u001B[43m,\u001B[49m\n\u001B[1;32m    497\u001B[0m \u001B[43m            \u001B[49m\u001B[43mdecode_content\u001B[49m\u001B[38;5;241;43m=\u001B[39;49m\u001B[38;5;28;43;01mFalse\u001B[39;49;00m\u001B[43m,\u001B[49m\n\u001B[1;32m    498\u001B[0m \u001B[43m            \u001B[49m\u001B[43mretries\u001B[49m\u001B[38;5;241;43m=\u001B[39;49m\u001B[38;5;28;43mself\u001B[39;49m\u001B[38;5;241;43m.\u001B[39;49m\u001B[43mmax_retries\u001B[49m\u001B[43m,\u001B[49m\n\u001B[1;32m    499\u001B[0m \u001B[43m            \u001B[49m\u001B[43mtimeout\u001B[49m\u001B[38;5;241;43m=\u001B[39;49m\u001B[43mtimeout\u001B[49m\u001B[43m,\u001B[49m\n\u001B[1;32m    500\u001B[0m \u001B[43m        \u001B[49m\u001B[43m)\u001B[49m\n\u001B[1;32m    502\u001B[0m     \u001B[38;5;66;03m# Send the request.\u001B[39;00m\n\u001B[1;32m    503\u001B[0m     \u001B[38;5;28;01melse\u001B[39;00m:\n\u001B[1;32m    504\u001B[0m         \u001B[38;5;28;01mif\u001B[39;00m \u001B[38;5;28mhasattr\u001B[39m(conn, \u001B[38;5;124m\"\u001B[39m\u001B[38;5;124mproxy_pool\u001B[39m\u001B[38;5;124m\"\u001B[39m):\n",
      "File \u001B[0;32m/usr/lib/python3.11/site-packages/urllib3/connectionpool.py:703\u001B[0m, in \u001B[0;36mHTTPConnectionPool.urlopen\u001B[0;34m(self, method, url, body, headers, retries, redirect, assert_same_host, timeout, pool_timeout, release_conn, chunked, body_pos, **response_kw)\u001B[0m\n\u001B[1;32m    700\u001B[0m     \u001B[38;5;28mself\u001B[39m\u001B[38;5;241m.\u001B[39m_prepare_proxy(conn)\n\u001B[1;32m    702\u001B[0m \u001B[38;5;66;03m# Make the request on the httplib connection object.\u001B[39;00m\n\u001B[0;32m--> 703\u001B[0m httplib_response \u001B[38;5;241m=\u001B[39m \u001B[38;5;28;43mself\u001B[39;49m\u001B[38;5;241;43m.\u001B[39;49m\u001B[43m_make_request\u001B[49m\u001B[43m(\u001B[49m\n\u001B[1;32m    704\u001B[0m \u001B[43m    \u001B[49m\u001B[43mconn\u001B[49m\u001B[43m,\u001B[49m\n\u001B[1;32m    705\u001B[0m \u001B[43m    \u001B[49m\u001B[43mmethod\u001B[49m\u001B[43m,\u001B[49m\n\u001B[1;32m    706\u001B[0m \u001B[43m    \u001B[49m\u001B[43murl\u001B[49m\u001B[43m,\u001B[49m\n\u001B[1;32m    707\u001B[0m \u001B[43m    \u001B[49m\u001B[43mtimeout\u001B[49m\u001B[38;5;241;43m=\u001B[39;49m\u001B[43mtimeout_obj\u001B[49m\u001B[43m,\u001B[49m\n\u001B[1;32m    708\u001B[0m \u001B[43m    \u001B[49m\u001B[43mbody\u001B[49m\u001B[38;5;241;43m=\u001B[39;49m\u001B[43mbody\u001B[49m\u001B[43m,\u001B[49m\n\u001B[1;32m    709\u001B[0m \u001B[43m    \u001B[49m\u001B[43mheaders\u001B[49m\u001B[38;5;241;43m=\u001B[39;49m\u001B[43mheaders\u001B[49m\u001B[43m,\u001B[49m\n\u001B[1;32m    710\u001B[0m \u001B[43m    \u001B[49m\u001B[43mchunked\u001B[49m\u001B[38;5;241;43m=\u001B[39;49m\u001B[43mchunked\u001B[49m\u001B[43m,\u001B[49m\n\u001B[1;32m    711\u001B[0m \u001B[43m\u001B[49m\u001B[43m)\u001B[49m\n\u001B[1;32m    713\u001B[0m \u001B[38;5;66;03m# If we're going to release the connection in ``finally:``, then\u001B[39;00m\n\u001B[1;32m    714\u001B[0m \u001B[38;5;66;03m# the response doesn't need to know about the connection. Otherwise\u001B[39;00m\n\u001B[1;32m    715\u001B[0m \u001B[38;5;66;03m# it will also try to release it and we'll have a double-release\u001B[39;00m\n\u001B[1;32m    716\u001B[0m \u001B[38;5;66;03m# mess.\u001B[39;00m\n\u001B[1;32m    717\u001B[0m response_conn \u001B[38;5;241m=\u001B[39m conn \u001B[38;5;28;01mif\u001B[39;00m \u001B[38;5;129;01mnot\u001B[39;00m release_conn \u001B[38;5;28;01melse\u001B[39;00m \u001B[38;5;28;01mNone\u001B[39;00m\n",
      "File \u001B[0;32m/usr/lib/python3.11/site-packages/urllib3/connectionpool.py:449\u001B[0m, in \u001B[0;36mHTTPConnectionPool._make_request\u001B[0;34m(self, conn, method, url, timeout, chunked, **httplib_request_kw)\u001B[0m\n\u001B[1;32m    444\u001B[0m             httplib_response \u001B[38;5;241m=\u001B[39m conn\u001B[38;5;241m.\u001B[39mgetresponse()\n\u001B[1;32m    445\u001B[0m         \u001B[38;5;28;01mexcept\u001B[39;00m \u001B[38;5;167;01mBaseException\u001B[39;00m \u001B[38;5;28;01mas\u001B[39;00m e:\n\u001B[1;32m    446\u001B[0m             \u001B[38;5;66;03m# Remove the TypeError from the exception chain in\u001B[39;00m\n\u001B[1;32m    447\u001B[0m             \u001B[38;5;66;03m# Python 3 (including for exceptions like SystemExit).\u001B[39;00m\n\u001B[1;32m    448\u001B[0m             \u001B[38;5;66;03m# Otherwise it looks like a bug in the code.\u001B[39;00m\n\u001B[0;32m--> 449\u001B[0m             \u001B[43msix\u001B[49m\u001B[38;5;241;43m.\u001B[39;49m\u001B[43mraise_from\u001B[49m\u001B[43m(\u001B[49m\u001B[43me\u001B[49m\u001B[43m,\u001B[49m\u001B[43m \u001B[49m\u001B[38;5;28;43;01mNone\u001B[39;49;00m\u001B[43m)\u001B[49m\n\u001B[1;32m    450\u001B[0m \u001B[38;5;28;01mexcept\u001B[39;00m (SocketTimeout, BaseSSLError, SocketError) \u001B[38;5;28;01mas\u001B[39;00m e:\n\u001B[1;32m    451\u001B[0m     \u001B[38;5;28mself\u001B[39m\u001B[38;5;241m.\u001B[39m_raise_timeout(err\u001B[38;5;241m=\u001B[39me, url\u001B[38;5;241m=\u001B[39murl, timeout_value\u001B[38;5;241m=\u001B[39mread_timeout)\n",
      "File \u001B[0;32m<string>:3\u001B[0m, in \u001B[0;36mraise_from\u001B[0;34m(value, from_value)\u001B[0m\n",
      "File \u001B[0;32m/usr/lib/python3.11/site-packages/urllib3/connectionpool.py:444\u001B[0m, in \u001B[0;36mHTTPConnectionPool._make_request\u001B[0;34m(self, conn, method, url, timeout, chunked, **httplib_request_kw)\u001B[0m\n\u001B[1;32m    441\u001B[0m \u001B[38;5;28;01mexcept\u001B[39;00m \u001B[38;5;167;01mTypeError\u001B[39;00m:\n\u001B[1;32m    442\u001B[0m     \u001B[38;5;66;03m# Python 3\u001B[39;00m\n\u001B[1;32m    443\u001B[0m     \u001B[38;5;28;01mtry\u001B[39;00m:\n\u001B[0;32m--> 444\u001B[0m         httplib_response \u001B[38;5;241m=\u001B[39m \u001B[43mconn\u001B[49m\u001B[38;5;241;43m.\u001B[39;49m\u001B[43mgetresponse\u001B[49m\u001B[43m(\u001B[49m\u001B[43m)\u001B[49m\n\u001B[1;32m    445\u001B[0m     \u001B[38;5;28;01mexcept\u001B[39;00m \u001B[38;5;167;01mBaseException\u001B[39;00m \u001B[38;5;28;01mas\u001B[39;00m e:\n\u001B[1;32m    446\u001B[0m         \u001B[38;5;66;03m# Remove the TypeError from the exception chain in\u001B[39;00m\n\u001B[1;32m    447\u001B[0m         \u001B[38;5;66;03m# Python 3 (including for exceptions like SystemExit).\u001B[39;00m\n\u001B[1;32m    448\u001B[0m         \u001B[38;5;66;03m# Otherwise it looks like a bug in the code.\u001B[39;00m\n\u001B[1;32m    449\u001B[0m         six\u001B[38;5;241m.\u001B[39mraise_from(e, \u001B[38;5;28;01mNone\u001B[39;00m)\n",
      "File \u001B[0;32m/usr/lib/python3.11/http/client.py:1375\u001B[0m, in \u001B[0;36mHTTPConnection.getresponse\u001B[0;34m(self)\u001B[0m\n\u001B[1;32m   1373\u001B[0m \u001B[38;5;28;01mtry\u001B[39;00m:\n\u001B[1;32m   1374\u001B[0m     \u001B[38;5;28;01mtry\u001B[39;00m:\n\u001B[0;32m-> 1375\u001B[0m         \u001B[43mresponse\u001B[49m\u001B[38;5;241;43m.\u001B[39;49m\u001B[43mbegin\u001B[49m\u001B[43m(\u001B[49m\u001B[43m)\u001B[49m\n\u001B[1;32m   1376\u001B[0m     \u001B[38;5;28;01mexcept\u001B[39;00m \u001B[38;5;167;01mConnectionError\u001B[39;00m:\n\u001B[1;32m   1377\u001B[0m         \u001B[38;5;28mself\u001B[39m\u001B[38;5;241m.\u001B[39mclose()\n",
      "File \u001B[0;32m/usr/lib/python3.11/http/client.py:318\u001B[0m, in \u001B[0;36mHTTPResponse.begin\u001B[0;34m(self)\u001B[0m\n\u001B[1;32m    316\u001B[0m \u001B[38;5;66;03m# read until we get a non-100 response\u001B[39;00m\n\u001B[1;32m    317\u001B[0m \u001B[38;5;28;01mwhile\u001B[39;00m \u001B[38;5;28;01mTrue\u001B[39;00m:\n\u001B[0;32m--> 318\u001B[0m     version, status, reason \u001B[38;5;241m=\u001B[39m \u001B[38;5;28;43mself\u001B[39;49m\u001B[38;5;241;43m.\u001B[39;49m\u001B[43m_read_status\u001B[49m\u001B[43m(\u001B[49m\u001B[43m)\u001B[49m\n\u001B[1;32m    319\u001B[0m     \u001B[38;5;28;01mif\u001B[39;00m status \u001B[38;5;241m!=\u001B[39m CONTINUE:\n\u001B[1;32m    320\u001B[0m         \u001B[38;5;28;01mbreak\u001B[39;00m\n",
      "File \u001B[0;32m/usr/lib/python3.11/http/client.py:279\u001B[0m, in \u001B[0;36mHTTPResponse._read_status\u001B[0;34m(self)\u001B[0m\n\u001B[1;32m    278\u001B[0m \u001B[38;5;28;01mdef\u001B[39;00m \u001B[38;5;21m_read_status\u001B[39m(\u001B[38;5;28mself\u001B[39m):\n\u001B[0;32m--> 279\u001B[0m     line \u001B[38;5;241m=\u001B[39m \u001B[38;5;28mstr\u001B[39m(\u001B[38;5;28mself\u001B[39m\u001B[38;5;241m.\u001B[39mfp\u001B[38;5;241m.\u001B[39mreadline(_MAXLINE \u001B[38;5;241m+\u001B[39m \u001B[38;5;241m1\u001B[39m), \u001B[38;5;124m\"\u001B[39m\u001B[38;5;124miso-8859-1\u001B[39m\u001B[38;5;124m\"\u001B[39m)\n\u001B[1;32m    280\u001B[0m     \u001B[38;5;28;01mif\u001B[39;00m \u001B[38;5;28mlen\u001B[39m(line) \u001B[38;5;241m>\u001B[39m _MAXLINE:\n\u001B[1;32m    281\u001B[0m         \u001B[38;5;28;01mraise\u001B[39;00m LineTooLong(\u001B[38;5;124m\"\u001B[39m\u001B[38;5;124mstatus line\u001B[39m\u001B[38;5;124m\"\u001B[39m)\n",
      "File \u001B[0;32m/usr/lib/python3.11/socket.py:706\u001B[0m, in \u001B[0;36mSocketIO.readinto\u001B[0;34m(self, b)\u001B[0m\n\u001B[1;32m    704\u001B[0m \u001B[38;5;28;01mwhile\u001B[39;00m \u001B[38;5;28;01mTrue\u001B[39;00m:\n\u001B[1;32m    705\u001B[0m     \u001B[38;5;28;01mtry\u001B[39;00m:\n\u001B[0;32m--> 706\u001B[0m         \u001B[38;5;28;01mreturn\u001B[39;00m \u001B[38;5;28;43mself\u001B[39;49m\u001B[38;5;241;43m.\u001B[39;49m\u001B[43m_sock\u001B[49m\u001B[38;5;241;43m.\u001B[39;49m\u001B[43mrecv_into\u001B[49m\u001B[43m(\u001B[49m\u001B[43mb\u001B[49m\u001B[43m)\u001B[49m\n\u001B[1;32m    707\u001B[0m     \u001B[38;5;28;01mexcept\u001B[39;00m timeout:\n\u001B[1;32m    708\u001B[0m         \u001B[38;5;28mself\u001B[39m\u001B[38;5;241m.\u001B[39m_timeout_occurred \u001B[38;5;241m=\u001B[39m \u001B[38;5;28;01mTrue\u001B[39;00m\n",
      "File \u001B[0;32m/usr/lib/python3.11/ssl.py:1278\u001B[0m, in \u001B[0;36mSSLSocket.recv_into\u001B[0;34m(self, buffer, nbytes, flags)\u001B[0m\n\u001B[1;32m   1274\u001B[0m     \u001B[38;5;28;01mif\u001B[39;00m flags \u001B[38;5;241m!=\u001B[39m \u001B[38;5;241m0\u001B[39m:\n\u001B[1;32m   1275\u001B[0m         \u001B[38;5;28;01mraise\u001B[39;00m \u001B[38;5;167;01mValueError\u001B[39;00m(\n\u001B[1;32m   1276\u001B[0m           \u001B[38;5;124m\"\u001B[39m\u001B[38;5;124mnon-zero flags not allowed in calls to recv_into() on \u001B[39m\u001B[38;5;132;01m%s\u001B[39;00m\u001B[38;5;124m\"\u001B[39m \u001B[38;5;241m%\u001B[39m\n\u001B[1;32m   1277\u001B[0m           \u001B[38;5;28mself\u001B[39m\u001B[38;5;241m.\u001B[39m\u001B[38;5;18m__class__\u001B[39m)\n\u001B[0;32m-> 1278\u001B[0m     \u001B[38;5;28;01mreturn\u001B[39;00m \u001B[38;5;28;43mself\u001B[39;49m\u001B[38;5;241;43m.\u001B[39;49m\u001B[43mread\u001B[49m\u001B[43m(\u001B[49m\u001B[43mnbytes\u001B[49m\u001B[43m,\u001B[49m\u001B[43m \u001B[49m\u001B[43mbuffer\u001B[49m\u001B[43m)\u001B[49m\n\u001B[1;32m   1279\u001B[0m \u001B[38;5;28;01melse\u001B[39;00m:\n\u001B[1;32m   1280\u001B[0m     \u001B[38;5;28;01mreturn\u001B[39;00m \u001B[38;5;28msuper\u001B[39m()\u001B[38;5;241m.\u001B[39mrecv_into(buffer, nbytes, flags)\n",
      "File \u001B[0;32m/usr/lib/python3.11/ssl.py:1134\u001B[0m, in \u001B[0;36mSSLSocket.read\u001B[0;34m(self, len, buffer)\u001B[0m\n\u001B[1;32m   1132\u001B[0m \u001B[38;5;28;01mtry\u001B[39;00m:\n\u001B[1;32m   1133\u001B[0m     \u001B[38;5;28;01mif\u001B[39;00m buffer \u001B[38;5;129;01mis\u001B[39;00m \u001B[38;5;129;01mnot\u001B[39;00m \u001B[38;5;28;01mNone\u001B[39;00m:\n\u001B[0;32m-> 1134\u001B[0m         \u001B[38;5;28;01mreturn\u001B[39;00m \u001B[38;5;28;43mself\u001B[39;49m\u001B[38;5;241;43m.\u001B[39;49m\u001B[43m_sslobj\u001B[49m\u001B[38;5;241;43m.\u001B[39;49m\u001B[43mread\u001B[49m\u001B[43m(\u001B[49m\u001B[38;5;28;43mlen\u001B[39;49m\u001B[43m,\u001B[49m\u001B[43m \u001B[49m\u001B[43mbuffer\u001B[49m\u001B[43m)\u001B[49m\n\u001B[1;32m   1135\u001B[0m     \u001B[38;5;28;01melse\u001B[39;00m:\n\u001B[1;32m   1136\u001B[0m         \u001B[38;5;28;01mreturn\u001B[39;00m \u001B[38;5;28mself\u001B[39m\u001B[38;5;241m.\u001B[39m_sslobj\u001B[38;5;241m.\u001B[39mread(\u001B[38;5;28mlen\u001B[39m)\n",
      "\u001B[0;31mKeyboardInterrupt\u001B[0m: "
     ]
    }
   ],
   "source": [
    "import openeo\n",
    "c=openeo.connect(\"openeo.cloud\").authenticate_oidc()\n"
   ]
  },
  {
   "cell_type": "markdown",
   "metadata": {},
   "source": [
    "We list the available collection id's to make sure we have the right name."
   ]
  },
  {
   "cell_type": "code",
   "execution_count": 15,
   "metadata": {},
   "outputs": [
    {
     "data": {
      "text/plain": [
       "['ESA_WORLDCEREAL_ACTIVE_CROPLAND',\n",
       " 'ESA_WORLDCEREAL_ACTIVE_IRRIGATION',\n",
       " 'ESA_WORLDCEREAL_ANNUAL_CROPLAND',\n",
       " 'ESA_WORLDCEREAL_WINTER_CEREALS',\n",
       " 'ESA_WORLDCEREAL_MAIZE',\n",
       " 'ESA_WORLDCEREAL_SPRINGCEREAL']"
      ]
     },
     "execution_count": 15,
     "metadata": {},
     "output_type": "execute_result"
    }
   ],
   "source": [
    "[col['id'] for col in c.list_collections() if \"WORLDCEREAL\" in col['id']]"
   ]
  },
  {
   "cell_type": "code",
   "execution_count": 10,
   "metadata": {},
   "outputs": [
    {
     "data": {
      "text/html": [
       "\n",
       "    <script>\n",
       "    if (!window.customElements || !window.customElements.get('openeo-collection')) {\n",
       "        var el = document.createElement('script');\n",
       "        el.src = \"https://cdn.jsdelivr.net/npm/@openeo/vue-components@2/assets/openeo.min.js\";\n",
       "        document.head.appendChild(el);\n",
       "\n",
       "        var font = document.createElement('font');\n",
       "        font.as = \"font\";\n",
       "        font.type = \"font/woff2\";\n",
       "        font.crossOrigin = true;\n",
       "        font.href = \"https://use.fontawesome.com/releases/v5.13.0/webfonts/fa-solid-900.woff2\"\n",
       "        document.head.appendChild(font);\n",
       "    }\n",
       "    </script>\n",
       "    <openeo-collection>\n",
       "        <script type=\"application/json\">{\"mapOptions\": {}, \"data\": {\"cube:dimensions\": {\"bands\": {\"type\": \"bands\", \"values\": [\"classification\", \"confidence\"]}, \"t\": {\"extent\": [\"2020-09-12T00:00:00Z\", \"2021-12-20T00:00:00Z\"], \"type\": \"temporal\"}, \"x\": {\"axis\": \"x\", \"extent\": [-180.00446428571428, 179.9955357], \"reference_system\": 4326, \"step\": 8.3333333333e-05, \"type\": \"spatial\"}, \"y\": {\"axis\": \"y\", \"extent\": [-59.9955357, 80.0044643], \"reference_system\": 4326, \"step\": 8.3333333333e-05, \"type\": \"spatial\"}}, \"description\": \"Pixel-based, binary classification product at 10m spatial resolution distinguishing annual cropland from all other types of land cover. Annual cropland is defined according to the JECAM 2018 definition, in short: A piece of land that is sowed/planted and harvestable at least once within the 12 months after the sowing/planting date. The annual cropland produces an herbaceous cover which should reach a coverage of 30% and can be combined with some tree or woody vegetation not exceeding a coverage of 20%.Exception 1: Sugarcane and cassava, although perennial crops, are explicitly included.Exception 2: Frequently harvested, annual and/or perennial fodder crops such as grasslands and alfalfa are explicitly excluded.Exception 3: Greenhouse crops are excluded. This product is generated within one month after the end of the main growing season and looks back one year in time.\", \"experimental\": true, \"extent\": {\"spatial\": {\"bbox\": [[-180.00446428571428, -59.9955357, 179.9955357, 80.0044643]]}, \"temporal\": {\"interval\": [[\"2020-09-12T00:00:00Z\", \"2021-12-20T00:00:00Z\"]]}}, \"id\": \"ESA_WORLDCEREAL_MAIZE\", \"item_assets\": {\"classification\": {\"eo:bands\": [{\"description\": \"classification band\", \"name\": \"classification\"}, {\"description\": \"confidence band\", \"name\": \"confidence\"}], \"proj:epsg\": 4326, \"raster:bands\": [{\"classification:classes\": [{\"description\": \"pixel not marked as maize\", \"name\": \"not cropland\", \"value\": 0}, {\"description\": \"classified as maize in the respective season\", \"name\": \"cropland\", \"value\": 100}]}, {}], \"title\": \"classification tiff\", \"type\": \"image/tiff; application=geotiff; profile=cloud-optimized\"}}, \"license\": \"CC-BY 4.0 - https://creativecommons.org/licenses/by/4.0/\", \"links\": [{\"href\": \"https://esa-worldcereal.org\", \"rel\": \"alternate\", \"title\": \"Product web page.\"}], \"providers\": [{\"name\": \"ESA\", \"roles\": [\"licensor\"], \"url\": \"https://esa-worldcereal.org\"}, {\"name\": \"VITO\", \"processing:level\": \"L4\", \"processing:software\": {\"WorldCereal\": \"1.0\"}, \"roles\": [\"producer\", \"host\"]}], \"stac_extensions\": [\"https://stac-extensions.github.io/datacube/v2.2.0/schema.json\", \"https://stac-extensions.github.io/eo/v1.1.0/schema.json\"], \"stac_version\": \"0.9.0\", \"summaries\": {}, \"title\": \"ESA WorldCereal maize\"}}</script>\n",
       "    </openeo-collection>\n",
       "    "
      ],
      "text/plain": [
       "{'cube:dimensions': {'bands': {'type': 'bands',\n",
       "   'values': ['classification', 'confidence']},\n",
       "  't': {'extent': ['2020-09-12T00:00:00Z', '2021-12-20T00:00:00Z'],\n",
       "   'type': 'temporal'},\n",
       "  'x': {'axis': 'x',\n",
       "   'extent': [-180.00446428571428, 179.9955357],\n",
       "   'reference_system': 4326,\n",
       "   'step': 8.3333333333e-05,\n",
       "   'type': 'spatial'},\n",
       "  'y': {'axis': 'y',\n",
       "   'extent': [-59.9955357, 80.0044643],\n",
       "   'reference_system': 4326,\n",
       "   'step': 8.3333333333e-05,\n",
       "   'type': 'spatial'}},\n",
       " 'description': 'Pixel-based, binary classification product at 10m spatial resolution distinguishing annual cropland from all other types of land cover. Annual cropland is defined according to the JECAM 2018 definition, in short: A piece of land that is sowed/planted and harvestable at least once within the 12 months after the sowing/planting date. The annual cropland produces an herbaceous cover which should reach a coverage of 30% and can be combined with some tree or woody vegetation not exceeding a coverage of 20%.Exception 1: Sugarcane and cassava, although perennial crops, are explicitly included.Exception 2: Frequently harvested, annual and/or perennial fodder crops such as grasslands and alfalfa are explicitly excluded.Exception 3: Greenhouse crops are excluded. This product is generated within one month after the end of the main growing season and looks back one year in time.',\n",
       " 'experimental': True,\n",
       " 'extent': {'spatial': {'bbox': [[-180.00446428571428,\n",
       "     -59.9955357,\n",
       "     179.9955357,\n",
       "     80.0044643]]},\n",
       "  'temporal': {'interval': [['2020-09-12T00:00:00Z',\n",
       "     '2021-12-20T00:00:00Z']]}},\n",
       " 'id': 'ESA_WORLDCEREAL_MAIZE',\n",
       " 'item_assets': {'classification': {'eo:bands': [{'description': 'classification band',\n",
       "     'name': 'classification'},\n",
       "    {'description': 'confidence band', 'name': 'confidence'}],\n",
       "   'proj:epsg': 4326,\n",
       "   'raster:bands': [{'classification:classes': [{'description': 'pixel not marked as maize',\n",
       "       'name': 'not cropland',\n",
       "       'value': 0},\n",
       "      {'description': 'classified as maize in the respective season',\n",
       "       'name': 'cropland',\n",
       "       'value': 100}]},\n",
       "    {}],\n",
       "   'title': 'classification tiff',\n",
       "   'type': 'image/tiff; application=geotiff; profile=cloud-optimized'}},\n",
       " 'license': 'CC-BY 4.0 - https://creativecommons.org/licenses/by/4.0/',\n",
       " 'links': [{'href': 'https://esa-worldcereal.org',\n",
       "   'rel': 'alternate',\n",
       "   'title': 'Product web page.'}],\n",
       " 'providers': [{'name': 'ESA',\n",
       "   'roles': ['licensor'],\n",
       "   'url': 'https://esa-worldcereal.org'},\n",
       "  {'name': 'VITO',\n",
       "   'processing:level': 'L4',\n",
       "   'processing:software': {'WorldCereal': '1.0'},\n",
       "   'roles': ['producer', 'host']}],\n",
       " 'stac_extensions': ['https://stac-extensions.github.io/datacube/v2.2.0/schema.json',\n",
       "  'https://stac-extensions.github.io/eo/v1.1.0/schema.json'],\n",
       " 'stac_version': '0.9.0',\n",
       " 'summaries': {},\n",
       " 'title': 'ESA WorldCereal maize'}"
      ]
     },
     "execution_count": 10,
     "metadata": {},
     "output_type": "execute_result"
    }
   ],
   "source": [
    "c.describe_collection(\"ESA_WORLDCEREAL_MAIZE\")"
   ]
  },
  {
   "cell_type": "code",
   "execution_count": 20,
   "metadata": {
    "pycharm": {
     "is_executing": true
    }
   },
   "outputs": [],
   "source": [
    "extent = {'west': 2.7149874658984685, 'south': 49.427531592635745, 'east': 4.815872488508154,\n",
    "                   'north': 52.84848176724242, 'crs': 'EPSG:4326'}\n",
    "maize = c.load_collection(\"ESA_WORLDCEREAL_MAIZE\",\n",
    "                         temporal_extent= ('2019-08-01T00:00:00Z', '2022-08-14T00:00:00Z'),\n",
    "                         spatial_extent=extent,\n",
    "                         bands=[\"classification\",\"confidence\"])\n",
    "winter = c.load_collection(\"ESA_WORLDCEREAL_WINTER_CEREALS\",\n",
    "                         temporal_extent= ('2019-08-01T00:00:00Z', '2022-08-14T00:00:00Z'),\n",
    "                         spatial_extent=extent,\n",
    "                         bands=[\"classification\",\"confidence\"]).apply(lambda x:x+1)\n",
    "spring = c.load_collection(\"ESA_WORLDCEREAL_SPRINGCEREAL\",\n",
    "                         temporal_extent= ('2019-08-01T00:00:00Z', '2022-08-14T00:00:00Z'),\n",
    "                         spatial_extent=extent,\n",
    "                         bands=[\"classification\",\"confidence\"]).apply(lambda x:x+2)\n",
    "\n",
    "combined = maize.merge_cubes(winter, overlap_resolver=\"sum\").merge_cubes(spring, overlap_resolver=\"sum\")\n"
   ]
  },
  {
   "cell_type": "code",
   "execution_count": 22,
   "metadata": {},
   "outputs": [
    {
     "name": "stdout",
     "output_type": "stream",
     "text": [
      "0:00:00 Job 'j-40f9fedc051a4746b94804fd3c916a35': send 'start'\n",
      "0:00:24 Job 'j-40f9fedc051a4746b94804fd3c916a35': queued (progress N/A)\n",
      "0:00:29 Job 'j-40f9fedc051a4746b94804fd3c916a35': queued (progress N/A)\n",
      "0:00:36 Job 'j-40f9fedc051a4746b94804fd3c916a35': queued (progress N/A)\n",
      "0:00:44 Job 'j-40f9fedc051a4746b94804fd3c916a35': queued (progress N/A)\n",
      "0:00:54 Job 'j-40f9fedc051a4746b94804fd3c916a35': queued (progress N/A)\n",
      "0:01:07 Job 'j-40f9fedc051a4746b94804fd3c916a35': queued (progress N/A)\n",
      "0:01:22 Job 'j-40f9fedc051a4746b94804fd3c916a35': queued (progress N/A)\n",
      "0:01:42 Job 'j-40f9fedc051a4746b94804fd3c916a35': queued (progress N/A)\n",
      "0:02:06 Job 'j-40f9fedc051a4746b94804fd3c916a35': running (progress N/A)\n",
      "0:02:36 Job 'j-40f9fedc051a4746b94804fd3c916a35': running (progress N/A)\n",
      "0:03:14 Job 'j-40f9fedc051a4746b94804fd3c916a35': running (progress N/A)\n",
      "0:04:01 Job 'j-40f9fedc051a4746b94804fd3c916a35': running (progress N/A)\n",
      "0:04:59 Job 'j-40f9fedc051a4746b94804fd3c916a35': running (progress N/A)\n",
      "0:06:00 Job 'j-40f9fedc051a4746b94804fd3c916a35': running (progress N/A)\n",
      "0:07:00 Job 'j-40f9fedc051a4746b94804fd3c916a35': running (progress N/A)\n",
      "0:08:00 Job 'j-40f9fedc051a4746b94804fd3c916a35': running (progress N/A)\n",
      "0:09:00 Job 'j-40f9fedc051a4746b94804fd3c916a35': running (progress N/A)\n",
      "0:10:01 Job 'j-40f9fedc051a4746b94804fd3c916a35': running (progress N/A)\n",
      "0:11:02 Job 'j-40f9fedc051a4746b94804fd3c916a35': running (progress N/A)\n",
      "0:12:02 Job 'j-40f9fedc051a4746b94804fd3c916a35': running (progress N/A)\n",
      "0:13:02 Job 'j-40f9fedc051a4746b94804fd3c916a35': running (progress N/A)\n",
      "0:14:02 Job 'j-40f9fedc051a4746b94804fd3c916a35': running (progress N/A)\n",
      "0:15:03 Job 'j-40f9fedc051a4746b94804fd3c916a35': running (progress N/A)\n",
      "0:16:03 Job 'j-40f9fedc051a4746b94804fd3c916a35': running (progress N/A)\n",
      "0:17:03 Job 'j-40f9fedc051a4746b94804fd3c916a35': running (progress N/A)\n",
      "0:18:03 Job 'j-40f9fedc051a4746b94804fd3c916a35': running (progress N/A)\n",
      "0:19:04 Job 'j-40f9fedc051a4746b94804fd3c916a35': running (progress N/A)\n",
      "0:20:04 Job 'j-40f9fedc051a4746b94804fd3c916a35': finished (progress N/A)\n"
     ]
    },
    {
     "data": {
      "text/html": [
       "\n",
       "    <script>\n",
       "    if (!window.customElements || !window.customElements.get('openeo-job')) {\n",
       "        var el = document.createElement('script');\n",
       "        el.src = \"https://cdn.jsdelivr.net/npm/@openeo/vue-components@2/assets/openeo.min.js\";\n",
       "        document.head.appendChild(el);\n",
       "\n",
       "        var font = document.createElement('font');\n",
       "        font.as = \"font\";\n",
       "        font.type = \"font/woff2\";\n",
       "        font.crossOrigin = true;\n",
       "        font.href = \"https://use.fontawesome.com/releases/v5.13.0/webfonts/fa-solid-900.woff2\"\n",
       "        document.head.appendChild(font);\n",
       "    }\n",
       "    </script>\n",
       "    <openeo-job>\n",
       "        <script type=\"application/json\">{\"currency\": \"credits\", \"job\": {\"costs\": 202.0, \"created\": \"2023-05-05T18:52:16Z\", \"id\": \"j-40f9fedc051a4746b94804fd3c916a35\", \"process\": {\"process_graph\": {\"apply1\": {\"arguments\": {\"data\": {\"from_node\": \"loadcollection2\"}, \"process\": {\"process_graph\": {\"add1\": {\"arguments\": {\"x\": {\"from_parameter\": \"x\"}, \"y\": 1}, \"process_id\": \"add\", \"result\": true}}}}, \"process_id\": \"apply\"}, \"apply2\": {\"arguments\": {\"data\": {\"from_node\": \"loadcollection3\"}, \"process\": {\"process_graph\": {\"add2\": {\"arguments\": {\"x\": {\"from_parameter\": \"x\"}, \"y\": 2}, \"process_id\": \"add\", \"result\": true}}}}, \"process_id\": \"apply\"}, \"loadcollection1\": {\"arguments\": {\"bands\": [\"classification\", \"confidence\"], \"id\": \"ESA_WORLDCEREAL_MAIZE\", \"spatial_extent\": {\"crs\": \"EPSG:4326\", \"east\": 4.815872488508154, \"north\": 52.84848176724242, \"south\": 49.427531592635745, \"west\": 2.7149874658984685}, \"temporal_extent\": [\"2019-08-01T00:00:00Z\", \"2022-08-14T00:00:00Z\"]}, \"process_id\": \"load_collection\"}, \"loadcollection2\": {\"arguments\": {\"bands\": [\"classification\", \"confidence\"], \"id\": \"ESA_WORLDCEREAL_WINTER_CEREALS\", \"spatial_extent\": {\"crs\": \"EPSG:4326\", \"east\": 4.815872488508154, \"north\": 52.84848176724242, \"south\": 49.427531592635745, \"west\": 2.7149874658984685}, \"temporal_extent\": [\"2019-08-01T00:00:00Z\", \"2022-08-14T00:00:00Z\"]}, \"process_id\": \"load_collection\"}, \"loadcollection3\": {\"arguments\": {\"bands\": [\"classification\", \"confidence\"], \"id\": \"ESA_WORLDCEREAL_SPRINGCEREAL\", \"spatial_extent\": {\"crs\": \"EPSG:4326\", \"east\": 4.815872488508154, \"north\": 52.84848176724242, \"south\": 49.427531592635745, \"west\": 2.7149874658984685}, \"temporal_extent\": [\"2019-08-01T00:00:00Z\", \"2022-08-14T00:00:00Z\"]}, \"process_id\": \"load_collection\"}, \"mergecubes1\": {\"arguments\": {\"cube1\": {\"from_node\": \"loadcollection1\"}, \"cube2\": {\"from_node\": \"apply1\"}, \"overlap_resolver\": {\"process_graph\": {\"sum1\": {\"arguments\": {\"data\": [{\"from_parameter\": \"x\"}, {\"from_parameter\": \"y\"}]}, \"process_id\": \"sum\", \"result\": true}}}}, \"process_id\": \"merge_cubes\"}, \"mergecubes2\": {\"arguments\": {\"cube1\": {\"from_node\": \"mergecubes1\"}, \"cube2\": {\"from_node\": \"apply2\"}, \"overlap_resolver\": {\"process_graph\": {\"sum2\": {\"arguments\": {\"data\": [{\"from_parameter\": \"x\"}, {\"from_parameter\": \"y\"}]}, \"process_id\": \"sum\", \"result\": true}}}}, \"process_id\": \"merge_cubes\"}, \"saveresult1\": {\"arguments\": {\"data\": {\"from_node\": \"mergecubes2\"}, \"format\": \"netCDF\", \"options\": {}}, \"process_id\": \"save_result\", \"result\": true}}}, \"status\": \"finished\", \"updated\": \"2023-05-05T18:52:40Z\", \"usage\": {\"cpu\": {\"unit\": \"cpu-seconds\", \"value\": 182023}, \"duration\": {\"unit\": \"seconds\", \"value\": 1066}, \"memory\": {\"unit\": \"mb-seconds\", \"value\": 463384084}}}}</script>\n",
       "    </openeo-job>\n",
       "    "
      ],
      "text/plain": [
       "<BatchJob job_id='j-40f9fedc051a4746b94804fd3c916a35'>"
      ]
     },
     "execution_count": 22,
     "metadata": {},
     "output_type": "execute_result"
    }
   ],
   "source": [
    "combined.execute_batch(\"worldcereal_combined.nc\")"
   ]
  }
 ],
 "metadata": {
  "kernelspec": {
   "display_name": "Python 3 (ipykernel)",
   "language": "python",
   "name": "python3"
  },
  "language_info": {
   "codemirror_mode": {
    "name": "ipython",
    "version": 3
   },
   "file_extension": ".py",
   "mimetype": "text/x-python",
   "name": "python",
   "nbconvert_exporter": "python",
   "pygments_lexer": "ipython3",
   "version": "3.11.3"
  }
 },
 "nbformat": 4,
 "nbformat_minor": 1
}
