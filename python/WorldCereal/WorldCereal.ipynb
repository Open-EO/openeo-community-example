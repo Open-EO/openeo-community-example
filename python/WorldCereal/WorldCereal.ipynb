{
 "cells": [
  {
   "cell_type": "markdown",
   "metadata": {},
   "source": [
    "# WorldCereal product download\n",
    "\n",
    "This example illustrates the use of openEO for combining and downloading data from the [ESA WorldCereal](https://esa-worldcereal.org) project.\n",
    "\n",
    "This project provides a global map of cereals for 2021 at 10m resolution! It can be used as an important base layer for agriculture use cases. Combined with the power of openEO, you can easily generate agricultural statistics over an area of interest, or use this data as a masking layer in an advanced workflow.\n",
    "\n",
    "In this example, we'll illustrate a fairly simple case of combining two collections into a single image file."
   ]
  },
  {
   "cell_type": "code",
   "execution_count": 1,
   "metadata": {
    "pycharm": {
     "is_executing": true
    }
   },
   "outputs": [
    {
     "name": "stdout",
     "output_type": "stream",
     "text": [
      "Authenticated using refresh token.\n"
     ]
    }
   ],
   "source": [
    "import openeo\n",
    "c=openeo.connect(\"openeo.cloud\").authenticate_oidc()"
   ]
  },
  {
   "cell_type": "markdown",
   "metadata": {},
   "source": [
    "We list the available collection id's to make sure we have the right name."
   ]
  },
  {
   "cell_type": "code",
   "execution_count": 2,
   "metadata": {},
   "outputs": [
    {
     "data": {
      "text/plain": [
       "['ESA_WORLDCEREAL_ACTIVECROPLAND',\n",
       " 'ESA_WORLDCEREAL_IRRIGATION',\n",
       " 'ESA_WORLDCEREAL_TEMPORARYCROPS',\n",
       " 'ESA_WORLDCEREAL_WINTERCEREALS',\n",
       " 'ESA_WORLDCEREAL_MAIZE',\n",
       " 'ESA_WORLDCEREAL_SPRINGCEREALS ']"
      ]
     },
     "execution_count": 2,
     "metadata": {},
     "output_type": "execute_result"
    }
   ],
   "source": [
    "[col['id'] for col in c.list_collections() if \"WORLDCEREAL\" in col['id']]"
   ]
  },
  {
   "cell_type": "code",
   "execution_count": 3,
   "metadata": {},
   "outputs": [
    {
     "data": {
      "text/html": [
       "\n",
       "    <script>\n",
       "    if (!window.customElements || !window.customElements.get('openeo-collection')) {\n",
       "        var el = document.createElement('script');\n",
       "        el.src = \"https://cdn.jsdelivr.net/npm/@openeo/vue-components@2/assets/openeo.min.js\";\n",
       "        document.head.appendChild(el);\n",
       "\n",
       "        var font = document.createElement('font');\n",
       "        font.as = \"font\";\n",
       "        font.type = \"font/woff2\";\n",
       "        font.crossOrigin = true;\n",
       "        font.href = \"https://use.fontawesome.com/releases/v5.13.0/webfonts/fa-solid-900.woff2\"\n",
       "        document.head.appendChild(font);\n",
       "    }\n",
       "    </script>\n",
       "    <openeo-collection>\n",
       "        <script type=\"application/json\">{\"mapOptions\": {}, \"data\": {\"cube:dimensions\": {\"bands\": {\"type\": \"bands\", \"values\": [\"classification\", \"confidence\"]}, \"t\": {\"extent\": [\"2020-09-12T00:00:00Z\", \"2021-12-20T00:00:00Z\"], \"type\": \"temporal\"}, \"x\": {\"axis\": \"x\", \"extent\": [-180.00446428571428, 179.9955357], \"reference_system\": 4326, \"step\": 8.3333333333e-05, \"type\": \"spatial\"}, \"y\": {\"axis\": \"y\", \"extent\": [-59.9955357, 80.0044643], \"reference_system\": 4326, \"step\": 8.3333333333e-05, \"type\": \"spatial\"}}, \"description\": \"WorldCereal maize, globally, at 10m resolution in specific seasons throughout the year. \\n\\n ##Seasons\\n\\n The date of observations in this collection is the start date of the season. This start date varies depending on the agro-ecological zone. WorldCereal defines these seasons:\\n * wintercereals\\n* maize main \\n* maize second\\n \", \"experimental\": true, \"extent\": {\"spatial\": {\"bbox\": [[-180.00446428571428, -59.9955357, 179.9955357, 80.0044643]]}, \"temporal\": {\"interval\": [[\"2020-09-12T00:00:00Z\", \"2021-12-20T00:00:00Z\"]]}}, \"id\": \"ESA_WORLDCEREAL_MAIZE\", \"item_assets\": {\"classification\": {\"eo:bands\": [{\"description\": \"classification band\", \"name\": \"classification\"}, {\"description\": \"confidence band\", \"name\": \"confidence\"}], \"gsd\": 10, \"proj:epsg\": 4326, \"raster:bands\": [{\"classification:classes\": [{\"description\": \"pixel not marked as maize\", \"name\": \"not cropland\", \"value\": 0}, {\"description\": \"classified as maize in the respective season\", \"name\": \"cropland\", \"value\": 100}]}, {}], \"title\": \"classification tiff\", \"type\": \"image/tiff; application=geotiff; profile=cloud-optimized\"}}, \"license\": \"CC-BY-4.0\", \"links\": [{\"href\": \"https://esa-worldcereal.org\", \"rel\": \"alternate\", \"title\": \"Product web page.\"}, {\"href\": \"https://openeocloud.vito.be/openeo/1.0.0/collections\", \"rel\": \"root\"}, {\"href\": \"https://openeocloud.vito.be/openeo/1.0.0/collections\", \"rel\": \"parent\"}, {\"href\": \"https://openeocloud.vito.be/openeo/1.0.0/collections/ESA_WORLDCEREAL_MAIZE\", \"rel\": \"self\"}], \"providers\": [{\"name\": \"ESA\", \"roles\": [\"licensor\"], \"url\": \"https://esa-worldcereal.org\"}, {\"description\": \"VITO remote sensing lead the consortium that produced the WorldCereal product on behalf of ESA. VITO also hosts the resulting archive.\", \"name\": \"VITO\", \"processing:level\": \"L4\", \"processing:software\": {\"WorldCereal\": \"1.0\"}, \"roles\": [\"producer\", \"host\"]}], \"stac_extensions\": [\"https://stac-extensions.github.io/datacube/v2.2.0/schema.json\", \"https://stac-extensions.github.io/eo/v1.1.0/schema.json\"], \"stac_version\": \"0.9.0\", \"summaries\": {\"federation:backends\": [\"vito\"]}, \"title\": \"ESA WorldCereal maize\"}}</script>\n",
       "    </openeo-collection>\n",
       "    "
      ],
      "text/plain": [
       "{'cube:dimensions': {'bands': {'type': 'bands',\n",
       "   'values': ['classification', 'confidence']},\n",
       "  't': {'extent': ['2020-09-12T00:00:00Z', '2021-12-20T00:00:00Z'],\n",
       "   'type': 'temporal'},\n",
       "  'x': {'axis': 'x',\n",
       "   'extent': [-180.00446428571428, 179.9955357],\n",
       "   'reference_system': 4326,\n",
       "   'step': 8.3333333333e-05,\n",
       "   'type': 'spatial'},\n",
       "  'y': {'axis': 'y',\n",
       "   'extent': [-59.9955357, 80.0044643],\n",
       "   'reference_system': 4326,\n",
       "   'step': 8.3333333333e-05,\n",
       "   'type': 'spatial'}},\n",
       " 'description': 'WorldCereal maize, globally, at 10m resolution in specific seasons throughout the year. \\n\\n ##Seasons\\n\\n The date of observations in this collection is the start date of the season. This start date varies depending on the agro-ecological zone. WorldCereal defines these seasons:\\n * wintercereals\\n* maize main \\n* maize second\\n ',\n",
       " 'experimental': True,\n",
       " 'extent': {'spatial': {'bbox': [[-180.00446428571428,\n",
       "     -59.9955357,\n",
       "     179.9955357,\n",
       "     80.0044643]]},\n",
       "  'temporal': {'interval': [['2020-09-12T00:00:00Z',\n",
       "     '2021-12-20T00:00:00Z']]}},\n",
       " 'id': 'ESA_WORLDCEREAL_MAIZE',\n",
       " 'item_assets': {'classification': {'eo:bands': [{'description': 'classification band',\n",
       "     'name': 'classification'},\n",
       "    {'description': 'confidence band', 'name': 'confidence'}],\n",
       "   'gsd': 10,\n",
       "   'proj:epsg': 4326,\n",
       "   'raster:bands': [{'classification:classes': [{'description': 'pixel not marked as maize',\n",
       "       'name': 'not cropland',\n",
       "       'value': 0},\n",
       "      {'description': 'classified as maize in the respective season',\n",
       "       'name': 'cropland',\n",
       "       'value': 100}]},\n",
       "    {}],\n",
       "   'title': 'classification tiff',\n",
       "   'type': 'image/tiff; application=geotiff; profile=cloud-optimized'}},\n",
       " 'license': 'CC-BY-4.0',\n",
       " 'links': [{'href': 'https://esa-worldcereal.org',\n",
       "   'rel': 'alternate',\n",
       "   'title': 'Product web page.'},\n",
       "  {'href': 'https://openeocloud.vito.be/openeo/1.0.0/collections',\n",
       "   'rel': 'root'},\n",
       "  {'href': 'https://openeocloud.vito.be/openeo/1.0.0/collections',\n",
       "   'rel': 'parent'},\n",
       "  {'href': 'https://openeocloud.vito.be/openeo/1.0.0/collections/ESA_WORLDCEREAL_MAIZE',\n",
       "   'rel': 'self'}],\n",
       " 'providers': [{'name': 'ESA',\n",
       "   'roles': ['licensor'],\n",
       "   'url': 'https://esa-worldcereal.org'},\n",
       "  {'description': 'VITO remote sensing lead the consortium that produced the WorldCereal product on behalf of ESA. VITO also hosts the resulting archive.',\n",
       "   'name': 'VITO',\n",
       "   'processing:level': 'L4',\n",
       "   'processing:software': {'WorldCereal': '1.0'},\n",
       "   'roles': ['producer', 'host']}],\n",
       " 'stac_extensions': ['https://stac-extensions.github.io/datacube/v2.2.0/schema.json',\n",
       "  'https://stac-extensions.github.io/eo/v1.1.0/schema.json'],\n",
       " 'stac_version': '0.9.0',\n",
       " 'summaries': {'federation:backends': ['vito']},\n",
       " 'title': 'ESA WorldCereal maize'}"
      ]
     },
     "execution_count": 3,
     "metadata": {},
     "output_type": "execute_result"
    }
   ],
   "source": [
    "c.describe_collection(\"ESA_WORLDCEREAL_MAIZE\")"
   ]
  },
  {
   "cell_type": "markdown",
   "metadata": {},
   "source": [
    "In the following block, we combine two WorldCereal collections into a single output. \n",
    "The formula used here is just an example, and can be made much more complex depending on your use case."
   ]
  },
  {
   "cell_type": "code",
   "execution_count": 4,
   "metadata": {
    "pycharm": {
     "is_executing": true
    }
   },
   "outputs": [],
   "source": [
    "extent = {'west': 3.0, 'south': 50.0, 'east': 4.0, 'north': 51.0, 'crs': 'EPSG:4326'}\n",
    "temporal = ('2020-09-01T00:00:00Z', '2021-12-31T00:00:00Z')\n",
    "maize = c.load_collection(\"ESA_WORLDCEREAL_MAIZE\",\n",
    "                         temporal_extent= temporal,\n",
    "                         spatial_extent=extent,\n",
    "                         bands=[\"classification\"])\n",
    "winter = c.load_collection(\"ESA_WORLDCEREAL_WINTERCEREALS\",\n",
    "                         temporal_extent= temporal,\n",
    "                         spatial_extent=extent,\n",
    "                         bands=[\"classification\"]).apply(lambda x:100*(x+10))\n",
    "\n",
    "combined = maize.merge_cubes(winter, overlap_resolver=\"sum\")\n"
   ]
  },
  {
   "cell_type": "markdown",
   "metadata": {},
   "source": [
    "We now have defined what openEO calls a 'process graph', but still need to execute it.\n",
    "We will use an 'asynchronous' [batch job](https://open-eo.github.io/openeo-python-client/batch_jobs.html#batch-jobs) that gets sent to the server, as it can take a longer time to execute.\n",
    "\n",
    "When finished, this command will automatically download the result from openEO to your local working directory.\n",
    "You can also follow the progress and view results in the [openEO web editor](https://editor.openeo.cloud)."
   ]
  },
  {
   "cell_type": "code",
   "execution_count": null,
   "metadata": {},
   "outputs": [],
   "source": [
    "job = combined.execute_batch(\"worldcereal_combined.nc\")"
   ]
  },
  {
   "cell_type": "code",
   "execution_count": null,
   "metadata": {},
   "outputs": [],
   "source": [
    "job.get_results()"
   ]
  }
 ],
 "metadata": {
  "kernelspec": {
   "display_name": "Python 3 (ipykernel)",
   "language": "python",
   "name": "python3"
  },
  "language_info": {
   "codemirror_mode": {
    "name": "ipython",
    "version": 3
   },
   "file_extension": ".py",
   "mimetype": "text/x-python",
   "name": "python",
   "nbconvert_exporter": "python",
   "pygments_lexer": "ipython3",
   "version": "3.11.3"
  }
 },
 "nbformat": 4,
 "nbformat_minor": 1
}
