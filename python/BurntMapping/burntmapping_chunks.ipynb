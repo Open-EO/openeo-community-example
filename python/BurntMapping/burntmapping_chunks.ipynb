{
 "cells": [
  {
   "attachments": {},
   "cell_type": "markdown",
   "id": "fdb556f7",
   "metadata": {},
   "source": [
    "# Burnt area mapping using chunk_polygon on UDF\n",
    "\n",
    "In this notebook classical Normalized Burnt Ratio(NBR) difference is performedon a chunk of polygons. You can find ways to develop your process and use chunk_polygon on a usecase. The method followed in this notebook to compute DNBR is inspired from [UN SPIDER's](https://github.com/UN-SPIDER/burn-severity-mapping-EO) recommended preactices.\n",
    "\n",
    "(To be noted: chunk_polygon are experimental at the moment)"
   ]
  },
  {
   "cell_type": "code",
   "execution_count": 1,
   "id": "8d769660",
   "metadata": {},
   "outputs": [
    {
     "name": "stdout",
     "output_type": "stream",
     "text": [
      "Authenticated using refresh token.\n"
     ]
    }
   ],
   "source": [
    "# import necessary packages\n",
    "import openeo\n",
    "from openeo.api.process import Parameter\n",
    "import json\n",
    "from pathlib import Path\n",
    "import matplotlib.pyplot as plt\n",
    "import rasterio\n",
    "import numpy as np\n",
    "\n",
    "# connect with the backend\n",
    "eoconn = openeo.connect(\"openeo.vito.be\").authenticate_oidc()"
   ]
  },
  {
   "cell_type": "markdown",
   "id": "72840ce8",
   "metadata": {},
   "source": [
    "User can choose among different backend available [here](https://hub.openeo.org/) to connect to their choice of backend. Regarding the authentication process OpenID connect (oidc) is recommended, but not always straightforward to use. In cases where you are unable to connect with the backend use basic authentication method explained [here](https://openeo.org/documentation/1.0/authentication.html#openid-connect)."
   ]
  },
  {
   "cell_type": "code",
   "execution_count": 2,
   "id": "79055465",
   "metadata": {},
   "outputs": [],
   "source": [
    "# function to load geojson file\n",
    "def read_json(path: Path) -> dict:\n",
    "    with open(path) as input:\n",
    "        field = json.load(input)\n",
    "        input.close()\n",
    "    return field"
   ]
  },
  {
   "cell_type": "markdown",
   "id": "cc43abc0",
   "metadata": {},
   "source": [
    "To use the data collection, a user must use the correct backend with the data collection. Then using [load_collection](https://open-eo.github.io/openeo-python-client/datacube_construction.html#the-load-collection-process), they can specify bands, temporal extent (i.e. interested time interval) and even spatial extent. In this example, we have loaded the entire collection so that process (including UDF) can later be applied to spatial chunks. "
   ]
  },
  {
   "cell_type": "code",
   "execution_count": 3,
   "id": "6f42a9a4",
   "metadata": {},
   "outputs": [],
   "source": [
    "# load datacube for beforeand after fire \n",
    "before_date = [\"2021-01-12\",\"2021-03-12\"]\n",
    "after_date = [\"2021-05-18\", \"2021-07-18\"]\n",
    "\n",
    "before_cube = eoconn.load_collection(\n",
    "                            \"SENTINEL2_L1C_SENTINELHUB\",\n",
    "                            temporal_extent = before_date,\n",
    "                            bands = ['B08','B12']\n",
    "                            )\n",
    "after_cube = eoconn.load_collection(\n",
    "                            \"SENTINEL2_L1C_SENTINELHUB\",\n",
    "                            temporal_extent = after_date,\n",
    "                            bands = ['B08','B12'],\n",
    "                            )"
   ]
  },
  {
   "cell_type": "markdown",
   "id": "f9bf221e",
   "metadata": {},
   "source": [
    "Here we tried in presenting a method to create and use UDF as an openEO feature. In a similar manner user can create their own UDF as needed to apply to their data cube. More information on [UDF](https://open-eo.github.io/openeo-python-client/udf.html). The reason to create UDF openEO, is similar to creating a function in general python i.e to avoid recursive script.\n",
    "\n",
    "Our UDF computes Normalised Burnt Ratio (NBR) from the selected band by performing simple band computation and returns a NBR datacube."
   ]
  },
  {
   "cell_type": "code",
   "execution_count": 4,
   "id": "0a6765c3",
   "metadata": {},
   "outputs": [],
   "source": [
    "# Create a UDF object from inline source code for computing nbr\n",
    "my_code = \"\"\"\n",
    "from openeo.udf import XarrayDataCube\n",
    "\n",
    "\n",
    "def apply_datacube(cube: XarrayDataCube, context: dict) -> XarrayDataCube:\n",
    "    # access the underlying xarray\n",
    "    inarr = cube.get_array()\n",
    "\n",
    "    # nbr\n",
    "    nir = inarr.loc[:,'B08']\n",
    "    swir = inarr.loc[:,'B12']\n",
    "    nbr = (nir-swir)/(nir+swir)\n",
    "    \n",
    "    # extend bands dim\n",
    "    nbr=nbr.expand_dims(dim='bands', axis=-3).assign_coords(bands=['nbr'])\n",
    "    \n",
    "    # wrap back to datacube and return\n",
    "    return XarrayDataCube(nbr)\n",
    "\"\"\"\n",
    "udf_process = lambda data: data.run_udf(udf=my_code,runtime='python')"
   ]
  },
  {
   "cell_type": "markdown",
   "id": "8dc62d0a",
   "metadata": {},
   "source": [
    "We used the chunk_polygon method to apply our UDF over a spatial chunk of the datacube. In the case of a simple process that does not require UDF, you can directly load your spatial extent in the dataset. "
   ]
  },
  {
   "cell_type": "code",
   "execution_count": 5,
   "id": "113c5a4e",
   "metadata": {},
   "outputs": [],
   "source": [
    "#specify aoi chunks\n",
    "spatial_param = read_json(\"cal_aoi_v2.geojson\") \n",
    "\n",
    "# compute nbr for pre and post datacube\n",
    "pre_nbr = before_cube.chunk_polygon(chunks=spatial_param,process=udf_process)\n",
    "post_nbr = after_cube.chunk_polygon(chunks=spatial_param,process=udf_process)"
   ]
  },
  {
   "attachments": {},
   "cell_type": "markdown",
   "id": "542e8d43",
   "metadata": {},
   "source": [
    "Furthermore, since we loaded our collection for specific time intervals, it can include multiple time dimensions. Thus [reduce_dimension](https://processes.openeo.org/#reduce_dimension) applies a reducer to a data cube dimension by collapsing all the pixel values along the time dimension into an output value computed by the reducer."
   ]
  },
  {
   "cell_type": "code",
   "execution_count": 6,
   "id": "8cdd717e",
   "metadata": {},
   "outputs": [],
   "source": [
    "# perform time dimension reduction\n",
    "pre_n = pre_nbr.reduce_dimension(dimension=\"t\", reducer=\"mean\")\n",
    "post_n = post_nbr.reduce_dimension(dimension=\"t\", reducer=\"mean\")\n",
    "\n",
    "# find the difference between pre and post image\n",
    "sub = post_n-pre_n"
   ]
  },
  {
   "cell_type": "markdown",
   "id": "3030d207",
   "metadata": {},
   "source": [
    "Once the process is completed, you can also save it as your process using [save_user_defined_process](https://open-eo.github.io/openeo-python-client/udp.html) that can later be used for a similar task. Otherwise, you can download the result either by direct download (in case of the small spatial extent with few processing) or perform create a [batch job](https://open-eo.github.io/openeo-python-client/batch_jobs.html) in case it is a heavy task over a large extent."
   ]
  },
  {
   "cell_type": "code",
   "execution_count": 7,
   "id": "81e152e7",
   "metadata": {},
   "outputs": [],
   "source": [
    "#download your output\n",
    "sub.download(\"sub_nbr_udf.tiff\")"
   ]
  },
  {
   "cell_type": "code",
   "execution_count": 8,
   "id": "af9f8dff",
   "metadata": {},
   "outputs": [
    {
     "data": {
      "image/png": "[encoded data removed]",
      "text/plain": [
       "<Figure size 720x720 with 2 Axes>"
      ]
     },
     "metadata": {
      "needs_background": "light"
     },
     "output_type": "display_data"
    }
   ],
   "source": [
    "#set colors for plotting and classes based on UN SPIDER recommended practices\n",
    "import matplotlib\n",
    "img = rasterio.open(\"sub_nbr_udf.tiff\").read()\n",
    "cmap = matplotlib.colors.ListedColormap(['green','yellow','orange','red','purple'])\n",
    "bounds = [-0.5, 0.1, 0.27, 0.440, 0.660, 1.3] \n",
    "norm = matplotlib.colors.BoundaryNorm(bounds, cmap.N)\n",
    "cmap.set_over('purple')\n",
    "cmap.set_under('white')\n",
    "fig, ax = plt.subplots(figsize=(10, 10), subplot_kw={'xticks': [], 'yticks': []})\n",
    "cax = ax.imshow(img[0], cmap=cmap,norm=norm)\n",
    "plt.title('Burn Severity Map')\n",
    "cbar = fig.colorbar(cax, ax=ax, fraction=0.035, pad=0.04, ticks=bounds)\n",
    "cbar.ax.set_yticklabels(['Unburned', 'Low Severity', 'Moderate-low Severity', 'Moderate-high Severity', 'High Severity'])\n",
    "plt.show()"
   ]
  },
  {
   "cell_type": "markdown",
   "id": "a32be169",
   "metadata": {},
   "source": [
    "The bound set for the legend are based on the description provided in the UN SPIDER guideline."
   ]
  },
  {
   "cell_type": "code",
   "execution_count": null,
   "id": "69dd217d",
   "metadata": {},
   "outputs": [],
   "source": []
  }
 ],
 "metadata": {
  "kernelspec": {
   "display_name": "Python 3",
   "language": "python",
   "name": "python3"
  },
  "language_info": {
   "codemirror_mode": {
    "name": "ipython",
    "version": 3
   },
   "file_extension": ".py",
   "mimetype": "text/x-python",
   "name": "python",
   "nbconvert_exporter": "python",
   "pygments_lexer": "ipython3",
   "version": "3.6.8"
  }
 },
 "nbformat": 4,
 "nbformat_minor": 5
}
