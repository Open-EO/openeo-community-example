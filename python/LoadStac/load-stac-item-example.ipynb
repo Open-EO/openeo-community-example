{
 "cells": [
  {
   "cell_type": "code",
   "execution_count": 2,
   "metadata": {},
   "outputs": [],
   "source": [
    "import openeo\n",
    "import pystac\n",
    "from datetime import datetime"
   ]
  },
  {
   "cell_type": "code",
   "execution_count": 3,
   "metadata": {},
   "outputs": [
    {
     "name": "stdout",
     "output_type": "stream",
     "text": [
      "Authenticated using refresh token.\n"
     ]
    },
    {
     "data": {
      "text/plain": [
       "<Connection to 'https://openeo.vito.be/openeo/1.2/' with OidcBearerAuth>"
      ]
     },
     "execution_count": 3,
     "metadata": {},
     "output_type": "execute_result"
    }
   ],
   "source": [
    "connection = openeo.connect(\"https://openeo.vito.be\")\n",
    "# connection = openeo.connect(\"openeo.dataspace.copernicus.eu\")\n",
    "connection.authenticate_oidc()"
   ]
  },
  {
   "cell_type": "markdown",
   "metadata": {},
   "source": [
    "## Create example GTiff\n",
    "First we download a simple GTiff file containing ndvi data from an openeo provider. This file will be used as an example for the following steps."
   ]
  },
  {
   "cell_type": "code",
   "execution_count": 3,
   "metadata": {},
   "outputs": [],
   "source": [
    "bbox = {\"west\": 5.0, \"south\": 51.2, \"east\": 5.1, \"north\": 51.3}\n",
    "collection = connection.load_collection(\n",
    "    \"SENTINEL2_L2A\",\n",
    "    spatial_extent=bbox,\n",
    "    temporal_extent=[\"2021-06-01\", \"2021-06-30\"],\n",
    "    bands=[\"B04\", \"B08\", \"SCL\"],\n",
    "    max_cloud_cover=95\n",
    ")\n",
    "collection = collection.process(\"mask_scl_dilation\", scl_band_name=\"SCL\", data=collection)\n",
    "collection = collection.ndvi(\"B04\", \"B08\", target_band=\"NDVI-band\").filter_bands(\"NDVI-band\")\n",
    "collection.download(\"ndvi-file.tiff\", format=\"GTiff\")"
   ]
  },
  {
   "cell_type": "markdown",
   "metadata": {},
   "source": [
    "## Create a STAC item\n",
    "We create a STAC item for the GTiff file using pystac.\n",
    "\n",
    "A STAC item is a JSON file that describes a geospatial dataset. It contains metadata about the dataset, such as the spatial extent, the time range, the bands, and the projection. The STAC item also contains links to the data files in assets.\n",
    "\n",
    "It is important that the GTiff file is accessible for the openeo backend. This can be done by uploading the file to a cloud storage service like AWS S3 or Google Cloud Storage, or by storing the file in your public directory on a terrascope uservm (when using the openeo.vito.be backend).\n",
    "\n",
    "Make sure the band names are set correctly in the STAC item. In this case the band name is \"NDVI-band\"."
   ]
  },
  {
   "cell_type": "code",
   "execution_count": 5,
   "metadata": {},
   "outputs": [],
   "source": [
    "pystac.Item(\n",
    "    id=\"ndvi-example-stac-item\",\n",
    "    geometry={\n",
    "        \"type\": \"Polygon\",\n",
    "        \"coordinates\": [[5.0, 51.2],[5.1, 51.2],[5.1, 51.3],[5.0, 51.3],[5.0, 51.2]]\n",
    "    },\n",
    "    bbox=[5.0, 51.2, 5.1, 51.3],\n",
    "    datetime=datetime.fromisoformat(\"2021-06-01\"),\n",
    "    properties={ # These properties are optional, but can speed up the loading of the data.\n",
    "        # They can be extracted from the GTiff file using e.g. qgis\n",
    "        \"proj:epsg\": 32631,\n",
    "        \"proj:shape\": [1133,730], # Caveat: this is [height, width] and not [width, height]\n",
    "        \"proj:bbox\": [639420,5673960,646720,5685290]\n",
    "    },\n",
    "    stac_extensions=[\"eo\", \"proj\"],\n",
    "    assets={\n",
    "        \"ndvi\": pystac.Asset(\n",
    "            href=\"https://artifactory.vgt.vito.be/artifactory/auxdata-public/openeo/load-stac-example/ndvi-file.tiff\", # public path/URL to the file\n",
    "            title=\"Normalized Difference Vegetation Index\",\n",
    "            extra_fields={\n",
    "                \"eo:bands\": [ # it is necessary to define the bands in the eo extension for openeo to be able to load it\n",
    "                    {\n",
    "                        \"name\": \"NDVI-band\",\n",
    "                        \"common_name\": \"ndvi\",\n",
    "                    }\n",
    "                ],\n",
    "            }\n",
    "        )\n",
    "    }\n",
    ").save_object(dest_href=\"ndvi-example-stac-item.json\", include_self_link=True)"
   ]
  },
  {
   "cell_type": "markdown",
   "metadata": {},
   "source": [
    "## Load the STAC item in openeo as a collection\n",
    "We load the STAC item in openeo as a collection using `load_stac` and download the result as a GTiff file.\n",
    "\n",
    "IMPORTANT: Make sure the STAC item and the GTiff are accessible for the openeo backend. This can be done by uploading the STAC item to a cloud storage service like AWS S3 or Google Cloud Storage, or by storing the STAC item in your public directory on a terrascope uservm (when using the openeo.vito.be backend)."
   ]
  },
  {
   "cell_type": "code",
   "execution_count": 6,
   "metadata": {},
   "outputs": [],
   "source": [
    "datacube = connection.load_stac(\"https://artifactory.vgt.vito.be/artifactory/auxdata-public/openeo/load-stac-example/ndvi-example-stac-item.json\")\n",
    "datacube.download(\"ndvi-from-stac.tiff\", format=\"GTiff\")"
   ]
  }
 ],
 "metadata": {
  "kernelspec": {
   "display_name": "Python 3",
   "language": "python",
   "name": "python3"
  },
  "language_info": {
   "codemirror_mode": {
    "name": "ipython",
    "version": 3
   },
   "file_extension": ".py",
   "mimetype": "text/x-python",
   "name": "python",
   "nbconvert_exporter": "python",
   "pygments_lexer": "ipython3",
   "version": "3.11.7"
  }
 },
 "nbformat": 4,
 "nbformat_minor": 2
}
