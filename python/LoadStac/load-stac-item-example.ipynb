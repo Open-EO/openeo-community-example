{
 "cells": [
  {
   "cell_type": "markdown",
   "metadata": {},
   "source": [
    "## Create example GTiff\n",
    "First we download a simple GTiff file containing ndvi data from an openeo provider."
   ]
  },
  {
   "cell_type": "code",
   "execution_count": 7,
   "metadata": {},
   "outputs": [],
   "source": [
    "import openeo\n",
    "import pystac\n",
    "from datetime import datetime\n",
    "import rasterio\n",
    "import rasterio.warp"
   ]
  },
  {
   "cell_type": "code",
   "execution_count": null,
   "metadata": {},
   "outputs": [],
   "source": [
    "# connection = openeo.connect(\"https://openeo.vito.be\")\n",
    "connection = openeo.connect(\"openeo.dataspace.copernicus.eu\")\n",
    "connection.authenticate_oidc()"
   ]
  },
  {
   "cell_type": "code",
   "execution_count": null,
   "metadata": {},
   "outputs": [],
   "source": [
    "bbox = {\"west\": 5.0, \"south\": 51.2, \"east\": 5.1, \"north\": 51.3}\n",
    "collection = connection.load_collection(\n",
    "    \"SENTINEL2_L2A\",\n",
    "    spatial_extent=bbox,\n",
    "    temporal_extent=[\"2021-06-01\", \"2021-06-30\"],\n",
    "    bands=[\"B04\", \"B08\", \"SCL\"],\n",
    "    max_cloud_cover=95\n",
    ")\n",
    "collection = collection.process(\"mask_scl_dilation\", scl_band_name=\"SCL\", data=collection)\n",
    "collection = collection.ndvi(\"B04\", \"B08\", target_band=\"NDVI-band\").filter_bands(\"NDVI-band\")\n",
    "collection.download(\"ndvi-file.tiff\", format=\"GTiff\")"
   ]
  },
  {
   "cell_type": "markdown",
   "metadata": {},
   "source": [
    "## Create a STAC item\n",
    "We create a STAC item for the GTiff file using pystac.\n",
    "\n",
    "A STAC item is a JSON file that describes a geospatial dataset. It contains metadata about the dataset, such as the spatial extent, the time range, the bands, and the projection. The STAC item also contains links to the data files in assets.\n",
    "\n",
    "It is important that the GTiff file is accessible for the openeo backend. This can be done by uploading the file to a cloud storage service like AWS S3 or Google Cloud Storage, or by storing the file in your public directory on a terrascope uservm (when using the openeo.vito.be backend)."
   ]
  },
  {
   "cell_type": "code",
   "execution_count": 8,
   "metadata": {},
   "outputs": [],
   "source": [
    "# url to the tiff file\n",
    "tiff_url = \"https://artifactory.vgt.vito.be/artifactory/auxdata-public/openeo/load-stac-example/ndvi-file.tiff\"\n",
    "\n",
    "# datetime of the tiff file\n",
    "dt = datetime.fromisoformat(\"2021-06-01\")\n",
    "\n",
    "#desired output path for the stac item\n",
    "output_path = \"ndvi-example-stac-item.json\""
   ]
  },
  {
   "cell_type": "markdown",
   "metadata": {},
   "source": [
    "Make sure the band names are set correctly in the STAC item. In this case the band name is \"NDVI-band\".\n",
    "These band names are required by openeo to identify the bands in the data and name them.\n",
    "\n",
    "The other metadata in the stac item are extracted from the GTiff file using rasterio."
   ]
  },
  {
   "cell_type": "code",
   "execution_count": 9,
   "metadata": {},
   "outputs": [],
   "source": [
    "with rasterio.open(tiff_url) as src:\n",
    "    proj_bounds = list(src.bounds)\n",
    "    left, bottom, right, top = rasterio.warp.transform_bounds(src.crs, \"EPSG:4326\", *src.bounds)\n",
    "    item = pystac.Item(\n",
    "        id=\"ndvi-example-stac-item\",\n",
    "        geometry={\n",
    "            \"type\": \"Polygon\",\n",
    "            \"coordinates\": [[\n",
    "                [left, bottom],\n",
    "                [right, bottom],\n",
    "                [right, top],\n",
    "                [left, top],\n",
    "                [left, bottom]\n",
    "            ]]\n",
    "        },\n",
    "        bbox=[left, bottom, right, top],\n",
    "        datetime= dt,\n",
    "        properties={ # These properties are optional, but can speed up the loading of the data.\n",
    "            \"proj:epsg\": src.crs.to_epsg(),\n",
    "            \"proj:shape\": src.shape, # Caveat: this is [height, width] and not [width, height]\n",
    "            \"proj:bbox\": proj_bounds,\n",
    "        },\n",
    "        stac_extensions=[\n",
    "            \"https://stac-extensions.github.io/eo/v1.1.0/schema.json\",\n",
    "            \"https://stac-extensions.github.io/projection/v1.1.0/schema.json\",\n",
    "        ],\n",
    "        assets={\n",
    "            \"ndvi\": pystac.Asset(\n",
    "                href=tiff_url,\n",
    "                title=\"Normalized Difference Vegetation Index\",\n",
    "                extra_fields={\n",
    "                    \"eo:bands\": [ # REQUIRED: define the bands in the eo extension for openeo to be able to load it\n",
    "                        {\n",
    "                            \"name\": \"NDVI-band\",\n",
    "                        }\n",
    "                    ],\n",
    "                }\n",
    "            )\n",
    "        }\n",
    "    )\n",
    "    item.validate()\n",
    "    item.save_object(dest_href=output_path, include_self_link=False)"
   ]
  },
  {
   "cell_type": "markdown",
   "metadata": {},
   "source": [
    "Upload the resulting STAC item to a place where the openeo backend can access it. This can be a cloud storage service or a public directory on a terrascope uservm (when using the openeo.vito.be backend)."
   ]
  },
  {
   "cell_type": "markdown",
   "metadata": {},
   "source": [
    "## Load the STAC item in openeo as a collection\n",
    "We load the STAC item in openeo as a collection using `load_stac` and download the result as a GTiff file.\n",
    "\n",
    "IMPORTANT: Make sure the STAC item and the GTiff are accessible for the openeo backend. This can be done by uploading the STAC item to a cloud storage service like AWS S3 or Google Cloud Storage, or by storing the STAC item in your public directory on a terrascope uservm (when using the openeo.vito.be backend)."
   ]
  },
  {
   "cell_type": "code",
   "execution_count": null,
   "metadata": {},
   "outputs": [],
   "source": [
    "datacube = connection.load_stac(\"https://artifactory.vgt.vito.be/artifactory/auxdata-public/openeo/load-stac-example/ndvi-example-stac-item.json\")\n",
    "datacube.download(\"ndvi-from-stac.tiff\", format=\"GTiff\")"
   ]
  }
 ],
 "metadata": {
  "kernelspec": {
   "display_name": "Python 3",
   "language": "python",
   "name": "python3"
  },
  "language_info": {
   "codemirror_mode": {
    "name": "ipython",
    "version": 3
   },
   "file_extension": ".py",
   "mimetype": "text/x-python",
   "name": "python",
   "nbconvert_exporter": "python",
   "pygments_lexer": "ipython3",
   "version": "3.12.2"
  }
 },
 "nbformat": 4,
 "nbformat_minor": 2
}
