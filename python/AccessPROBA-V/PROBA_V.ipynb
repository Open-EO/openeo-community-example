{
 "cells": [
  {
   "cell_type": "markdown",
   "id": "ecb85ec9",
   "metadata": {},
   "source": [
    "# Access PROBA-V collection using openEO\n",
    "\n",
    "PROBA-V was launched on May 6, 2013, to fill the gap in space-based vegetation measurements between SPOT-VGT (March 1998 – May 2014) and Sentinel-3. The mission objective of PROBA-V was to ensure continuity and consistency with the heritage of the SPOT-VGT mission.\n",
    "\n",
    "Researchers can access Proba-V data globally through the openEO API. Leveraging the simplicity of openEO, users can utilize its scalability and interoperability features to conduct in-depth data analyses.\n",
    "\n",
    "In this notebook, we will use the openEO platform to analyze the NDVI band from the Proba-V satellite product, enabling us to monitor vegetation health and changes over time."
   ]
  },
  {
   "cell_type": "code",
   "execution_count": 1,
   "id": "b21c8649",
   "metadata": {},
   "outputs": [],
   "source": [
    "# import the necessary packages\n",
    "\n",
    "import openeo\n",
    "import json\n",
    "import pandas as pd\n",
    "import plotly.express as px"
   ]
  },
  {
   "cell_type": "code",
   "execution_count": 2,
   "id": "ff2b6a82",
   "metadata": {},
   "outputs": [
    {
     "name": "stdout",
     "output_type": "stream",
     "text": [
      "Authenticated using refresh token.\n"
     ]
    }
   ],
   "source": [
    "# establish the connection and authenticate\n",
    "connection = openeo.connect(\"openeo.vito.be\").authenticate_oidc()"
   ]
  },
  {
   "cell_type": "markdown",
   "id": "34f5e402",
   "metadata": {},
   "source": [
    "From a list of Proba-V collections, users can directly access the following 1-day, 5-day, and 10-day synthesis Proba-V data using openEO."
   ]
  },
  {
   "cell_type": "code",
   "execution_count": 3,
   "id": "92db220c",
   "metadata": {},
   "outputs": [
    {
     "name": "stdout",
     "output_type": "stream",
     "text": [
      "ID: PROBAV_L3_S10_TOC_333M, Title: PROBA-V S10 TOC 300 m COG: Decadal synthesis of S1's as Maximum Value Compositing (MVC), COG format - Collection 2\n",
      "ID: PROBAV_L3_S5_TOC_100M, Title: PROBA-V S5 TOC 100 m COG: Data corrected for atmospheric effects with the SMAC (Simplified Method for Atmosheric Corrections) algorithm, COG format - Collection 2\n",
      "ID: PROBAV_L3_S1_TOC_100M, Title: PROBA-V S1 TOC 100 m COG: Data corrected for atmospheric effects with the SMAC (Simplified Method for Atmosheric Corrections) algorithm, COG format - Collection 2\n",
      "ID: PROBAV_L3_S1_TOC_333M, Title: PROBA-V S1 TOC 300 m COG: Data corrected for atmospheric effects with the SMAC (Simplified Method for Atmosheric Corrections) algorithm, COG format - Collection 2\n"
     ]
    }
   ],
   "source": [
    "collections = connection.list_collections()\n",
    "\n",
    "# Filter collections with \"PROBA-V\" in their title and print title and id\n",
    "for collection in collections:\n",
    "    if \"title\" in collection and \"PROBA-V\" in collection[\"title\"]:\n",
    "        print(f\"ID: {collection.get('id')}, Title: {collection.get('title')}\")"
   ]
  },
  {
   "cell_type": "markdown",
   "id": "cd884c93",
   "metadata": {},
   "source": [
    "Users can obtain detailed descriptions of each collection by executing the command `connection.describe_collection(\"PROBAV_L3_S10_TOC_333M\")`. \n",
    "\n",
    "For this example, we will use the `PROBAV_L3_S5_TOC_100M` collection.\n"
   ]
  },
  {
   "cell_type": "code",
   "execution_count": 4,
   "id": "07920621",
   "metadata": {},
   "outputs": [],
   "source": [
    "# Load data cube from PROBAV_L3_S5_TOC_100M collection.\n",
    "cube = connection.load_collection(\n",
    "    \"PROBAV_L3_S5_TOC_100M\",\n",
    "    temporal_extent=[\"2021-03-01\", \"2021-06-01\"],\n",
    "    bands=[\"NDVI\"],\n",
    ")"
   ]
  },
  {
   "cell_type": "code",
   "execution_count": 5,
   "id": "6e95c2b5",
   "metadata": {},
   "outputs": [],
   "source": [
    "# apply offset and rescale\n",
    "cube = cube.apply(lambda x: 0.004 * x - 0.08)"
   ]
  },
  {
   "cell_type": "markdown",
   "id": "0ecbfebd",
   "metadata": {},
   "source": [
    "Users can either download the NDVI data retrieved in the previous cell or proceed with further analysis. \n",
    "\n",
    "Here, we will create an NDVI time series. In the following cell, we will use the `DataCube.aggregate_spatial()` method to compute the mean NDVI for each specified field."
   ]
  },
  {
   "cell_type": "code",
   "execution_count": 6,
   "id": "e9e73091",
   "metadata": {},
   "outputs": [],
   "source": [
    "def read_json(filename: str) -> dict:\n",
    "    with open(filename) as input:\n",
    "        field = json.load(input)\n",
    "    return field\n",
    "\n",
    "\n",
    "fields = read_json(\"polygons.geojson\")"
   ]
  },
  {
   "cell_type": "code",
   "execution_count": 7,
   "id": "52503ff0",
   "metadata": {},
   "outputs": [],
   "source": [
    "ndvi_timeseries = cube.aggregate_spatial(geometries=fields, reducer=\"mean\")"
   ]
  },
  {
   "cell_type": "markdown",
   "id": "bcf0de84",
   "metadata": {},
   "source": [
    "Finally, let us perform the computation synchronously and retrieve the results as a CSV file."
   ]
  },
  {
   "cell_type": "code",
   "execution_count": 8,
   "id": "9345bcfe",
   "metadata": {},
   "outputs": [],
   "source": [
    "ndvi_timeseries.download(\"Proba_V_10days.csv\")"
   ]
  },
  {
   "cell_type": "markdown",
   "id": "dac347b9",
   "metadata": {},
   "source": [
    "In the following cell we will visualize the distribution of NDVI (Normalized Difference Vegetation Index) values over time using a box plot. This plot helps in understanding how vegetation health evolves over time "
   ]
  },
  {
   "cell_type": "code",
   "execution_count": 10,
   "id": "0f9301f7",
   "metadata": {},
   "outputs": [
    {
     "data": {
      "application/vnd.plotly.v1+json": {
       "config": {
        "plotlyServerURL": "https://plot.ly"
       },
       "data": [
        {
         "alignmentgroup": "True",
         "hovertemplate": "Date=%{x}<br>NDVI=%{y}<extra></extra>",
         "legendgroup": "",
         "marker": {
          "color": "#636efa"
         },
         "name": "",
         "notched": false,
         "offsetgroup": "",
         "orientation": "v",
         "showlegend": false,
         "type": "box",
         "x": [
          "2021-05-06T00:00:00.000Z",
          "2021-05-06T00:00:00.000Z",
          "2021-05-06T00:00:00.000Z",
          "2021-05-06T00:00:00.000Z",
          "2021-05-01T00:00:00.000Z",
          "2021-05-01T00:00:00.000Z",
          "2021-05-01T00:00:00.000Z",
          "2021-05-01T00:00:00.000Z",
          "2021-05-21T00:00:00.000Z",
          "2021-05-21T00:00:00.000Z",
          "2021-05-21T00:00:00.000Z",
          "2021-05-21T00:00:00.000Z",
          "2021-03-26T00:00:00.000Z",
          "2021-03-26T00:00:00.000Z",
          "2021-03-26T00:00:00.000Z",
          "2021-03-26T00:00:00.000Z",
          "2021-04-26T00:00:00.000Z",
          "2021-04-26T00:00:00.000Z",
          "2021-04-26T00:00:00.000Z",
          "2021-04-26T00:00:00.000Z",
          "2021-03-11T00:00:00.000Z",
          "2021-03-11T00:00:00.000Z",
          "2021-03-11T00:00:00.000Z",
          "2021-03-11T00:00:00.000Z",
          "2021-04-11T00:00:00.000Z",
          "2021-04-11T00:00:00.000Z",
          "2021-04-11T00:00:00.000Z",
          "2021-04-11T00:00:00.000Z",
          "2021-03-01T00:00:00.000Z",
          "2021-03-01T00:00:00.000Z",
          "2021-03-01T00:00:00.000Z",
          "2021-03-01T00:00:00.000Z",
          "2021-04-01T00:00:00.000Z",
          "2021-04-01T00:00:00.000Z",
          "2021-04-01T00:00:00.000Z",
          "2021-04-01T00:00:00.000Z",
          "2021-03-16T00:00:00.000Z",
          "2021-03-16T00:00:00.000Z",
          "2021-03-16T00:00:00.000Z",
          "2021-03-16T00:00:00.000Z",
          "2021-04-16T00:00:00.000Z",
          "2021-04-16T00:00:00.000Z",
          "2021-04-16T00:00:00.000Z",
          "2021-04-16T00:00:00.000Z",
          "2021-03-06T00:00:00.000Z",
          "2021-03-06T00:00:00.000Z",
          "2021-03-06T00:00:00.000Z",
          "2021-03-06T00:00:00.000Z",
          "2021-04-06T00:00:00.000Z",
          "2021-04-06T00:00:00.000Z",
          "2021-04-06T00:00:00.000Z",
          "2021-04-06T00:00:00.000Z",
          "2021-03-21T00:00:00.000Z",
          "2021-03-21T00:00:00.000Z",
          "2021-03-21T00:00:00.000Z",
          "2021-03-21T00:00:00.000Z",
          "2021-04-21T00:00:00.000Z",
          "2021-04-21T00:00:00.000Z",
          "2021-04-21T00:00:00.000Z",
          "2021-04-21T00:00:00.000Z",
          "2021-05-11T00:00:00.000Z",
          "2021-05-11T00:00:00.000Z",
          "2021-05-11T00:00:00.000Z",
          "2021-05-11T00:00:00.000Z",
          "2021-05-26T00:00:00.000Z",
          "2021-05-26T00:00:00.000Z",
          "2021-05-26T00:00:00.000Z",
          "2021-05-26T00:00:00.000Z",
          "2021-05-16T00:00:00.000Z",
          "2021-05-16T00:00:00.000Z",
          "2021-05-16T00:00:00.000Z",
          "2021-05-16T00:00:00.000Z"
         ],
         "x0": " ",
         "xaxis": "x",
         "y": [
          0.0432869636170242,
          0.0421538530633999,
          0.0403600066155195,
          0.0409523876649992,
          0.5294800424575805,
          0.5905128648647895,
          0.6277043933453768,
          0.3851428627967834,
          0.0333846208567802,
          0.0354434840705083,
          0.0325200053304433,
          0.0327619101319994,
          0.6861026195379404,
          0.5453333854675293,
          0.6624000489711761,
          0.7746435409006865,
          -0.0060399935394525,
          -0.0034285645399774,
          -0.0315897391201593,
          -0.0033043417917645,
          0.0377142918961388,
          0.0422608754557112,
          0.036040005236864,
          0.0228718004356592,
          0.0770434859006301,
          0.1437200120091438,
          0.1422857244809468,
          0.0492820571630429,
          0.027809529077439,
          0.0280512873178873,
          0.0402800057828426,
          0.0400173978313155,
          0.5009200346469879,
          0.4794286092122395,
          0.6478783115096715,
          0.5982564596029428,
          0.5363809892109462,
          0.76332179463428,
          0.6537600487470627,
          0.6152820992164123,
          0.7086000567674637,
          0.808260930361955,
          0.5820952852567037,
          0.756974418193866,
          0.5241905280521938,
          0.5809231262940627,
          0.6114800465106964,
          0.7018783123596855,
          0.143000011742115,
          0.0926260964378066,
          0.1287179572077897,
          0.1407619196744192,
          0.7228870117146036,
          0.5959600532054901,
          0.4944762332098825,
          0.5980513325104346,
          0.6379200500249863,
          0.5643590207283313,
          0.6548696152541948,
          0.4798095652035304,
          0.6765600448846817,
          0.4860952808743431,
          0.7457949259342291,
          0.7221913596858149,
          0.465641065285756,
          0.4238095397040957,
          0.7502087523107943,
          0.4467600291967392,
          -0.0223130378224279,
          0.023238100466274,
          0.0110800047963857,
          0.0061025725534329
         ],
         "y0": " ",
         "yaxis": "y"
        }
       ],
       "layout": {
        "autosize": true,
        "boxmode": "group",
        "legend": {
         "tracegroupgap": 0
        },
        "template": {
         "data": {
          "bar": [
           {
            "error_x": {
             "color": "#2a3f5f"
            },
            "error_y": {
             "color": "#2a3f5f"
            },
            "marker": {
             "line": {
              "color": "#E5ECF6",
              "width": 0.5
             },
             "pattern": {
              "fillmode": "overlay",
              "size": 10,
              "solidity": 0.2
             }
            },
            "type": "bar"
           }
          ],
          "barpolar": [
           {
            "marker": {
             "line": {
              "color": "#E5ECF6",
              "width": 0.5
             },
             "pattern": {
              "fillmode": "overlay",
              "size": 10,
              "solidity": 0.2
             }
            },
            "type": "barpolar"
           }
          ],
          "carpet": [
           {
            "aaxis": {
             "endlinecolor": "#2a3f5f",
             "gridcolor": "white",
             "linecolor": "white",
             "minorgridcolor": "white",
             "startlinecolor": "#2a3f5f"
            },
            "baxis": {
             "endlinecolor": "#2a3f5f",
             "gridcolor": "white",
             "linecolor": "white",
             "minorgridcolor": "white",
             "startlinecolor": "#2a3f5f"
            },
            "type": "carpet"
           }
          ],
          "choropleth": [
           {
            "colorbar": {
             "outlinewidth": 0,
             "ticks": ""
            },
            "type": "choropleth"
           }
          ],
          "contour": [
           {
            "colorbar": {
             "outlinewidth": 0,
             "ticks": ""
            },
            "colorscale": [
             [
              0,
              "#0d0887"
             ],
             [
              0.1111111111111111,
              "#46039f"
             ],
             [
              0.2222222222222222,
              "#7201a8"
             ],
             [
              0.3333333333333333,
              "#9c179e"
             ],
             [
              0.4444444444444444,
              "#bd3786"
             ],
             [
              0.5555555555555556,
              "#d8576b"
             ],
             [
              0.6666666666666666,
              "#ed7953"
             ],
             [
              0.7777777777777778,
              "#fb9f3a"
             ],
             [
              0.8888888888888888,
              "#fdca26"
             ],
             [
              1,
              "#f0f921"
             ]
            ],
            "type": "contour"
           }
          ],
          "contourcarpet": [
           {
            "colorbar": {
             "outlinewidth": 0,
             "ticks": ""
            },
            "type": "contourcarpet"
           }
          ],
          "heatmap": [
           {
            "colorbar": {
             "outlinewidth": 0,
             "ticks": ""
            },
            "colorscale": [
             [
              0,
              "#0d0887"
             ],
             [
              0.1111111111111111,
              "#46039f"
             ],
             [
              0.2222222222222222,
              "#7201a8"
             ],
             [
              0.3333333333333333,
              "#9c179e"
             ],
             [
              0.4444444444444444,
              "#bd3786"
             ],
             [
              0.5555555555555556,
              "#d8576b"
             ],
             [
              0.6666666666666666,
              "#ed7953"
             ],
             [
              0.7777777777777778,
              "#fb9f3a"
             ],
             [
              0.8888888888888888,
              "#fdca26"
             ],
             [
              1,
              "#f0f921"
             ]
            ],
            "type": "heatmap"
           }
          ],
          "heatmapgl": [
           {
            "colorbar": {
             "outlinewidth": 0,
             "ticks": ""
            },
            "colorscale": [
             [
              0,
              "#0d0887"
             ],
             [
              0.1111111111111111,
              "#46039f"
             ],
             [
              0.2222222222222222,
              "#7201a8"
             ],
             [
              0.3333333333333333,
              "#9c179e"
             ],
             [
              0.4444444444444444,
              "#bd3786"
             ],
             [
              0.5555555555555556,
              "#d8576b"
             ],
             [
              0.6666666666666666,
              "#ed7953"
             ],
             [
              0.7777777777777778,
              "#fb9f3a"
             ],
             [
              0.8888888888888888,
              "#fdca26"
             ],
             [
              1,
              "#f0f921"
             ]
            ],
            "type": "heatmapgl"
           }
          ],
          "histogram": [
           {
            "marker": {
             "pattern": {
              "fillmode": "overlay",
              "size": 10,
              "solidity": 0.2
             }
            },
            "type": "histogram"
           }
          ],
          "histogram2d": [
           {
            "colorbar": {
             "outlinewidth": 0,
             "ticks": ""
            },
            "colorscale": [
             [
              0,
              "#0d0887"
             ],
             [
              0.1111111111111111,
              "#46039f"
             ],
             [
              0.2222222222222222,
              "#7201a8"
             ],
             [
              0.3333333333333333,
              "#9c179e"
             ],
             [
              0.4444444444444444,
              "#bd3786"
             ],
             [
              0.5555555555555556,
              "#d8576b"
             ],
             [
              0.6666666666666666,
              "#ed7953"
             ],
             [
              0.7777777777777778,
              "#fb9f3a"
             ],
             [
              0.8888888888888888,
              "#fdca26"
             ],
             [
              1,
              "#f0f921"
             ]
            ],
            "type": "histogram2d"
           }
          ],
          "histogram2dcontour": [
           {
            "colorbar": {
             "outlinewidth": 0,
             "ticks": ""
            },
            "colorscale": [
             [
              0,
              "#0d0887"
             ],
             [
              0.1111111111111111,
              "#46039f"
             ],
             [
              0.2222222222222222,
              "#7201a8"
             ],
             [
              0.3333333333333333,
              "#9c179e"
             ],
             [
              0.4444444444444444,
              "#bd3786"
             ],
             [
              0.5555555555555556,
              "#d8576b"
             ],
             [
              0.6666666666666666,
              "#ed7953"
             ],
             [
              0.7777777777777778,
              "#fb9f3a"
             ],
             [
              0.8888888888888888,
              "#fdca26"
             ],
             [
              1,
              "#f0f921"
             ]
            ],
            "type": "histogram2dcontour"
           }
          ],
          "mesh3d": [
           {
            "colorbar": {
             "outlinewidth": 0,
             "ticks": ""
            },
            "type": "mesh3d"
           }
          ],
          "parcoords": [
           {
            "line": {
             "colorbar": {
              "outlinewidth": 0,
              "ticks": ""
             }
            },
            "type": "parcoords"
           }
          ],
          "pie": [
           {
            "automargin": true,
            "type": "pie"
           }
          ],
          "scatter": [
           {
            "fillpattern": {
             "fillmode": "overlay",
             "size": 10,
             "solidity": 0.2
            },
            "type": "scatter"
           }
          ],
          "scatter3d": [
           {
            "line": {
             "colorbar": {
              "outlinewidth": 0,
              "ticks": ""
             }
            },
            "marker": {
             "colorbar": {
              "outlinewidth": 0,
              "ticks": ""
             }
            },
            "type": "scatter3d"
           }
          ],
          "scattercarpet": [
           {
            "marker": {
             "colorbar": {
              "outlinewidth": 0,
              "ticks": ""
             }
            },
            "type": "scattercarpet"
           }
          ],
          "scattergeo": [
           {
            "marker": {
             "colorbar": {
              "outlinewidth": 0,
              "ticks": ""
             }
            },
            "type": "scattergeo"
           }
          ],
          "scattergl": [
           {
            "marker": {
             "colorbar": {
              "outlinewidth": 0,
              "ticks": ""
             }
            },
            "type": "scattergl"
           }
          ],
          "scattermapbox": [
           {
            "marker": {
             "colorbar": {
              "outlinewidth": 0,
              "ticks": ""
             }
            },
            "type": "scattermapbox"
           }
          ],
          "scatterpolar": [
           {
            "marker": {
             "colorbar": {
              "outlinewidth": 0,
              "ticks": ""
             }
            },
            "type": "scatterpolar"
           }
          ],
          "scatterpolargl": [
           {
            "marker": {
             "colorbar": {
              "outlinewidth": 0,
              "ticks": ""
             }
            },
            "type": "scatterpolargl"
           }
          ],
          "scatterternary": [
           {
            "marker": {
             "colorbar": {
              "outlinewidth": 0,
              "ticks": ""
             }
            },
            "type": "scatterternary"
           }
          ],
          "surface": [
           {
            "colorbar": {
             "outlinewidth": 0,
             "ticks": ""
            },
            "colorscale": [
             [
              0,
              "#0d0887"
             ],
             [
              0.1111111111111111,
              "#46039f"
             ],
             [
              0.2222222222222222,
              "#7201a8"
             ],
             [
              0.3333333333333333,
              "#9c179e"
             ],
             [
              0.4444444444444444,
              "#bd3786"
             ],
             [
              0.5555555555555556,
              "#d8576b"
             ],
             [
              0.6666666666666666,
              "#ed7953"
             ],
             [
              0.7777777777777778,
              "#fb9f3a"
             ],
             [
              0.8888888888888888,
              "#fdca26"
             ],
             [
              1,
              "#f0f921"
             ]
            ],
            "type": "surface"
           }
          ],
          "table": [
           {
            "cells": {
             "fill": {
              "color": "#EBF0F8"
             },
             "line": {
              "color": "white"
             }
            },
            "header": {
             "fill": {
              "color": "#C8D4E3"
             },
             "line": {
              "color": "white"
             }
            },
            "type": "table"
           }
          ]
         },
         "layout": {
          "annotationdefaults": {
           "arrowcolor": "#2a3f5f",
           "arrowhead": 0,
           "arrowwidth": 1
          },
          "autotypenumbers": "strict",
          "coloraxis": {
           "colorbar": {
            "outlinewidth": 0,
            "ticks": ""
           }
          },
          "colorscale": {
           "diverging": [
            [
             0,
             "#8e0152"
            ],
            [
             0.1,
             "#c51b7d"
            ],
            [
             0.2,
             "#de77ae"
            ],
            [
             0.3,
             "#f1b6da"
            ],
            [
             0.4,
             "#fde0ef"
            ],
            [
             0.5,
             "#f7f7f7"
            ],
            [
             0.6,
             "#e6f5d0"
            ],
            [
             0.7,
             "#b8e186"
            ],
            [
             0.8,
             "#7fbc41"
            ],
            [
             0.9,
             "#4d9221"
            ],
            [
             1,
             "#276419"
            ]
           ],
           "sequential": [
            [
             0,
             "#0d0887"
            ],
            [
             0.1111111111111111,
             "#46039f"
            ],
            [
             0.2222222222222222,
             "#7201a8"
            ],
            [
             0.3333333333333333,
             "#9c179e"
            ],
            [
             0.4444444444444444,
             "#bd3786"
            ],
            [
             0.5555555555555556,
             "#d8576b"
            ],
            [
             0.6666666666666666,
             "#ed7953"
            ],
            [
             0.7777777777777778,
             "#fb9f3a"
            ],
            [
             0.8888888888888888,
             "#fdca26"
            ],
            [
             1,
             "#f0f921"
            ]
           ],
           "sequentialminus": [
            [
             0,
             "#0d0887"
            ],
            [
             0.1111111111111111,
             "#46039f"
            ],
            [
             0.2222222222222222,
             "#7201a8"
            ],
            [
             0.3333333333333333,
             "#9c179e"
            ],
            [
             0.4444444444444444,
             "#bd3786"
            ],
            [
             0.5555555555555556,
             "#d8576b"
            ],
            [
             0.6666666666666666,
             "#ed7953"
            ],
            [
             0.7777777777777778,
             "#fb9f3a"
            ],
            [
             0.8888888888888888,
             "#fdca26"
            ],
            [
             1,
             "#f0f921"
            ]
           ]
          },
          "colorway": [
           "#636efa",
           "#EF553B",
           "#00cc96",
           "#ab63fa",
           "#FFA15A",
           "#19d3f3",
           "#FF6692",
           "#B6E880",
           "#FF97FF",
           "#FECB52"
          ],
          "font": {
           "color": "#2a3f5f"
          },
          "geo": {
           "bgcolor": "white",
           "lakecolor": "white",
           "landcolor": "#E5ECF6",
           "showlakes": true,
           "showland": true,
           "subunitcolor": "white"
          },
          "hoverlabel": {
           "align": "left"
          },
          "hovermode": "closest",
          "mapbox": {
           "style": "light"
          },
          "paper_bgcolor": "white",
          "plot_bgcolor": "#E5ECF6",
          "polar": {
           "angularaxis": {
            "gridcolor": "white",
            "linecolor": "white",
            "ticks": ""
           },
           "bgcolor": "#E5ECF6",
           "radialaxis": {
            "gridcolor": "white",
            "linecolor": "white",
            "ticks": ""
           }
          },
          "scene": {
           "xaxis": {
            "backgroundcolor": "#E5ECF6",
            "gridcolor": "white",
            "gridwidth": 2,
            "linecolor": "white",
            "showbackground": true,
            "ticks": "",
            "zerolinecolor": "white"
           },
           "yaxis": {
            "backgroundcolor": "#E5ECF6",
            "gridcolor": "white",
            "gridwidth": 2,
            "linecolor": "white",
            "showbackground": true,
            "ticks": "",
            "zerolinecolor": "white"
           },
           "zaxis": {
            "backgroundcolor": "#E5ECF6",
            "gridcolor": "white",
            "gridwidth": 2,
            "linecolor": "white",
            "showbackground": true,
            "ticks": "",
            "zerolinecolor": "white"
           }
          },
          "shapedefaults": {
           "line": {
            "color": "#2a3f5f"
           }
          },
          "ternary": {
           "aaxis": {
            "gridcolor": "white",
            "linecolor": "white",
            "ticks": ""
           },
           "baxis": {
            "gridcolor": "white",
            "linecolor": "white",
            "ticks": ""
           },
           "bgcolor": "#E5ECF6",
           "caxis": {
            "gridcolor": "white",
            "linecolor": "white",
            "ticks": ""
           }
          },
          "title": {
           "x": 0.05
          },
          "xaxis": {
           "automargin": true,
           "gridcolor": "white",
           "linecolor": "white",
           "ticks": "",
           "title": {
            "standoff": 15
           },
           "zerolinecolor": "white",
           "zerolinewidth": 2
          },
          "yaxis": {
           "automargin": true,
           "gridcolor": "white",
           "linecolor": "white",
           "ticks": "",
           "title": {
            "standoff": 15
           },
           "zerolinecolor": "white",
           "zerolinewidth": 2
          }
         }
        },
        "title": {
         "text": "NDVI Over Time"
        },
        "xaxis": {
         "anchor": "y",
         "autorange": true,
         "domain": [
          0,
          1
         ],
         "range": [
          "2021-02-26 12:00",
          "2021-05-28 12:00"
         ],
         "title": {
          "text": "Date"
         },
         "type": "date"
        },
        "yaxis": {
         "anchor": "x",
         "autorange": true,
         "domain": [
          0,
          1
         ],
         "range": [
          -0.07824810964694343,
          0.8549193008887391
         ],
         "title": {
          "text": "NDVI"
         },
         "type": "linear"
        }
       }
      },
      "image/png": "[encoded data removed]",
      "text/html": [
       "<div>                            <div id=\"323734f5-8d0b-4cdc-8040-9c965d420d6a\" class=\"plotly-graph-div\" style=\"height:525px; width:100%;\"></div>            <script type=\"text/javascript\">                require([\"plotly\"], function(Plotly) {                    window.PLOTLYENV=window.PLOTLYENV || {};                                    if (document.getElementById(\"323734f5-8d0b-4cdc-8040-9c965d420d6a\")) {                    Plotly.newPlot(                        \"323734f5-8d0b-4cdc-8040-9c965d420d6a\",                        [{\"alignmentgroup\":\"True\",\"hovertemplate\":\"Date=%{x}\\u003cbr\\u003eNDVI=%{y}\\u003cextra\\u003e\\u003c\\u002fextra\\u003e\",\"legendgroup\":\"\",\"marker\":{\"color\":\"#636efa\"},\"name\":\"\",\"notched\":false,\"offsetgroup\":\"\",\"orientation\":\"v\",\"showlegend\":false,\"x\":[\"2021-05-06T00:00:00.000Z\",\"2021-05-06T00:00:00.000Z\",\"2021-05-06T00:00:00.000Z\",\"2021-05-06T00:00:00.000Z\",\"2021-05-01T00:00:00.000Z\",\"2021-05-01T00:00:00.000Z\",\"2021-05-01T00:00:00.000Z\",\"2021-05-01T00:00:00.000Z\",\"2021-05-21T00:00:00.000Z\",\"2021-05-21T00:00:00.000Z\",\"2021-05-21T00:00:00.000Z\",\"2021-05-21T00:00:00.000Z\",\"2021-03-26T00:00:00.000Z\",\"2021-03-26T00:00:00.000Z\",\"2021-03-26T00:00:00.000Z\",\"2021-03-26T00:00:00.000Z\",\"2021-04-26T00:00:00.000Z\",\"2021-04-26T00:00:00.000Z\",\"2021-04-26T00:00:00.000Z\",\"2021-04-26T00:00:00.000Z\",\"2021-03-11T00:00:00.000Z\",\"2021-03-11T00:00:00.000Z\",\"2021-03-11T00:00:00.000Z\",\"2021-03-11T00:00:00.000Z\",\"2021-04-11T00:00:00.000Z\",\"2021-04-11T00:00:00.000Z\",\"2021-04-11T00:00:00.000Z\",\"2021-04-11T00:00:00.000Z\",\"2021-03-01T00:00:00.000Z\",\"2021-03-01T00:00:00.000Z\",\"2021-03-01T00:00:00.000Z\",\"2021-03-01T00:00:00.000Z\",\"2021-04-01T00:00:00.000Z\",\"2021-04-01T00:00:00.000Z\",\"2021-04-01T00:00:00.000Z\",\"2021-04-01T00:00:00.000Z\",\"2021-03-16T00:00:00.000Z\",\"2021-03-16T00:00:00.000Z\",\"2021-03-16T00:00:00.000Z\",\"2021-03-16T00:00:00.000Z\",\"2021-04-16T00:00:00.000Z\",\"2021-04-16T00:00:00.000Z\",\"2021-04-16T00:00:00.000Z\",\"2021-04-16T00:00:00.000Z\",\"2021-03-06T00:00:00.000Z\",\"2021-03-06T00:00:00.000Z\",\"2021-03-06T00:00:00.000Z\",\"2021-03-06T00:00:00.000Z\",\"2021-04-06T00:00:00.000Z\",\"2021-04-06T00:00:00.000Z\",\"2021-04-06T00:00:00.000Z\",\"2021-04-06T00:00:00.000Z\",\"2021-03-21T00:00:00.000Z\",\"2021-03-21T00:00:00.000Z\",\"2021-03-21T00:00:00.000Z\",\"2021-03-21T00:00:00.000Z\",\"2021-04-21T00:00:00.000Z\",\"2021-04-21T00:00:00.000Z\",\"2021-04-21T00:00:00.000Z\",\"2021-04-21T00:00:00.000Z\",\"2021-05-11T00:00:00.000Z\",\"2021-05-11T00:00:00.000Z\",\"2021-05-11T00:00:00.000Z\",\"2021-05-11T00:00:00.000Z\",\"2021-05-26T00:00:00.000Z\",\"2021-05-26T00:00:00.000Z\",\"2021-05-26T00:00:00.000Z\",\"2021-05-26T00:00:00.000Z\",\"2021-05-16T00:00:00.000Z\",\"2021-05-16T00:00:00.000Z\",\"2021-05-16T00:00:00.000Z\",\"2021-05-16T00:00:00.000Z\"],\"x0\":\" \",\"xaxis\":\"x\",\"y\":[0.0432869636170242,0.0421538530633999,0.0403600066155195,0.0409523876649992,0.5294800424575805,0.5905128648647895,0.6277043933453768,0.3851428627967834,0.0333846208567802,0.0354434840705083,0.0325200053304433,0.0327619101319994,0.6861026195379404,0.5453333854675293,0.6624000489711761,0.7746435409006865,-0.0060399935394525,-0.0034285645399774,-0.0315897391201593,-0.0033043417917645,0.0377142918961388,0.0422608754557112,0.036040005236864,0.0228718004356592,0.0770434859006301,0.1437200120091438,0.1422857244809468,0.0492820571630429,0.027809529077439,0.0280512873178873,0.0402800057828426,0.0400173978313155,0.5009200346469879,0.4794286092122395,0.6478783115096715,0.5982564596029428,0.5363809892109462,0.76332179463428,0.6537600487470627,0.6152820992164123,0.7086000567674637,0.808260930361955,0.5820952852567037,0.756974418193866,0.5241905280521938,0.5809231262940627,0.6114800465106964,0.7018783123596855,0.143000011742115,0.0926260964378066,0.1287179572077897,0.1407619196744192,0.7228870117146036,0.5959600532054901,0.4944762332098825,0.5980513325104346,0.6379200500249863,0.5643590207283313,0.6548696152541948,0.4798095652035304,0.6765600448846817,0.4860952808743431,0.7457949259342291,0.7221913596858149,0.465641065285756,0.4238095397040957,0.7502087523107943,0.4467600291967392,-0.0223130378224279,0.023238100466274,0.0110800047963857,0.0061025725534329],\"y0\":\" \",\"yaxis\":\"y\",\"type\":\"box\"}],                        {\"template\":{\"data\":{\"histogram2dcontour\":[{\"type\":\"histogram2dcontour\",\"colorbar\":{\"outlinewidth\":0,\"ticks\":\"\"},\"colorscale\":[[0.0,\"#0d0887\"],[0.1111111111111111,\"#46039f\"],[0.2222222222222222,\"#7201a8\"],[0.3333333333333333,\"#9c179e\"],[0.4444444444444444,\"#bd3786\"],[0.5555555555555556,\"#d8576b\"],[0.6666666666666666,\"#ed7953\"],[0.7777777777777778,\"#fb9f3a\"],[0.8888888888888888,\"#fdca26\"],[1.0,\"#f0f921\"]]}],\"choropleth\":[{\"type\":\"choropleth\",\"colorbar\":{\"outlinewidth\":0,\"ticks\":\"\"}}],\"histogram2d\":[{\"type\":\"histogram2d\",\"colorbar\":{\"outlinewidth\":0,\"ticks\":\"\"},\"colorscale\":[[0.0,\"#0d0887\"],[0.1111111111111111,\"#46039f\"],[0.2222222222222222,\"#7201a8\"],[0.3333333333333333,\"#9c179e\"],[0.4444444444444444,\"#bd3786\"],[0.5555555555555556,\"#d8576b\"],[0.6666666666666666,\"#ed7953\"],[0.7777777777777778,\"#fb9f3a\"],[0.8888888888888888,\"#fdca26\"],[1.0,\"#f0f921\"]]}],\"heatmap\":[{\"type\":\"heatmap\",\"colorbar\":{\"outlinewidth\":0,\"ticks\":\"\"},\"colorscale\":[[0.0,\"#0d0887\"],[0.1111111111111111,\"#46039f\"],[0.2222222222222222,\"#7201a8\"],[0.3333333333333333,\"#9c179e\"],[0.4444444444444444,\"#bd3786\"],[0.5555555555555556,\"#d8576b\"],[0.6666666666666666,\"#ed7953\"],[0.7777777777777778,\"#fb9f3a\"],[0.8888888888888888,\"#fdca26\"],[1.0,\"#f0f921\"]]}],\"heatmapgl\":[{\"type\":\"heatmapgl\",\"colorbar\":{\"outlinewidth\":0,\"ticks\":\"\"},\"colorscale\":[[0.0,\"#0d0887\"],[0.1111111111111111,\"#46039f\"],[0.2222222222222222,\"#7201a8\"],[0.3333333333333333,\"#9c179e\"],[0.4444444444444444,\"#bd3786\"],[0.5555555555555556,\"#d8576b\"],[0.6666666666666666,\"#ed7953\"],[0.7777777777777778,\"#fb9f3a\"],[0.8888888888888888,\"#fdca26\"],[1.0,\"#f0f921\"]]}],\"contourcarpet\":[{\"type\":\"contourcarpet\",\"colorbar\":{\"outlinewidth\":0,\"ticks\":\"\"}}],\"contour\":[{\"type\":\"contour\",\"colorbar\":{\"outlinewidth\":0,\"ticks\":\"\"},\"colorscale\":[[0.0,\"#0d0887\"],[0.1111111111111111,\"#46039f\"],[0.2222222222222222,\"#7201a8\"],[0.3333333333333333,\"#9c179e\"],[0.4444444444444444,\"#bd3786\"],[0.5555555555555556,\"#d8576b\"],[0.6666666666666666,\"#ed7953\"],[0.7777777777777778,\"#fb9f3a\"],[0.8888888888888888,\"#fdca26\"],[1.0,\"#f0f921\"]]}],\"surface\":[{\"type\":\"surface\",\"colorbar\":{\"outlinewidth\":0,\"ticks\":\"\"},\"colorscale\":[[0.0,\"#0d0887\"],[0.1111111111111111,\"#46039f\"],[0.2222222222222222,\"#7201a8\"],[0.3333333333333333,\"#9c179e\"],[0.4444444444444444,\"#bd3786\"],[0.5555555555555556,\"#d8576b\"],[0.6666666666666666,\"#ed7953\"],[0.7777777777777778,\"#fb9f3a\"],[0.8888888888888888,\"#fdca26\"],[1.0,\"#f0f921\"]]}],\"mesh3d\":[{\"type\":\"mesh3d\",\"colorbar\":{\"outlinewidth\":0,\"ticks\":\"\"}}],\"scatter\":[{\"fillpattern\":{\"fillmode\":\"overlay\",\"size\":10,\"solidity\":0.2},\"type\":\"scatter\"}],\"parcoords\":[{\"type\":\"parcoords\",\"line\":{\"colorbar\":{\"outlinewidth\":0,\"ticks\":\"\"}}}],\"scatterpolargl\":[{\"type\":\"scatterpolargl\",\"marker\":{\"colorbar\":{\"outlinewidth\":0,\"ticks\":\"\"}}}],\"bar\":[{\"error_x\":{\"color\":\"#2a3f5f\"},\"error_y\":{\"color\":\"#2a3f5f\"},\"marker\":{\"line\":{\"color\":\"#E5ECF6\",\"width\":0.5},\"pattern\":{\"fillmode\":\"overlay\",\"size\":10,\"solidity\":0.2}},\"type\":\"bar\"}],\"scattergeo\":[{\"type\":\"scattergeo\",\"marker\":{\"colorbar\":{\"outlinewidth\":0,\"ticks\":\"\"}}}],\"scatterpolar\":[{\"type\":\"scatterpolar\",\"marker\":{\"colorbar\":{\"outlinewidth\":0,\"ticks\":\"\"}}}],\"histogram\":[{\"marker\":{\"pattern\":{\"fillmode\":\"overlay\",\"size\":10,\"solidity\":0.2}},\"type\":\"histogram\"}],\"scattergl\":[{\"type\":\"scattergl\",\"marker\":{\"colorbar\":{\"outlinewidth\":0,\"ticks\":\"\"}}}],\"scatter3d\":[{\"type\":\"scatter3d\",\"line\":{\"colorbar\":{\"outlinewidth\":0,\"ticks\":\"\"}},\"marker\":{\"colorbar\":{\"outlinewidth\":0,\"ticks\":\"\"}}}],\"scattermapbox\":[{\"type\":\"scattermapbox\",\"marker\":{\"colorbar\":{\"outlinewidth\":0,\"ticks\":\"\"}}}],\"scatterternary\":[{\"type\":\"scatterternary\",\"marker\":{\"colorbar\":{\"outlinewidth\":0,\"ticks\":\"\"}}}],\"scattercarpet\":[{\"type\":\"scattercarpet\",\"marker\":{\"colorbar\":{\"outlinewidth\":0,\"ticks\":\"\"}}}],\"carpet\":[{\"aaxis\":{\"endlinecolor\":\"#2a3f5f\",\"gridcolor\":\"white\",\"linecolor\":\"white\",\"minorgridcolor\":\"white\",\"startlinecolor\":\"#2a3f5f\"},\"baxis\":{\"endlinecolor\":\"#2a3f5f\",\"gridcolor\":\"white\",\"linecolor\":\"white\",\"minorgridcolor\":\"white\",\"startlinecolor\":\"#2a3f5f\"},\"type\":\"carpet\"}],\"table\":[{\"cells\":{\"fill\":{\"color\":\"#EBF0F8\"},\"line\":{\"color\":\"white\"}},\"header\":{\"fill\":{\"color\":\"#C8D4E3\"},\"line\":{\"color\":\"white\"}},\"type\":\"table\"}],\"barpolar\":[{\"marker\":{\"line\":{\"color\":\"#E5ECF6\",\"width\":0.5},\"pattern\":{\"fillmode\":\"overlay\",\"size\":10,\"solidity\":0.2}},\"type\":\"barpolar\"}],\"pie\":[{\"automargin\":true,\"type\":\"pie\"}]},\"layout\":{\"autotypenumbers\":\"strict\",\"colorway\":[\"#636efa\",\"#EF553B\",\"#00cc96\",\"#ab63fa\",\"#FFA15A\",\"#19d3f3\",\"#FF6692\",\"#B6E880\",\"#FF97FF\",\"#FECB52\"],\"font\":{\"color\":\"#2a3f5f\"},\"hovermode\":\"closest\",\"hoverlabel\":{\"align\":\"left\"},\"paper_bgcolor\":\"white\",\"plot_bgcolor\":\"#E5ECF6\",\"polar\":{\"bgcolor\":\"#E5ECF6\",\"angularaxis\":{\"gridcolor\":\"white\",\"linecolor\":\"white\",\"ticks\":\"\"},\"radialaxis\":{\"gridcolor\":\"white\",\"linecolor\":\"white\",\"ticks\":\"\"}},\"ternary\":{\"bgcolor\":\"#E5ECF6\",\"aaxis\":{\"gridcolor\":\"white\",\"linecolor\":\"white\",\"ticks\":\"\"},\"baxis\":{\"gridcolor\":\"white\",\"linecolor\":\"white\",\"ticks\":\"\"},\"caxis\":{\"gridcolor\":\"white\",\"linecolor\":\"white\",\"ticks\":\"\"}},\"coloraxis\":{\"colorbar\":{\"outlinewidth\":0,\"ticks\":\"\"}},\"colorscale\":{\"sequential\":[[0.0,\"#0d0887\"],[0.1111111111111111,\"#46039f\"],[0.2222222222222222,\"#7201a8\"],[0.3333333333333333,\"#9c179e\"],[0.4444444444444444,\"#bd3786\"],[0.5555555555555556,\"#d8576b\"],[0.6666666666666666,\"#ed7953\"],[0.7777777777777778,\"#fb9f3a\"],[0.8888888888888888,\"#fdca26\"],[1.0,\"#f0f921\"]],\"sequentialminus\":[[0.0,\"#0d0887\"],[0.1111111111111111,\"#46039f\"],[0.2222222222222222,\"#7201a8\"],[0.3333333333333333,\"#9c179e\"],[0.4444444444444444,\"#bd3786\"],[0.5555555555555556,\"#d8576b\"],[0.6666666666666666,\"#ed7953\"],[0.7777777777777778,\"#fb9f3a\"],[0.8888888888888888,\"#fdca26\"],[1.0,\"#f0f921\"]],\"diverging\":[[0,\"#8e0152\"],[0.1,\"#c51b7d\"],[0.2,\"#de77ae\"],[0.3,\"#f1b6da\"],[0.4,\"#fde0ef\"],[0.5,\"#f7f7f7\"],[0.6,\"#e6f5d0\"],[0.7,\"#b8e186\"],[0.8,\"#7fbc41\"],[0.9,\"#4d9221\"],[1,\"#276419\"]]},\"xaxis\":{\"gridcolor\":\"white\",\"linecolor\":\"white\",\"ticks\":\"\",\"title\":{\"standoff\":15},\"zerolinecolor\":\"white\",\"automargin\":true,\"zerolinewidth\":2},\"yaxis\":{\"gridcolor\":\"white\",\"linecolor\":\"white\",\"ticks\":\"\",\"title\":{\"standoff\":15},\"zerolinecolor\":\"white\",\"automargin\":true,\"zerolinewidth\":2},\"scene\":{\"xaxis\":{\"backgroundcolor\":\"#E5ECF6\",\"gridcolor\":\"white\",\"linecolor\":\"white\",\"showbackground\":true,\"ticks\":\"\",\"zerolinecolor\":\"white\",\"gridwidth\":2},\"yaxis\":{\"backgroundcolor\":\"#E5ECF6\",\"gridcolor\":\"white\",\"linecolor\":\"white\",\"showbackground\":true,\"ticks\":\"\",\"zerolinecolor\":\"white\",\"gridwidth\":2},\"zaxis\":{\"backgroundcolor\":\"#E5ECF6\",\"gridcolor\":\"white\",\"linecolor\":\"white\",\"showbackground\":true,\"ticks\":\"\",\"zerolinecolor\":\"white\",\"gridwidth\":2}},\"shapedefaults\":{\"line\":{\"color\":\"#2a3f5f\"}},\"annotationdefaults\":{\"arrowcolor\":\"#2a3f5f\",\"arrowhead\":0,\"arrowwidth\":1},\"geo\":{\"bgcolor\":\"white\",\"landcolor\":\"#E5ECF6\",\"subunitcolor\":\"white\",\"showland\":true,\"showlakes\":true,\"lakecolor\":\"white\"},\"title\":{\"x\":0.05},\"mapbox\":{\"style\":\"light\"}}},\"xaxis\":{\"anchor\":\"y\",\"domain\":[0.0,1.0],\"title\":{\"text\":\"Date\"}},\"yaxis\":{\"anchor\":\"x\",\"domain\":[0.0,1.0],\"title\":{\"text\":\"NDVI\"}},\"legend\":{\"tracegroupgap\":0},\"title\":{\"text\":\"NDVI Over Time\"},\"boxmode\":\"group\"},                        {\"responsive\": true}                    ).then(function(){\n",
       "                            \n",
       "var gd = document.getElementById('323734f5-8d0b-4cdc-8040-9c965d420d6a');\n",
       "var x = new MutationObserver(function (mutations, observer) {{\n",
       "        var display = window.getComputedStyle(gd).display;\n",
       "        if (!display || display === 'none') {{\n",
       "            console.log([gd, 'removed!']);\n",
       "            Plotly.purge(gd);\n",
       "            observer.disconnect();\n",
       "        }}\n",
       "}});\n",
       "\n",
       "// Listen for the removal of the full notebook cells\n",
       "var notebookContainer = gd.closest('#notebook-container');\n",
       "if (notebookContainer) {{\n",
       "    x.observe(notebookContainer, {childList: true});\n",
       "}}\n",
       "\n",
       "// Listen for the clearing of the current output cell\n",
       "var outputEl = gd.closest('.output');\n",
       "if (outputEl) {{\n",
       "    x.observe(outputEl, {childList: true});\n",
       "}}\n",
       "\n",
       "                        })                };                });            </script>        </div>"
      ]
     },
     "metadata": {},
     "output_type": "display_data"
    }
   ],
   "source": [
    "# Load the CSV file into a DataFrame\n",
    "file_path = \"Proba_V_10days.csv\"\n",
    "df = pd.read_csv(file_path)\n",
    "\n",
    "# Create the box plot\n",
    "px.box(\n",
    "    df,\n",
    "    x=\"date\",\n",
    "    y=\"NDVI\",\n",
    "    title=\"NDVI Over Time\",\n",
    "    labels={\"date\": \"Date\", \"NDVI\": \"NDVI\"},\n",
    ")"
   ]
  },
  {
   "cell_type": "code",
   "execution_count": null,
   "id": "537925d6",
   "metadata": {},
   "outputs": [],
   "source": []
  }
 ],
 "metadata": {
  "kernelspec": {
   "display_name": "Python 3.11",
   "language": "python",
   "name": "python3"
  },
  "language_info": {
   "codemirror_mode": {
    "name": "ipython",
    "version": 3
   },
   "file_extension": ".py",
   "mimetype": "text/x-python",
   "name": "python",
   "nbconvert_exporter": "python",
   "pygments_lexer": "ipython3",
   "version": "3.11.4"
  }
 },
 "nbformat": 4,
 "nbformat_minor": 5
}
