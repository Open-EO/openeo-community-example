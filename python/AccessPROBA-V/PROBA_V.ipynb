{
 "cells": [
  {
   "cell_type": "markdown",
   "id": "f47b81c6",
   "metadata": {},
   "source": [
    "# Access PROBA-V collection using openEO\n",
    "\n",
    "PROBA-V was launched on May 6, 2013, to fill the gap in space-based vegetation measurements between SPOT-VGT (March 1998 – May 2014) and Sentinel-3. The mission objective of PROBA-V was to ensure continuity and consistency with the heritage of the SPOT-VGT mission.\n",
    "\n",
    "Researchers can access Proba-V data globally through the openEO API. Leveraging the simplicity of openEO, users can utilize its scalability and interoperability features to conduct in-depth data analyses.\n",
    "\n",
    "In this notebook, we will use the openEO platform to analyze the NDVI band from the Proba-V satellite product, enabling us to monitor vegetation health and changes over time."
   ]
  },
  {
   "cell_type": "code",
   "execution_count": 3,
   "id": "9daa10bd",
   "metadata": {},
   "outputs": [],
   "source": [
    "# import the necessary packages\n",
    "\n",
    "import openeo\n",
    "import json\n",
    "import pandas as pd\n",
    "import plotly.express as px"
   ]
  },
  {
   "cell_type": "markdown",
   "id": "9d7080f8",
   "metadata": {},
   "source": [
    "The openEO standard enables access to datasets and processing capabilities beyond what CDSE offers, all through a single endpoint and interface. This simplifies workflows by removing the need to register on multiple platforms and learn their APIs. This feature is known as the openEO federation.\n",
    "\n",
    "In this notebook, we've utilized the CDSE openEO federation backend to access Proba-V data from the [Terrascope](https://terrascope.be/) backend. \n",
    "\n",
    "For more details on the openEO federation, please visit the [openEO website](https://documentation.dataspace.copernicus.eu/APIs/openEO/federation/openeo_federation.html)."
   ]
  },
  {
   "cell_type": "code",
   "execution_count": 4,
   "id": "6457248f",
   "metadata": {},
   "outputs": [
    {
     "data": {
      "text/html": [
       "Visit <a href=\"https://identity.dataspace.copernicus.eu/auth/realms/CDSE/device?user_code=ZERS-HVGG\" title=\"Authenticate at https://identity.dataspace.copernicus.eu/auth/realms/CDSE/device?user_code=ZERS-HVGG\" target=\"_blank\" rel=\"noopener noreferrer\">https://identity.dataspace.copernicus.eu/auth/realms/CDSE/device?user_code=ZERS-HVGG</a> <a href=\"#\" onclick=\"navigator.clipboard.writeText('https://identity.dataspace.copernicus.eu/auth/realms/CDSE/device?user_code=ZERS-HVGG');return false;\" title=\"Copy authentication URL to clipboard\">&#128203;</a> to authenticate."
      ]
     },
     "metadata": {},
     "output_type": "display_data"
    },
    {
     "data": {
      "text/html": [
       "✅ Authorized successfully"
      ]
     },
     "metadata": {},
     "output_type": "display_data"
    },
    {
     "name": "stdout",
     "output_type": "stream",
     "text": [
      "Authenticated using device code flow.\n"
     ]
    }
   ],
   "source": [
    "# establish the connection and authenticate\n",
    "connection = openeo.connect(\"openeofed.dataspace.copernicus.eu\").authenticate_oidc()"
   ]
  },
  {
   "cell_type": "markdown",
   "id": "0a6f19fc",
   "metadata": {},
   "source": [
    "From a list of Proba-V collections, users can directly access the following 1-day, 5-day, and 10-day synthesis Proba-V data using openEO."
   ]
  },
  {
   "cell_type": "code",
   "execution_count": 5,
   "id": "04c43199",
   "metadata": {},
   "outputs": [
    {
     "name": "stdout",
     "output_type": "stream",
     "text": [
      "ID: PROBAV_L3_S10_TOC_333M, Title: PROBA-V S10 TOC 300 m COG: Decadal synthesis of S1's as Maximum Value Compositing (MVC), COG format - Collection 2\n",
      "ID: PROBAV_L3_S5_TOC_100M, Title: PROBA-V S5 TOC 100 m COG: Data corrected for atmospheric effects with the SMAC (Simplified Method for Atmosheric Corrections) algorithm, COG format - Collection 2\n",
      "ID: PROBAV_L3_S1_TOC_100M, Title: PROBA-V S1 TOC 100 m COG: Data corrected for atmospheric effects with the SMAC (Simplified Method for Atmosheric Corrections) algorithm, COG format - Collection 2\n",
      "ID: PROBAV_L3_S1_TOC_333M, Title: PROBA-V S1 TOC 300 m COG: Data corrected for atmospheric effects with the SMAC (Simplified Method for Atmosheric Corrections) algorithm, COG format - Collection 2\n"
     ]
    }
   ],
   "source": [
    "collections = connection.list_collections()\n",
    "\n",
    "# Filter collections with \"PROBA-V\" in their title and print title and id\n",
    "for collection in collections:\n",
    "    if \"title\" in collection and \"PROBA-V\" in collection[\"title\"]:\n",
    "        print(f\"ID: {collection.get('id')}, Title: {collection.get('title')}\")"
   ]
  },
  {
   "cell_type": "markdown",
   "id": "a9ef8459",
   "metadata": {},
   "source": [
    "Users can obtain detailed descriptions of each collection by executing the command `connection.describe_collection(\"PROBAV_L3_S10_TOC_333M\")`. \n",
    "\n",
    "For this example, we will use the `PROBAV_L3_S5_TOC_100M` collection.\n"
   ]
  },
  {
   "cell_type": "code",
   "execution_count": 6,
   "id": "64a14152",
   "metadata": {},
   "outputs": [],
   "source": [
    "# Load data cube from PROBAV_L3_S5_TOC_100M collection.\n",
    "cube = connection.load_collection(\n",
    "    \"PROBAV_L3_S5_TOC_100M\",\n",
    "    temporal_extent=[\"2021-03-01\", \"2021-06-01\"],\n",
    "    bands=[\"NDVI\"],\n",
    ")"
   ]
  },
  {
   "cell_type": "code",
   "execution_count": 7,
   "id": "d87c87b2",
   "metadata": {},
   "outputs": [],
   "source": [
    "# apply offset and rescale\n",
    "cube = cube.apply(lambda x: 0.004 * x - 0.08)"
   ]
  },
  {
   "cell_type": "markdown",
   "id": "71433cd6",
   "metadata": {},
   "source": [
    "Users can either download the NDVI data retrieved in the previous cell or proceed with further analysis. \n",
    "\n",
    "Here, we will create an NDVI time series. In the following cell, we will use the `DataCube.aggregate_spatial()` method to compute the mean NDVI for each specified field."
   ]
  },
  {
   "cell_type": "code",
   "execution_count": 8,
   "id": "0b8db370",
   "metadata": {},
   "outputs": [],
   "source": [
    "def read_json(filename: str) -> dict:\n",
    "    with open(filename) as input:\n",
    "        field = json.load(input)\n",
    "    return field\n",
    "\n",
    "\n",
    "fields = read_json(\"polygons.geojson\")"
   ]
  },
  {
   "cell_type": "code",
   "execution_count": 9,
   "id": "2ba43da2",
   "metadata": {},
   "outputs": [],
   "source": [
    "ndvi_timeseries = cube.aggregate_spatial(geometries=fields, reducer=\"mean\")"
   ]
  },
  {
   "cell_type": "markdown",
   "id": "e61c52ee",
   "metadata": {},
   "source": [
    "Finally, let us perform the computation synchronously and retrieve the results as a CSV file."
   ]
  },
  {
   "cell_type": "code",
   "execution_count": 10,
   "id": "a149723e",
   "metadata": {},
   "outputs": [],
   "source": [
    "ndvi_timeseries.download(\"ProbaV_10days.csv\")"
   ]
  },
  {
   "cell_type": "markdown",
   "id": "2309efa3",
   "metadata": {},
   "source": [
    "In the following cell we will visualize the distribution of NDVI (Normalized Difference Vegetation Index) values over time using a box plot. This plot helps in understanding how vegetation health evolves over time "
   ]
  },
  {
   "cell_type": "code",
   "execution_count": null,
   "id": "7b21b7f7",
   "metadata": {},
   "outputs": [],
   "source": [
    "# Load the CSV file into a DataFrame\n",
    "file_path = \"ProbaV_10days.csv\"\n",
    "df = pd.read_csv(file_path)\n",
    "\n",
    "# Create the box plot\n",
    "px.box(\n",
    "    df,\n",
    "    x=\"date\",\n",
    "    y=\"NDVI\",\n",
    "    title=\"NDVI Over Time\",\n",
    "    labels={\"date\": \"Date\", \"NDVI\": \"NDVI\"},\n",
    ")"
   ]
  },
  {
   "cell_type": "markdown",
   "id": "9f413b0c",
   "metadata": {},
   "source": [
    "![FInal Plot](newplot.png)"
   ]
  }
 ],
 "metadata": {
  "kernelspec": {
   "display_name": "Python 3.11",
   "language": "python",
   "name": "python3"
  },
  "language_info": {
   "codemirror_mode": {
    "name": "ipython",
    "version": 3
   },
   "file_extension": ".py",
   "mimetype": "text/x-python",
   "name": "python",
   "nbconvert_exporter": "python",
   "pygments_lexer": "ipython3",
   "version": "3.11.4"
  }
 },
 "nbformat": 4,
 "nbformat_minor": 5
}
