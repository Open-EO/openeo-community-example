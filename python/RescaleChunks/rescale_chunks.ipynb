{
 "cells": [
  {
   "attachments": {},
   "cell_type": "markdown",
   "id": "e92bb18c",
   "metadata": {},
   "source": [
    "# Rescale RGB image for spatial chunks\n",
    "\n",
    "This notebook shows a simple process for rescaling Sentinel 2 RGB images within polygon chunks that also showcases how to use ``chunk_polygon()`` with a (User Defined Function) UDF. (To be noted: chunk_polygon are experimental at the moment)"
   ]
  },
  {
   "cell_type": "code",
   "execution_count": null,
   "id": "facd82db",
   "metadata": {},
   "outputs": [
    {
     "name": "stdout",
     "output_type": "stream",
     "text": [
      "Authenticated using refresh token.\n"
     ]
    }
   ],
   "source": [
    "# import necessary packages\n",
    "import openeo\n",
    "from openeo.api.process import Parameter\n",
    "import json\n",
    "from pathlib import Path\n",
    "import matplotlib.pyplot as plt\n",
    "import rasterio\n",
    "\n",
    "# connect with the backend\n",
    "eoconn = openeo.connect(\"openeo.vito.be\").authenticate_oidc()"
   ]
  },
  {
   "cell_type": "markdown",
   "id": "d8834eb5",
   "metadata": {},
   "source": [
    "User can choose among different backend available [here](https://hub.openeo.org/) to connect to the backend of their choice. Regarding the authentication process OpenID connect (oidc) is recommended, but not always straightforward to use. In cases where you are unable to connect with the backend use basic authentication method explained [here](https://openeo.org/documentation/1.0/authentication.html#openid-connect)."
   ]
  },
  {
   "cell_type": "code",
   "execution_count": 2,
   "id": "7cfe000e",
   "metadata": {},
   "outputs": [],
   "source": [
    "# function to load geojson file\n",
    "def read_json(path: Path) -> dict:\n",
    "    with open(path) as input:\n",
    "        field = json.load(input)\n",
    "        input.close()\n",
    "    return field"
   ]
  },
  {
   "cell_type": "markdown",
   "id": "f7729a06",
   "metadata": {},
   "source": [
    "To use the data collection, a user must use the correct backend with the data collection. Then using load_collection, they can specify bands, temporal extent (i.e. interested time interval) and even spatial extent. In this example, we have loaded the entire collection so that process (including UDF) can later be applied to spatial chunks. "
   ]
  },
  {
   "cell_type": "code",
   "execution_count": 3,
   "id": "c915c6f4",
   "metadata": {},
   "outputs": [],
   "source": [
    "# Load your data cube based on your prefernce\n",
    "\n",
    "S2_cube = eoconn.load_collection(\n",
    "    \"SENTINEL2_L2A\",\n",
    "    temporal_extent = [\"2022-06-04\", \"2022-08-04\"],\n",
    "    bands = [\"B02\", \"B03\", \"B04\"]\n",
    ")"
   ]
  },
  {
   "cell_type": "markdown",
   "id": "d983a953",
   "metadata": {},
   "source": [
    "Here we tried in presenting a method to create and use UDF as an openEO feature. In a similar manner user can create their own UDF as needed to apply to their data cube. More information on [UDF](https://open-eo.github.io/openeo-python-client/udf.html)."
   ]
  },
  {
   "cell_type": "code",
   "execution_count": 4,
   "id": "f38c5d0c",
   "metadata": {},
   "outputs": [],
   "source": [
    "# Create a UDF object from inline source code.\n",
    "my_udf = openeo.UDF(\"\"\"\n",
    "from openeo.udf import XarrayDataCube\n",
    "\n",
    "def apply_datacube(cube: XarrayDataCube, context: dict) -> XarrayDataCube:\n",
    "    array = cube.get_array()\n",
    "    array.values = 0.0001 * array.values\n",
    "    return cube\n",
    "\"\"\")"
   ]
  },
  {
   "attachments": {},
   "cell_type": "markdown",
   "id": "e8236f96",
   "metadata": {},
   "source": [
    "We used the chunk_polygon method to apply our UDF over a spatial chunk of the datacube. In the case of a simple process that does not require UDF, you can directly load your spatial extent in the dataset. \n",
    "\n",
    "Furthermore, since we loaded our collection for specific time intervals, it can include multiple time dimensions. Thus [reduce_dimension](https://processes.openeo.org/#reduce_dimension) applies a reducer to a data cube dimension by collapsing all the pixel values along the time dimension into an output value computed by the reducer."
   ]
  },
  {
   "cell_type": "code",
   "execution_count": null,
   "id": "f1dbf556",
   "metadata": {},
   "outputs": [],
   "source": [
    "# apply rescale to chunks of polygon\n",
    "aoi = read_json(\"cologne_aoi.geojson\")\n",
    "rescaled_chunks = S2_cube.chunk_polygon(chunks=aoi,process=my_udf)\n",
    "\n",
    "# perform time dimension reduction\n",
    "Rrescaled_chunks = rescaled_chunks.reduce_dimension(dimension=\"t\", reducer=\"mean\")"
   ]
  },
  {
   "cell_type": "markdown",
   "id": "41449394",
   "metadata": {},
   "source": [
    "Once the process is completed, you can also save it as your process using [save_user_defined_process](https://open-eo.github.io/openeo-python-client/udp.html) that can later be used for a similar task. Otherwise, you can download the result either by direct download (in case of the small spatial extent with few processing) or perform create a [batch job](https://open-eo.github.io/openeo-python-client/batch_jobs.html) in case it is a heavy task over a large extent."
   ]
  },
  {
   "cell_type": "code",
   "execution_count": 8,
   "id": "ae737bde",
   "metadata": {},
   "outputs": [],
   "source": [
    "## download your result either using synchronous method or batch\n",
    "# synchronous download\n",
    "# rescaled_chunks.download(\"rescaled_test_v1.tiff\")\n",
    "# \n",
    "# Or perform batch processing if area is comparatively large\n",
    "batch_job = Rrescaled_chunks.create_job(out_format = \"GTiff\", title=\"rescaled_chunks2\")\n",
    "batch_job.start_and_wait()\n",
    "results = batch_job.get_results()\n",
    "results.download_files()"
   ]
  },
  {
   "cell_type": "code",
   "execution_count": null,
   "id": "df80ec84",
   "metadata": {},
   "outputs": [],
   "source": []
  }
 ],
 "metadata": {
  "kernelspec": {
   "display_name": "Python 3",
   "language": "python",
   "name": "python3"
  },
  "language_info": {
   "codemirror_mode": {
    "name": "ipython",
    "version": 3
   },
   "file_extension": ".py",
   "mimetype": "text/x-python",
   "name": "python",
   "nbconvert_exporter": "python",
   "pygments_lexer": "ipython3",
   "version": "3.6.8"
  }
 },
 "nbformat": 4,
 "nbformat_minor": 5
}
