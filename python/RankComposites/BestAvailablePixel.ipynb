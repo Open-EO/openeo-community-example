{
 "cells": [
  {
   "cell_type": "code",
   "execution_count": 10,
   "id": "882e80fa-f381-4db4-a3c0-d0ab5c5e4663",
   "metadata": {},
   "outputs": [],
   "source": [
    "spatial_extent = {'west': 4.45, 'east': 4.50, 'south': 51.16, 'north': 51.17, 'crs': 'epsg:4326'}"
   ]
  },
  {
   "cell_type": "code",
   "execution_count": 3,
   "id": "38c706f9-fb84-4049-9ab5-6b7415eedde1",
   "metadata": {},
   "outputs": [],
   "source": [
    "import openeo\n",
    "from openeo.api.process import Parameter\n",
    "import xarray\n",
    "import numpy as np\n",
    "import io\n",
    "import requests\n",
    "\n",
    "import panel as pn\n",
    "\n",
    "import pyproj\n",
    "import matplotlib.pyplot as plt\n",
    "import matplotlib\n",
    "\n",
    "%matplotlib inline"
   ]
  },
  {
   "cell_type": "code",
   "execution_count": 5,
   "id": "0de19a00-e942-4810-b898-2779d2ad8464",
   "metadata": {},
   "outputs": [],
   "source": [
    "import requests\n",
    "requests.packages.urllib3.util.connection.HAS_IPV6 = False"
   ]
  },
  {
   "cell_type": "code",
   "execution_count": 6,
   "id": "270b3c6f-7fee-4f6f-bd6a-b9d8b34b3529",
   "metadata": {},
   "outputs": [
    {
     "name": "stdout",
     "output_type": "stream",
     "text": [
      "Authenticated using refresh token.\n"
     ]
    },
    {
     "data": {
      "text/plain": [
       "<Connection to 'https://openeo-dev.vito.be/openeo/1.1/' with OidcBearerAuth>"
      ]
     },
     "execution_count": 6,
     "metadata": {},
     "output_type": "execute_result"
    }
   ],
   "source": [
    "c=openeo.connect(\"openeo-dev.vito.be\")\n",
    "c.authenticate_oidc()"
   ]
  },
  {
   "cell_type": "code",
   "execution_count": 7,
   "id": "479a021b-d3b0-4fb3-bd2d-dc46b00e64a2",
   "metadata": {},
   "outputs": [],
   "source": [
    "import scipy\n",
    "import numpy as np\n",
    "\n",
    "scl = c.load_collection(\n",
    "    \"TERRASCOPE_S2_TOC_V2\",\n",
    "    temporal_extent = [\"2022-07-01\", \"2022-08-01\"],\n",
    "    bands = [\"SCL\"],\n",
    "    max_cloud_cover=70\n",
    ")#.resample_spatial(resolution=60)\n",
    "\n",
    "def makekernel(iwindowsize):\n",
    "    kernel_vect = scipy.signal.windows.gaussian(iwindowsize, std=iwindowsize / 6.0, sym=True)\n",
    "    kernel = np.outer(kernel_vect, kernel_vect)\n",
    "    kernel = kernel / kernel.sum()\n",
    "    return kernel\n",
    "\n",
    "classification = scl.band(\"SCL\")\n",
    "binary = (classification == 3) | (classification == 8) | (classification == 9) | (classification == 10) | (classification == 11)\n",
    "    \n",
    "distance = binary.apply_kernel(makekernel(11))\n",
    "#distance.filter_bbox(spatial_extent).download(\"distance.nc\")"
   ]
  },
  {
   "cell_type": "markdown",
   "id": "a4700b83-8d86-43ed-b32f-5f215b7736ca",
   "metadata": {},
   "source": [
    "openEO masking: pixels that are set to 1 will become nodata after masking.\n",
    "See:\n",
    "https://processes.openeo.org/#mask\n",
    "\n",
    "\"pixels in data are replaced whose pixels in mask are non-zero (for numbers) or true (for boolean values)\""
   ]
  },
  {
   "cell_type": "code",
   "execution_count": 8,
   "id": "f4cdce30-6713-4d7f-86aa-010adefb535c",
   "metadata": {},
   "outputs": [
    {
     "name": "stderr",
     "output_type": "stream",
     "text": [
      "/home/driesj/python/openeo-python-client/openeo/api/process.py:22: UserWarning: Parameter without description: using name as description.\n",
      "  warnings.warn(\"Parameter without description: using name as description.\")\n"
     ]
    }
   ],
   "source": [
    "from openeo.processes import absolute, int,inspect,multiply,array_apply\n",
    "\n",
    "label = Parameter('label')\n",
    "parent = Parameter('parent.data')\n",
    "\n",
    "def bap_selection(ndvi):    \n",
    "    scoring_rule = lambda x:absolute(15*x) + absolute(x.process(\"date_difference\",date1=x.process(\"date_replace_component\",date=label,value=15,component=\"day\"),date2=label,unit=\"day\"))\n",
    "    score = ndvi.array_apply(scoring_rule)        \n",
    "    return score.array_apply(lambda x:int(x)!=int(array_apply(parent,scoring_rule).min()))\n",
    "    \n",
    "\n",
    "rank_mask = distance.apply_neighborhood(\n",
    "        bap_selection,\n",
    "        size=[{'dimension': 'x', 'unit': 'px', 'value': 1}, {'dimension': 'y', 'unit': 'px', 'value': 1},\n",
    "              {'dimension': 't', 'value': \"month\"}],\n",
    "        overlap=[]\n",
    "    )"
   ]
  },
  {
   "cell_type": "code",
   "execution_count": 16,
   "id": "023473a7-f34c-4cfa-83b8-9fc54ced1381",
   "metadata": {},
   "outputs": [],
   "source": [
    "distance.reduce_dimension(\"t\",bap_selection).filter_bbox(spatial_extent).download(\"min.nc\")"
   ]
  },
  {
   "cell_type": "code",
   "execution_count": 34,
   "id": "77f383dc-c69c-49eb-8c60-c5369ba1527d",
   "metadata": {},
   "outputs": [
    {
     "name": "stdout",
     "output_type": "stream",
     "text": [
      "0:00:00 Job 'j-231024021a474ce8b196f88df4058efc': send 'start'\n",
      "0:00:24 Job 'j-231024021a474ce8b196f88df4058efc': queued (progress N/A)\n",
      "0:00:29 Job 'j-231024021a474ce8b196f88df4058efc': queued (progress N/A)\n",
      "0:00:35 Job 'j-231024021a474ce8b196f88df4058efc': queued (progress N/A)\n",
      "0:00:43 Job 'j-231024021a474ce8b196f88df4058efc': queued (progress N/A)\n",
      "0:00:53 Job 'j-231024021a474ce8b196f88df4058efc': queued (progress N/A)\n",
      "0:01:06 Job 'j-231024021a474ce8b196f88df4058efc': queued (progress N/A)\n",
      "0:01:21 Job 'j-231024021a474ce8b196f88df4058efc': queued (progress N/A)\n",
      "0:01:40 Job 'j-231024021a474ce8b196f88df4058efc': queued (progress N/A)\n",
      "0:02:05 Job 'j-231024021a474ce8b196f88df4058efc': queued (progress N/A)\n",
      "0:02:35 Job 'j-231024021a474ce8b196f88df4058efc': running (progress N/A)\n",
      "0:03:12 Job 'j-231024021a474ce8b196f88df4058efc': running (progress N/A)\n",
      "0:04:00 Job 'j-231024021a474ce8b196f88df4058efc': running (progress N/A)\n",
      "0:04:58 Job 'j-231024021a474ce8b196f88df4058efc': finished (progress N/A)\n"
     ]
    },
    {
     "data": {
      "text/html": [
       "\n",
       "    <script>\n",
       "    if (!window.customElements || !window.customElements.get('openeo-job')) {\n",
       "        var el = document.createElement('script');\n",
       "        el.src = \"https://cdn.jsdelivr.net/npm/@openeo/vue-components@2/assets/openeo.min.js\";\n",
       "        document.head.appendChild(el);\n",
       "\n",
       "        var font = document.createElement('font');\n",
       "        font.as = \"font\";\n",
       "        font.type = \"font/woff2\";\n",
       "        font.crossOrigin = true;\n",
       "        font.href = \"https://use.fontawesome.com/releases/v5.13.0/webfonts/fa-solid-900.woff2\"\n",
       "        document.head.appendChild(font);\n",
       "    }\n",
       "    </script>\n",
       "    <openeo-job>\n",
       "        <script type=\"application/json\">{\"currency\": \"credits\", \"job\": {\"costs\": 5.0, \"created\": \"2023-10-24T11:37:41Z\", \"id\": \"j-231024021a474ce8b196f88df4058efc\", \"process\": {\"process_graph\": {\"applykernel1\": {\"arguments\": {\"border\": 0, \"data\": {\"from_node\": \"reducedimension1\"}, \"factor\": 1.0, \"kernel\": [[2.7997784517916887e-05, 0.00010680111407560471, 0.0003025633484593212, 0.000636568686406847, 0.0009946324943994967, 0.0011541664188901028, 0.0009946324943994967, 0.000636568686406847, 0.0003025633484593212, 0.00010680111407560471, 2.7997784517916887e-05], [0.00010680111407560471, 0.0004074064489099441, 0.0011541664188901028, 0.0024282723102747083, 0.0037941522990751105, 0.004402714767921408, 0.0037941522990751105, 0.0024282723102747083, 0.0011541664188901028, 0.0004074064489099441, 0.00010680111407560471], [0.0003025633484593212, 0.0011541664188901028, 0.003269707993228308, 0.0068791997866957414, 0.01074868398245496, 0.012472717480742834, 0.01074868398245496, 0.0068791997866957414, 0.003269707993228308, 0.0011541664188901028, 0.0003025633484593212], [0.000636568686406847, 0.0024282723102747083, 0.0068791997866957414, 0.014473277064277089, 0.02261435721859614, 0.026241583533068477, 0.02261435721859614, 0.014473277064277089, 0.0068791997866957414, 0.0024282723102747083, 0.000636568686406847], [0.0009946324943994967, 0.0037941522990751105, 0.01074868398245496, 0.02261435721859614, 0.03533471722672472, 0.0410022237094569, 0.03533471722672472, 0.02261435721859614, 0.01074868398245496, 0.0037941522990751105, 0.0009946324943994967], [0.0011541664188901028, 0.004402714767921408, 0.012472717480742834, 0.026241583533068477, 0.0410022237094569, 0.04757876901442472, 0.0410022237094569, 0.026241583533068477, 0.012472717480742834, 0.004402714767921408, 0.0011541664188901028], [0.0009946324943994967, 0.0037941522990751105, 0.01074868398245496, 0.02261435721859614, 0.03533471722672472, 0.0410022237094569, 0.03533471722672472, 0.02261435721859614, 0.01074868398245496, 0.0037941522990751105, 0.0009946324943994967], [0.000636568686406847, 0.0024282723102747083, 0.0068791997866957414, 0.014473277064277089, 0.02261435721859614, 0.026241583533068477, 0.02261435721859614, 0.014473277064277089, 0.0068791997866957414, 0.0024282723102747083, 0.000636568686406847], [0.0003025633484593212, 0.0011541664188901028, 0.003269707993228308, 0.0068791997866957414, 0.01074868398245496, 0.012472717480742834, 0.01074868398245496, 0.0068791997866957414, 0.003269707993228308, 0.0011541664188901028, 0.0003025633484593212], [0.00010680111407560471, 0.0004074064489099441, 0.0011541664188901028, 0.0024282723102747083, 0.0037941522990751105, 0.004402714767921408, 0.0037941522990751105, 0.0024282723102747083, 0.0011541664188901028, 0.0004074064489099441, 0.00010680111407560471], [2.7997784517916887e-05, 0.00010680111407560471, 0.0003025633484593212, 0.000636568686406847, 0.0009946324943994967, 0.0011541664188901028, 0.0009946324943994967, 0.000636568686406847, 0.0003025633484593212, 0.00010680111407560471, 2.7997784517916887e-05]], \"replace_invalid\": 0}, \"process_id\": \"apply_kernel\"}, \"applyneighborhood1\": {\"arguments\": {\"data\": {\"from_node\": \"applykernel1\"}, \"overlap\": [], \"process\": {\"process_graph\": {\"arrayapply1\": {\"arguments\": {\"data\": {\"from_parameter\": \"data\"}, \"process\": {\"process_graph\": {\"absolute1\": {\"arguments\": {\"x\": {\"from_node\": \"multiply1\"}}, \"process_id\": \"absolute\"}, \"absolute2\": {\"arguments\": {\"x\": {\"from_node\": \"datedifference1\"}}, \"process_id\": \"absolute\"}, \"add1\": {\"arguments\": {\"x\": {\"from_node\": \"absolute1\"}, \"y\": {\"from_node\": \"absolute2\"}}, \"process_id\": \"add\", \"result\": true}, \"datedifference1\": {\"arguments\": {\"date1\": {\"from_node\": \"datereplacecomponent1\"}, \"date2\": {\"from_parameter\": \"label\"}, \"unit\": \"day\"}, \"process_id\": \"date_difference\"}, \"datereplacecomponent1\": {\"arguments\": {\"component\": \"day\", \"date\": {\"from_parameter\": \"label\"}, \"value\": 15}, \"process_id\": \"date_replace_component\"}, \"multiply1\": {\"arguments\": {\"x\": 15, \"y\": {\"from_parameter\": \"x\"}}, \"process_id\": \"multiply\"}}}}, \"process_id\": \"array_apply\"}, \"arrayapply3\": {\"arguments\": {\"data\": {\"from_node\": \"arrayapply1\"}, \"process\": {\"process_graph\": {\"arrayapply2\": {\"arguments\": {\"data\": {\"from_parameter\": \"parent.data\"}, \"process\": {\"process_graph\": {\"absolute3\": {\"arguments\": {\"x\": {\"from_node\": \"multiply2\"}}, \"process_id\": \"absolute\"}, \"absolute4\": {\"arguments\": {\"x\": {\"from_node\": \"datedifference2\"}}, \"process_id\": \"absolute\"}, \"add2\": {\"arguments\": {\"x\": {\"from_node\": \"absolute3\"}, \"y\": {\"from_node\": \"absolute4\"}}, \"process_id\": \"add\", \"result\": true}, \"datedifference2\": {\"arguments\": {\"date1\": {\"from_node\": \"datereplacecomponent2\"}, \"date2\": {\"from_parameter\": \"label\"}, \"unit\": \"day\"}, \"process_id\": \"date_difference\"}, \"datereplacecomponent2\": {\"arguments\": {\"component\": \"day\", \"date\": {\"from_parameter\": \"label\"}, \"value\": 15}, \"process_id\": \"date_replace_component\"}, \"multiply2\": {\"arguments\": {\"x\": 15, \"y\": {\"from_parameter\": \"x\"}}, \"process_id\": \"multiply\"}}}}, \"process_id\": \"array_apply\"}, \"int1\": {\"arguments\": {\"x\": {\"from_parameter\": \"x\"}}, \"process_id\": \"int\"}, \"int2\": {\"arguments\": {\"x\": {\"from_node\": \"min1\"}}, \"process_id\": \"int\"}, \"min1\": {\"arguments\": {\"data\": {\"from_node\": \"arrayapply2\"}}, \"process_id\": \"min\"}, \"neq1\": {\"arguments\": {\"x\": {\"from_node\": \"int1\"}, \"y\": {\"from_node\": \"int2\"}}, \"process_id\": \"neq\", \"result\": true}}}}, \"process_id\": \"array_apply\", \"result\": true}}}, \"size\": [{\"dimension\": \"x\", \"unit\": \"px\", \"value\": 1}, {\"dimension\": \"y\", \"unit\": \"px\", \"value\": 1}, {\"dimension\": \"t\", \"value\": \"month\"}]}, \"process_id\": \"apply_neighborhood\"}, \"filterbbox1\": {\"arguments\": {\"data\": {\"from_node\": \"applyneighborhood1\"}, \"extent\": {\"crs\": \"epsg:4326\", \"east\": 4.7, \"north\": 51.22, \"south\": 51.16, \"west\": 4.45}}, \"process_id\": \"filter_bbox\"}, \"loadcollection1\": {\"arguments\": {\"bands\": [\"SCL\"], \"id\": \"SENTINEL2_L2A\", \"properties\": {\"eo:cloud_cover\": {\"process_graph\": {\"lte1\": {\"arguments\": {\"x\": {\"from_parameter\": \"value\"}, \"y\": 70}, \"process_id\": \"lte\", \"result\": true}}}}, \"spatial_extent\": null, \"temporal_extent\": [\"2022-07-01\", \"2022-08-01\"]}, \"process_id\": \"load_collection\"}, \"reducedimension1\": {\"arguments\": {\"data\": {\"from_node\": \"loadcollection1\"}, \"dimension\": \"bands\", \"reducer\": {\"process_graph\": {\"arrayelement1\": {\"arguments\": {\"data\": {\"from_parameter\": \"data\"}, \"index\": 0}, \"process_id\": \"array_element\"}, \"eq1\": {\"arguments\": {\"x\": {\"from_node\": \"arrayelement1\"}, \"y\": 3}, \"process_id\": \"eq\"}, \"eq2\": {\"arguments\": {\"x\": {\"from_node\": \"arrayelement1\"}, \"y\": 8}, \"process_id\": \"eq\"}, \"eq3\": {\"arguments\": {\"x\": {\"from_node\": \"arrayelement1\"}, \"y\": 9}, \"process_id\": \"eq\"}, \"eq4\": {\"arguments\": {\"x\": {\"from_node\": \"arrayelement1\"}, \"y\": 10}, \"process_id\": \"eq\"}, \"eq5\": {\"arguments\": {\"x\": {\"from_node\": \"arrayelement1\"}, \"y\": 11}, \"process_id\": \"eq\"}, \"or1\": {\"arguments\": {\"x\": {\"from_node\": \"eq1\"}, \"y\": {\"from_node\": \"eq2\"}}, \"process_id\": \"or\"}, \"or2\": {\"arguments\": {\"x\": {\"from_node\": \"or1\"}, \"y\": {\"from_node\": \"eq3\"}}, \"process_id\": \"or\"}, \"or3\": {\"arguments\": {\"x\": {\"from_node\": \"or2\"}, \"y\": {\"from_node\": \"eq4\"}}, \"process_id\": \"or\"}, \"or4\": {\"arguments\": {\"x\": {\"from_node\": \"or3\"}, \"y\": {\"from_node\": \"eq5\"}}, \"process_id\": \"or\", \"result\": true}}}}, \"process_id\": \"reduce_dimension\"}, \"saveresult1\": {\"arguments\": {\"data\": {\"from_node\": \"filterbbox1\"}, \"format\": \"netCDF\", \"options\": {}}, \"process_id\": \"save_result\", \"result\": true}}}, \"status\": \"finished\", \"updated\": \"2023-10-24T11:38:05Z\", \"usage\": {\"cpu\": {\"unit\": \"cpu-seconds\", \"value\": 3929}, \"duration\": {\"unit\": \"seconds\", \"value\": 220}, \"input_pixel\": {\"unit\": \"mega-pixel\", \"value\": 20.25}, \"memory\": {\"unit\": \"mb-seconds\", \"value\": 9513185}}}}</script>\n",
       "    </openeo-job>\n",
       "    "
      ],
      "text/plain": [
       "<BatchJob job_id='j-231024021a474ce8b196f88df4058efc'>"
      ]
     },
     "execution_count": 34,
     "metadata": {},
     "output_type": "execute_result"
    }
   ],
   "source": [
    "rank_mask.filter_bbox(spatial_extent).execute_batch(\"cloud_mask_both_fullres2.nc\")"
   ]
  },
  {
   "cell_type": "code",
   "execution_count": 11,
   "id": "f02792d7-6292-4a55-bff0-d2b191d93ac2",
   "metadata": {},
   "outputs": [
    {
     "name": "stdout",
     "output_type": "stream",
     "text": [
      "0:00:00 Job 'j-2310254a9c154b6ea63e4459c749ea05': send 'start'\n",
      "0:00:21 Job 'j-2310254a9c154b6ea63e4459c749ea05': queued (progress N/A)\n",
      "0:00:26 Job 'j-2310254a9c154b6ea63e4459c749ea05': queued (progress N/A)\n",
      "0:00:33 Job 'j-2310254a9c154b6ea63e4459c749ea05': queued (progress N/A)\n",
      "0:00:41 Job 'j-2310254a9c154b6ea63e4459c749ea05': queued (progress N/A)\n",
      "0:00:51 Job 'j-2310254a9c154b6ea63e4459c749ea05': queued (progress N/A)\n",
      "0:01:03 Job 'j-2310254a9c154b6ea63e4459c749ea05': queued (progress N/A)\n",
      "0:01:19 Job 'j-2310254a9c154b6ea63e4459c749ea05': queued (progress N/A)\n",
      "0:01:38 Job 'j-2310254a9c154b6ea63e4459c749ea05': queued (progress N/A)\n",
      "0:02:02 Job 'j-2310254a9c154b6ea63e4459c749ea05': queued (progress N/A)\n",
      "0:02:32 Job 'j-2310254a9c154b6ea63e4459c749ea05': queued (progress N/A)\n",
      "0:03:10 Job 'j-2310254a9c154b6ea63e4459c749ea05': running (progress N/A)\n",
      "0:03:56 Job 'j-2310254a9c154b6ea63e4459c749ea05': running (progress N/A)\n",
      "0:04:55 Job 'j-2310254a9c154b6ea63e4459c749ea05': running (progress N/A)\n",
      "0:05:55 Job 'j-2310254a9c154b6ea63e4459c749ea05': running (progress N/A)\n",
      "0:06:55 Job 'j-2310254a9c154b6ea63e4459c749ea05': finished (progress N/A)\n"
     ]
    },
    {
     "data": {
      "text/html": [
       "\n",
       "    <script>\n",
       "    if (!window.customElements || !window.customElements.get('openeo-job')) {\n",
       "        var el = document.createElement('script');\n",
       "        el.src = \"https://cdn.jsdelivr.net/npm/@openeo/vue-components@2/assets/openeo.min.js\";\n",
       "        document.head.appendChild(el);\n",
       "\n",
       "        var font = document.createElement('font');\n",
       "        font.as = \"font\";\n",
       "        font.type = \"font/woff2\";\n",
       "        font.crossOrigin = true;\n",
       "        font.href = \"https://use.fontawesome.com/releases/v5.13.0/webfonts/fa-solid-900.woff2\"\n",
       "        document.head.appendChild(font);\n",
       "    }\n",
       "    </script>\n",
       "    <openeo-job>\n",
       "        <script type=\"application/json\">{\"currency\": \"credits\", \"job\": {\"costs\": 7.0, \"created\": \"2023-10-25T05:51:19Z\", \"id\": \"j-2310254a9c154b6ea63e4459c749ea05\", \"process\": {\"process_graph\": {\"applykernel1\": {\"arguments\": {\"border\": 0, \"data\": {\"from_node\": \"reducedimension1\"}, \"factor\": 1.0, \"kernel\": [[2.7997784517916887e-05, 0.00010680111407560471, 0.0003025633484593212, 0.000636568686406847, 0.0009946324943994967, 0.0011541664188901028, 0.0009946324943994967, 0.000636568686406847, 0.0003025633484593212, 0.00010680111407560471, 2.7997784517916887e-05], [0.00010680111407560471, 0.0004074064489099441, 0.0011541664188901028, 0.0024282723102747083, 0.0037941522990751105, 0.004402714767921408, 0.0037941522990751105, 0.0024282723102747083, 0.0011541664188901028, 0.0004074064489099441, 0.00010680111407560471], [0.0003025633484593212, 0.0011541664188901028, 0.003269707993228308, 0.0068791997866957414, 0.01074868398245496, 0.012472717480742834, 0.01074868398245496, 0.0068791997866957414, 0.003269707993228308, 0.0011541664188901028, 0.0003025633484593212], [0.000636568686406847, 0.0024282723102747083, 0.0068791997866957414, 0.014473277064277089, 0.02261435721859614, 0.026241583533068477, 0.02261435721859614, 0.014473277064277089, 0.0068791997866957414, 0.0024282723102747083, 0.000636568686406847], [0.0009946324943994967, 0.0037941522990751105, 0.01074868398245496, 0.02261435721859614, 0.03533471722672472, 0.0410022237094569, 0.03533471722672472, 0.02261435721859614, 0.01074868398245496, 0.0037941522990751105, 0.0009946324943994967], [0.0011541664188901028, 0.004402714767921408, 0.012472717480742834, 0.026241583533068477, 0.0410022237094569, 0.04757876901442472, 0.0410022237094569, 0.026241583533068477, 0.012472717480742834, 0.004402714767921408, 0.0011541664188901028], [0.0009946324943994967, 0.0037941522990751105, 0.01074868398245496, 0.02261435721859614, 0.03533471722672472, 0.0410022237094569, 0.03533471722672472, 0.02261435721859614, 0.01074868398245496, 0.0037941522990751105, 0.0009946324943994967], [0.000636568686406847, 0.0024282723102747083, 0.0068791997866957414, 0.014473277064277089, 0.02261435721859614, 0.026241583533068477, 0.02261435721859614, 0.014473277064277089, 0.0068791997866957414, 0.0024282723102747083, 0.000636568686406847], [0.0003025633484593212, 0.0011541664188901028, 0.003269707993228308, 0.0068791997866957414, 0.01074868398245496, 0.012472717480742834, 0.01074868398245496, 0.0068791997866957414, 0.003269707993228308, 0.0011541664188901028, 0.0003025633484593212], [0.00010680111407560471, 0.0004074064489099441, 0.0011541664188901028, 0.0024282723102747083, 0.0037941522990751105, 0.004402714767921408, 0.0037941522990751105, 0.0024282723102747083, 0.0011541664188901028, 0.0004074064489099441, 0.00010680111407560471], [2.7997784517916887e-05, 0.00010680111407560471, 0.0003025633484593212, 0.000636568686406847, 0.0009946324943994967, 0.0011541664188901028, 0.0009946324943994967, 0.000636568686406847, 0.0003025633484593212, 0.00010680111407560471, 2.7997784517916887e-05]], \"replace_invalid\": 0}, \"process_id\": \"apply_kernel\"}, \"applyneighborhood1\": {\"arguments\": {\"data\": {\"from_node\": \"applykernel1\"}, \"overlap\": [], \"process\": {\"process_graph\": {\"arrayapply1\": {\"arguments\": {\"data\": {\"from_parameter\": \"data\"}, \"process\": {\"process_graph\": {\"absolute1\": {\"arguments\": {\"x\": {\"from_node\": \"multiply1\"}}, \"process_id\": \"absolute\"}, \"absolute2\": {\"arguments\": {\"x\": {\"from_node\": \"datedifference1\"}}, \"process_id\": \"absolute\"}, \"add1\": {\"arguments\": {\"x\": {\"from_node\": \"absolute1\"}, \"y\": {\"from_node\": \"absolute2\"}}, \"process_id\": \"add\", \"result\": true}, \"datedifference1\": {\"arguments\": {\"date1\": {\"from_node\": \"datereplacecomponent1\"}, \"date2\": {\"from_parameter\": \"label\"}, \"unit\": \"day\"}, \"process_id\": \"date_difference\"}, \"datereplacecomponent1\": {\"arguments\": {\"component\": \"day\", \"date\": {\"from_parameter\": \"label\"}, \"value\": 15}, \"process_id\": \"date_replace_component\"}, \"multiply1\": {\"arguments\": {\"x\": 15, \"y\": {\"from_parameter\": \"x\"}}, \"process_id\": \"multiply\"}}}}, \"process_id\": \"array_apply\"}, \"arrayapply3\": {\"arguments\": {\"data\": {\"from_node\": \"arrayapply1\"}, \"process\": {\"process_graph\": {\"arrayapply2\": {\"arguments\": {\"data\": {\"from_parameter\": \"parent.data\"}, \"process\": {\"process_graph\": {\"absolute3\": {\"arguments\": {\"x\": {\"from_node\": \"multiply2\"}}, \"process_id\": \"absolute\"}, \"absolute4\": {\"arguments\": {\"x\": {\"from_node\": \"datedifference2\"}}, \"process_id\": \"absolute\"}, \"add2\": {\"arguments\": {\"x\": {\"from_node\": \"absolute3\"}, \"y\": {\"from_node\": \"absolute4\"}}, \"process_id\": \"add\", \"result\": true}, \"datedifference2\": {\"arguments\": {\"date1\": {\"from_node\": \"datereplacecomponent2\"}, \"date2\": {\"from_parameter\": \"label\"}, \"unit\": \"day\"}, \"process_id\": \"date_difference\"}, \"datereplacecomponent2\": {\"arguments\": {\"component\": \"day\", \"date\": {\"from_parameter\": \"label\"}, \"value\": 15}, \"process_id\": \"date_replace_component\"}, \"multiply2\": {\"arguments\": {\"x\": 15, \"y\": {\"from_parameter\": \"x\"}}, \"process_id\": \"multiply\"}}}}, \"process_id\": \"array_apply\"}, \"int1\": {\"arguments\": {\"x\": {\"from_parameter\": \"x\"}}, \"process_id\": \"int\"}, \"int2\": {\"arguments\": {\"x\": {\"from_node\": \"min1\"}}, \"process_id\": \"int\"}, \"min1\": {\"arguments\": {\"data\": {\"from_node\": \"arrayapply2\"}}, \"process_id\": \"min\"}, \"neq1\": {\"arguments\": {\"x\": {\"from_node\": \"int1\"}, \"y\": {\"from_node\": \"int2\"}}, \"process_id\": \"neq\", \"result\": true}}}}, \"process_id\": \"array_apply\", \"result\": true}}}, \"size\": [{\"dimension\": \"x\", \"unit\": \"px\", \"value\": 1}, {\"dimension\": \"y\", \"unit\": \"px\", \"value\": 1}, {\"dimension\": \"t\", \"value\": \"month\"}]}, \"process_id\": \"apply_neighborhood\"}, \"filterbbox1\": {\"arguments\": {\"data\": {\"from_node\": \"reducedimension2\"}, \"extent\": {\"crs\": \"epsg:4326\", \"east\": 4.5, \"north\": 51.17, \"south\": 51.16, \"west\": 4.45}}, \"process_id\": \"filter_bbox\"}, \"loadcollection1\": {\"arguments\": {\"bands\": [\"B02\", \"B03\"], \"id\": \"TERRASCOPE_S2_TOC_V2\", \"properties\": {\"eo:cloud_cover\": {\"process_graph\": {\"lte1\": {\"arguments\": {\"x\": {\"from_parameter\": \"value\"}, \"y\": 70}, \"process_id\": \"lte\", \"result\": true}}}}, \"spatial_extent\": null, \"temporal_extent\": [\"2022-07-01\", \"2022-08-01\"]}, \"process_id\": \"load_collection\"}, \"loadcollection2\": {\"arguments\": {\"bands\": [\"SCL\"], \"id\": \"TERRASCOPE_S2_TOC_V2\", \"properties\": {\"eo:cloud_cover\": {\"process_graph\": {\"lte2\": {\"arguments\": {\"x\": {\"from_parameter\": \"value\"}, \"y\": 70}, \"process_id\": \"lte\", \"result\": true}}}}, \"spatial_extent\": null, \"temporal_extent\": [\"2022-07-01\", \"2022-08-01\"]}, \"process_id\": \"load_collection\"}, \"mask1\": {\"arguments\": {\"data\": {\"from_node\": \"loadcollection1\"}, \"mask\": {\"from_node\": \"applyneighborhood1\"}}, \"process_id\": \"mask\"}, \"reducedimension1\": {\"arguments\": {\"data\": {\"from_node\": \"loadcollection2\"}, \"dimension\": \"bands\", \"reducer\": {\"process_graph\": {\"arrayelement1\": {\"arguments\": {\"data\": {\"from_parameter\": \"data\"}, \"index\": 0}, \"process_id\": \"array_element\"}, \"eq1\": {\"arguments\": {\"x\": {\"from_node\": \"arrayelement1\"}, \"y\": 3}, \"process_id\": \"eq\"}, \"eq2\": {\"arguments\": {\"x\": {\"from_node\": \"arrayelement1\"}, \"y\": 8}, \"process_id\": \"eq\"}, \"eq3\": {\"arguments\": {\"x\": {\"from_node\": \"arrayelement1\"}, \"y\": 9}, \"process_id\": \"eq\"}, \"eq4\": {\"arguments\": {\"x\": {\"from_node\": \"arrayelement1\"}, \"y\": 10}, \"process_id\": \"eq\"}, \"eq5\": {\"arguments\": {\"x\": {\"from_node\": \"arrayelement1\"}, \"y\": 11}, \"process_id\": \"eq\"}, \"or1\": {\"arguments\": {\"x\": {\"from_node\": \"eq1\"}, \"y\": {\"from_node\": \"eq2\"}}, \"process_id\": \"or\"}, \"or2\": {\"arguments\": {\"x\": {\"from_node\": \"or1\"}, \"y\": {\"from_node\": \"eq3\"}}, \"process_id\": \"or\"}, \"or3\": {\"arguments\": {\"x\": {\"from_node\": \"or2\"}, \"y\": {\"from_node\": \"eq4\"}}, \"process_id\": \"or\"}, \"or4\": {\"arguments\": {\"x\": {\"from_node\": \"or3\"}, \"y\": {\"from_node\": \"eq5\"}}, \"process_id\": \"or\", \"result\": true}}}}, \"process_id\": \"reduce_dimension\"}, \"reducedimension2\": {\"arguments\": {\"data\": {\"from_node\": \"mask1\"}, \"dimension\": \"t\", \"reducer\": {\"process_graph\": {\"min2\": {\"arguments\": {\"data\": {\"from_parameter\": \"data\"}}, \"process_id\": \"min\", \"result\": true}}}}, \"process_id\": \"reduce_dimension\"}, \"saveresult1\": {\"arguments\": {\"data\": {\"from_node\": \"filterbbox1\"}, \"format\": \"netCDF\", \"options\": {}}, \"process_id\": \"save_result\", \"result\": true}}}, \"status\": \"finished\", \"updated\": \"2023-10-25T05:51:40Z\", \"usage\": {\"cpu\": {\"unit\": \"cpu-seconds\", \"value\": 4808}, \"duration\": {\"unit\": \"seconds\", \"value\": 352}, \"input_pixel\": {\"unit\": \"mega-pixel\", \"value\": 7.3125}, \"memory\": {\"unit\": \"mb-seconds\", \"value\": 11413676}}}}</script>\n",
       "    </openeo-job>\n",
       "    "
      ],
      "text/plain": [
       "<BatchJob job_id='j-2310254a9c154b6ea63e4459c749ea05'>"
      ]
     },
     "execution_count": 11,
     "metadata": {},
     "output_type": "execute_result"
    }
   ],
   "source": [
    "composite = c.load_collection(\n",
    "    \"TERRASCOPE_S2_TOC_V2\",\n",
    "    temporal_extent = [\"2022-07-01\", \"2022-08-01\"],\n",
    "    bands = [\"B02\",\"B03\"],\n",
    "    max_cloud_cover=70\n",
    ")\n",
    "composite.mask(rank_mask).min_time().filter_bbox(spatial_extent).execute_batch(\"bap_composite.nc\")"
   ]
  }
 ],
 "metadata": {
  "kernelspec": {
   "display_name": "Python 3 (ipykernel)",
   "language": "python",
   "name": "python3"
  },
  "language_info": {
   "codemirror_mode": {
    "name": "ipython",
    "version": 3
   },
   "file_extension": ".py",
   "mimetype": "text/x-python",
   "name": "python",
   "nbconvert_exporter": "python",
   "pygments_lexer": "ipython3",
   "version": "3.11.5"
  }
 },
 "nbformat": 4,
 "nbformat_minor": 5
}
