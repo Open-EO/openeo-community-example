{
 "cells": [
  {
   "cell_type": "markdown",
   "metadata": {},
   "source": [
    "# Geospatial Job Management and Visualization with OpenEO\n",
    "\n",
    "This notebook demonstrates how to authenticate with the OpenEO backend, create a spatial grid for a specific region, prepare jobs for geospatial analysis, run them in parallel, and visualize the job statuses using interactive maps.\n",
    "\n",
    "We will go through the following steps:\n",
    "1. **Authentication and Backend Initialization**\n",
    "2. **Generating a Spatial Grid for the Antwerp Region**\n",
    "3. **Preparing Jobs for Parallel Processing**\n",
    "4. **Running and Tracking Jobs Using MultiBackendJobManager**\n",
    "5. **Visualizing Job Status Using Plotly Maps**"
   ]
  },
  {
   "cell_type": "markdown",
   "metadata": {},
   "source": [
    "### 1. Authentication and Backend Initialization\n",
    "\n",
    "We start by connecting to the Copernicus Dataspace OpenEO backend and authenticating using OpenID Connect. The `MultiBackendJobManager` is initialized to manage jobs across multiple backends.\n"
   ]
  },
  {
   "cell_type": "code",
   "execution_count": 1,
   "metadata": {},
   "outputs": [
    {
     "name": "stdout",
     "output_type": "stream",
     "text": [
      "Authenticated using refresh token.\n"
     ]
    }
   ],
   "source": [
    "# 1. Importing Required Packages\n",
    "\n",
    "import json\n",
    "import openeo\n",
    "import pandas as pd\n",
    "import shapely\n",
    "from openeo.extra.job_management import MultiBackendJobManager, CsvJobDatabase\n",
    "\n",
    "# Authenticate and add the backend\n",
    "connection = openeo.connect(url=\"openeofed.dataspace.copernicus.eu\").authenticate_oidc()\n",
    "\n",
    "# initialize the job manager\n",
    "manager = MultiBackendJobManager()\n",
    "manager.add_backend(\"cdse\", connection=connection, parallel_jobs=2)"
   ]
  },
  {
   "cell_type": "markdown",
   "metadata": {},
   "source": [
    "### 3. Generating a Spatial Grid for the Antwerp Region\n",
    "\n",
    "We define a bounding box for Antwerp in WGS84 coordinates and convert it to UTM (Universal Transverse Mercator) coordinates. A grid is created using these UTM coordinates and then converted back to WGS84 for further processing.\n",
    "\n",
    "We also save the grid as a GeoJSON file for future use.\n"
   ]
  },
  {
   "cell_type": "code",
   "execution_count": null,
   "metadata": {},
   "outputs": [],
   "source": [
    "# 3. Generate the grid for Antwerp\n",
    "import geopandas as gpd\n",
    "from shapely.geometry import box\n",
    "import numpy as np\n",
    "\n",
    "# Define the bounding box, transformers, and grid size\n",
    "grid_size_m = 5000\n",
    "x_coords = np.arange(595000, 600000, grid_size_m)\n",
    "y_coords = np.arange(5660000, 56730000, grid_size_m)\n",
    "\n",
    "# Create polygons for the grid\n",
    "polygons = [box(x, y, x + grid_size_m, y + grid_size_m) for x in x_coords for y in y_coords]\n",
    "\n",
    "# Create a GeoDataFrame and save it\n",
    "grid_gdf_utm = gpd.GeoDataFrame({'geometry': polygons}, crs=\"EPSG:32631\")\n",
    "grid_gdf_latlon = grid_gdf_utm.to_crs(\"EPSG:4326\")\n",
    "grid_gdf_latlon['id'] = range(len(grid_gdf_latlon))\n",
    "grid_gdf_latlon.to_file(\"./antwerp_grid_5km.geojson\", driver=\"GeoJSON\")\n"
   ]
  },
  {
   "cell_type": "markdown",
   "metadata": {},
   "source": [
    "### 4. Visualizing the Spatial Grid\n",
    "\n",
    "Using Plotly, we visualize the spatial grid we just created.\n"
   ]
  },
  {
   "cell_type": "code",
   "execution_count": null,
   "metadata": {},
   "outputs": [],
   "source": [
    "# 4. Visualizing the grid using Plotly\n",
    "import plotly.express as px\n",
    "\n",
    "bboxes = gpd.read_file(\"./antwerp_grid_5km.geojson\")\n",
    "\n",
    "fig = px.choropleth_mapbox(\n",
    "    bboxes,\n",
    "    geojson=bboxes.geometry,\n",
    "    locations=bboxes.index,\n",
    "    mapbox_style=\"carto-positron\",\n",
    "    center={\"lat\": 51.15, \"lon\": 4.4},\n",
    "    zoom=8,\n",
    "    title=\"Spatial Grid for Antwerp Region\"\n",
    ")\n",
    "\n",
    "fig.update_geos(fitbounds=\"locations\")\n",
    "fig.update_layout(margin={\"r\":0,\"t\":0,\"l\":0,\"b\":0})\n",
    "fig.show(\"png\")\n"
   ]
  },
  {
   "cell_type": "markdown",
   "metadata": {},
   "source": [
    "### 5. Preparing Jobs for Geospatial Processing\n",
    "\n",
    "Here, we define a function to create a job configuration DataFrame. The jobs are set to analyze NDVI (Normalized Difference Vegetation Index) using Sentinel-2 data over a specific time range.\n"
   ]
  },
  {
   "cell_type": "code",
   "execution_count": 7,
   "metadata": {},
   "outputs": [],
   "source": [
    "# 5. Prepare the job DataFrame\n",
    "def prepare_jobs_df(temporal_range, grid_df) -> pd.DataFrame:\n",
    "    jobs = []\n",
    "    for _, row in grid_df.iterrows():\n",
    "        startdate, enddate = temporal_range[0], temporal_range[1]\n",
    "        spatial_extent = shapely.to_geojson(row.geometry)\n",
    "        jobs.append({\n",
    "            \"spatial_extent\": spatial_extent,\n",
    "            \"start_date\": startdate,\n",
    "            \"end_date\": enddate\n",
    "        })\n",
    "    return pd.DataFrame(jobs)\n",
    "\n",
    "# Create the jobs DataFrame\n",
    "jobs_df = prepare_jobs_df([\"2024-05-01\", \"2024-08-01\"], bboxes)\n",
    "\n",
    "job_tracker = 'job_tracker.csv'\n",
    "job_db = CsvJobDatabase(path=job_tracker)\n",
    "if not job_db.exists():\n",
    "    df = manager._normalize_df(jobs_df)\n",
    "    job_db.persist(df)"
   ]
  },
  {
   "cell_type": "markdown",
   "metadata": {},
   "source": [
    "### 6. Running the Jobs with MultiBackendJobManager\n",
    "\n",
    "We define a function to start a job for each grid square, running it in parallel using the `MultiBackendJobManager`.\n"
   ]
  },
  {
   "cell_type": "code",
   "execution_count": 8,
   "metadata": {},
   "outputs": [],
   "source": [
    "# 6. Start the jobs using the job manager\n",
    "def start_job(row: pd.Series, connection: openeo.Connection, **kwargs) -> openeo.BatchJob:\n",
    "    spatial_extent = json.loads(row[\"spatial_extent\"])\n",
    "    startdate = row[\"start_date\"]\n",
    "    enddate = row[\"end_date\"]\n",
    "\n",
    "    cube = connection.load_collection(\n",
    "        \"SENTINEL2_L2A\",\n",
    "        temporal_extent=[startdate, enddate],\n",
    "        spatial_extent=spatial_extent,\n",
    "        bands=[\"B04\", \"B08\"])\n",
    "\n",
    "    ndvi_cube = cube.ndvi().mean_time()\n",
    "\n",
    "    return ndvi_cube.create_job(\n",
    "        title=f\"test excercise ndvi\",\n",
    "        out_format=\"NetCDF\",\n",
    "        job_options={\"executor-memory\": \"2G\", \"executor-memoryOverhead\": \"2G\", \"python-memory\": \"500m\"}\n",
    "    )\n"
   ]
  },
  {
   "cell_type": "markdown",
   "metadata": {},
   "source": [
    "### 7. Visualizing Job Status\n",
    "\n",
    "Set up a threaded approach to run the jobs and visualise the same time\n",
    "\n",
    "We load the job tracker file and visualize the status of each job in the spatial grid using a Plotly choropleth map.\n"
   ]
  },
  {
   "cell_type": "code",
   "execution_count": null,
   "metadata": {},
   "outputs": [
    {
     "data": {
      "application/vnd.plotly.v1+json": {
       "config": {
        "linkText": "Export to plot.ly",
        "plotlyServerURL": "https://plot.ly",
        "showLink": false
       },
       "data": [
        {
         "colorscale": [
          [
           0,
           "lime"
          ],
          [
           1,
           "lime"
          ]
         ],
         "geojson": {
          "bbox": [
           4.35,
           51.0982640853961,
           4.497132214888826,
           51.23484603142092
          ],
          "features": [
           {
            "bbox": [
             4.35,
             51.09915382868185,
             4.422768249732058,
             51.144949048782635
            ],
            "geometry": {
             "coordinates": [
              [
               [
                4.421387983497856,
                51.09915382868185
               ],
               [
                4.422768249732058,
                51.144101526567376
               ],
               [
                4.351310996311721,
                51.144949048782635
               ],
               [
                4.35,
                51.1
               ],
               [
                4.421387983497856,
                51.09915382868185
               ]
              ]
             ],
             "type": "Polygon"
            },
            "id": "0",
            "properties": {},
            "type": "Feature"
           },
           {
            "bbox": [
             4.351310996311721,
             51.144101526567376,
             4.424152073837329,
             51.18989772591063
            ],
            "geometry": {
             "coordinates": [
              [
               [
                4.422768249732058,
                51.144101526567376
               ],
               [
                4.424152073837329,
                51.18904885018396
               ],
               [
                4.352625372093692,
                51.18989772591063
               ],
               [
                4.351310996311721,
                51.144949048782635
               ],
               [
                4.422768249732058,
                51.144101526567376
               ]
              ]
             ],
             "type": "Polygon"
            },
            "id": "1",
            "properties": {},
            "type": "Feature"
           },
           {
            "bbox": [
             4.352625372093692,
             51.18904885018396,
             4.425539467893135,
             51.23484603142092
            ],
            "geometry": {
             "coordinates": [
              [
               [
                4.424152073837329,
                51.18904885018396
               ],
               [
                4.425539467893135,
                51.23399579955925
               ],
               [
                4.353943138820509,
                51.23484603142092
               ],
               [
                4.352625372093692,
                51.18989772591063
               ],
               [
                4.424152073837329,
                51.18904885018396
               ]
              ]
             ],
             "type": "Polygon"
            },
            "id": "2",
            "properties": {},
            "type": "Feature"
           },
           {
            "bbox": [
             4.421387983497856,
             51.0982640853961,
             4.494221945290669,
             51.144101526567376
            ],
            "geometry": {
             "coordinates": [
              [
               [
                4.492772421157351,
                51.0982640853961
               ],
               [
                4.494221945290669,
                51.143210362875934
               ],
               [
                4.422768249732058,
                51.144101526567376
               ],
               [
                4.421387983497856,
                51.09915382868185
               ],
               [
                4.492772421157351,
                51.0982640853961
               ]
              ]
             ],
             "type": "Polygon"
            },
            "id": "3",
            "properties": {},
            "type": "Feature"
           },
           {
            "bbox": [
             4.422768249732058,
             51.143210362875934,
             4.495675205639821,
             51.18904885018396
            ],
            "geometry": {
             "coordinates": [
              [
               [
                4.494221945290669,
                51.143210362875934
               ],
               [
                4.495675205639821,
                51.18815626333831
               ],
               [
                4.424152073837329,
                51.18904885018396
               ],
               [
                4.422768249732058,
                51.144101526567376
               ],
               [
                4.494221945290669,
                51.143210362875934
               ]
              ]
             ],
             "type": "Polygon"
            },
            "id": "4",
            "properties": {},
            "type": "Feature"
           },
           {
            "bbox": [
             4.424152073837329,
             51.18815626333831,
             4.497132214888826,
             51.23399579955925
            ],
            "geometry": {
             "coordinates": [
              [
               [
                4.495675205639821,
                51.18815626333831
               ],
               [
                4.497132214888826,
                51.23310178680106
               ],
               [
                4.425539467893135,
                51.23399579955925
               ],
               [
                4.424152073837329,
                51.18904885018396
               ],
               [
                4.495675205639821,
                51.18815626333831
               ]
              ]
             ],
             "type": "Polygon"
            },
            "id": "5",
            "properties": {},
            "type": "Feature"
           }
          ],
          "type": "FeatureCollection"
         },
         "hovertemplate": "Job Status=finished<br>index=%{location}<extra></extra>",
         "locations": [
          0,
          1,
          2,
          3
         ],
         "name": "finished",
         "showlegend": true,
         "showscale": false,
         "subplot": "mapbox",
         "type": "choroplethmapbox",
         "z": [
          1,
          1,
          1,
          1
         ]
        },
        {
         "colorscale": [
          [
           0,
           "navy"
          ],
          [
           1,
           "navy"
          ]
         ],
         "geojson": {
          "bbox": [
           4.35,
           51.0982640853961,
           4.497132214888826,
           51.23484603142092
          ],
          "features": [
           {
            "bbox": [
             4.35,
             51.09915382868185,
             4.422768249732058,
             51.144949048782635
            ],
            "geometry": {
             "coordinates": [
              [
               [
                4.421387983497856,
                51.09915382868185
               ],
               [
                4.422768249732058,
                51.144101526567376
               ],
               [
                4.351310996311721,
                51.144949048782635
               ],
               [
                4.35,
                51.1
               ],
               [
                4.421387983497856,
                51.09915382868185
               ]
              ]
             ],
             "type": "Polygon"
            },
            "id": "0",
            "properties": {},
            "type": "Feature"
           },
           {
            "bbox": [
             4.351310996311721,
             51.144101526567376,
             4.424152073837329,
             51.18989772591063
            ],
            "geometry": {
             "coordinates": [
              [
               [
                4.422768249732058,
                51.144101526567376
               ],
               [
                4.424152073837329,
                51.18904885018396
               ],
               [
                4.352625372093692,
                51.18989772591063
               ],
               [
                4.351310996311721,
                51.144949048782635
               ],
               [
                4.422768249732058,
                51.144101526567376
               ]
              ]
             ],
             "type": "Polygon"
            },
            "id": "1",
            "properties": {},
            "type": "Feature"
           },
           {
            "bbox": [
             4.352625372093692,
             51.18904885018396,
             4.425539467893135,
             51.23484603142092
            ],
            "geometry": {
             "coordinates": [
              [
               [
                4.424152073837329,
                51.18904885018396
               ],
               [
                4.425539467893135,
                51.23399579955925
               ],
               [
                4.353943138820509,
                51.23484603142092
               ],
               [
                4.352625372093692,
                51.18989772591063
               ],
               [
                4.424152073837329,
                51.18904885018396
               ]
              ]
             ],
             "type": "Polygon"
            },
            "id": "2",
            "properties": {},
            "type": "Feature"
           },
           {
            "bbox": [
             4.421387983497856,
             51.0982640853961,
             4.494221945290669,
             51.144101526567376
            ],
            "geometry": {
             "coordinates": [
              [
               [
                4.492772421157351,
                51.0982640853961
               ],
               [
                4.494221945290669,
                51.143210362875934
               ],
               [
                4.422768249732058,
                51.144101526567376
               ],
               [
                4.421387983497856,
                51.09915382868185
               ],
               [
                4.492772421157351,
                51.0982640853961
               ]
              ]
             ],
             "type": "Polygon"
            },
            "id": "3",
            "properties": {},
            "type": "Feature"
           },
           {
            "bbox": [
             4.422768249732058,
             51.143210362875934,
             4.495675205639821,
             51.18904885018396
            ],
            "geometry": {
             "coordinates": [
              [
               [
                4.494221945290669,
                51.143210362875934
               ],
               [
                4.495675205639821,
                51.18815626333831
               ],
               [
                4.424152073837329,
                51.18904885018396
               ],
               [
                4.422768249732058,
                51.144101526567376
               ],
               [
                4.494221945290669,
                51.143210362875934
               ]
              ]
             ],
             "type": "Polygon"
            },
            "id": "4",
            "properties": {},
            "type": "Feature"
           },
           {
            "bbox": [
             4.424152073837329,
             51.18815626333831,
             4.497132214888826,
             51.23399579955925
            ],
            "geometry": {
             "coordinates": [
              [
               [
                4.495675205639821,
                51.18815626333831
               ],
               [
                4.497132214888826,
                51.23310178680106
               ],
               [
                4.425539467893135,
                51.23399579955925
               ],
               [
                4.424152073837329,
                51.18904885018396
               ],
               [
                4.495675205639821,
                51.18815626333831
               ]
              ]
             ],
             "type": "Polygon"
            },
            "id": "5",
            "properties": {},
            "type": "Feature"
           }
          ],
          "type": "FeatureCollection"
         },
         "hovertemplate": "Job Status=running<br>index=%{location}<extra></extra>",
         "locations": [
          4
         ],
         "name": "running",
         "showlegend": true,
         "showscale": false,
         "subplot": "mapbox",
         "type": "choroplethmapbox",
         "z": [
          1
         ]
        },
        {
         "colorscale": [
          [
           0,
           "lightgrey"
          ],
          [
           1,
           "lightgrey"
          ]
         ],
         "geojson": {
          "bbox": [
           4.35,
           51.0982640853961,
           4.497132214888826,
           51.23484603142092
          ],
          "features": [
           {
            "bbox": [
             4.35,
             51.09915382868185,
             4.422768249732058,
             51.144949048782635
            ],
            "geometry": {
             "coordinates": [
              [
               [
                4.421387983497856,
                51.09915382868185
               ],
               [
                4.422768249732058,
                51.144101526567376
               ],
               [
                4.351310996311721,
                51.144949048782635
               ],
               [
                4.35,
                51.1
               ],
               [
                4.421387983497856,
                51.09915382868185
               ]
              ]
             ],
             "type": "Polygon"
            },
            "id": "0",
            "properties": {},
            "type": "Feature"
           },
           {
            "bbox": [
             4.351310996311721,
             51.144101526567376,
             4.424152073837329,
             51.18989772591063
            ],
            "geometry": {
             "coordinates": [
              [
               [
                4.422768249732058,
                51.144101526567376
               ],
               [
                4.424152073837329,
                51.18904885018396
               ],
               [
                4.352625372093692,
                51.18989772591063
               ],
               [
                4.351310996311721,
                51.144949048782635
               ],
               [
                4.422768249732058,
                51.144101526567376
               ]
              ]
             ],
             "type": "Polygon"
            },
            "id": "1",
            "properties": {},
            "type": "Feature"
           },
           {
            "bbox": [
             4.352625372093692,
             51.18904885018396,
             4.425539467893135,
             51.23484603142092
            ],
            "geometry": {
             "coordinates": [
              [
               [
                4.424152073837329,
                51.18904885018396
               ],
               [
                4.425539467893135,
                51.23399579955925
               ],
               [
                4.353943138820509,
                51.23484603142092
               ],
               [
                4.352625372093692,
                51.18989772591063
               ],
               [
                4.424152073837329,
                51.18904885018396
               ]
              ]
             ],
             "type": "Polygon"
            },
            "id": "2",
            "properties": {},
            "type": "Feature"
           },
           {
            "bbox": [
             4.421387983497856,
             51.0982640853961,
             4.494221945290669,
             51.144101526567376
            ],
            "geometry": {
             "coordinates": [
              [
               [
                4.492772421157351,
                51.0982640853961
               ],
               [
                4.494221945290669,
                51.143210362875934
               ],
               [
                4.422768249732058,
                51.144101526567376
               ],
               [
                4.421387983497856,
                51.09915382868185
               ],
               [
                4.492772421157351,
                51.0982640853961
               ]
              ]
             ],
             "type": "Polygon"
            },
            "id": "3",
            "properties": {},
            "type": "Feature"
           },
           {
            "bbox": [
             4.422768249732058,
             51.143210362875934,
             4.495675205639821,
             51.18904885018396
            ],
            "geometry": {
             "coordinates": [
              [
               [
                4.494221945290669,
                51.143210362875934
               ],
               [
                4.495675205639821,
                51.18815626333831
               ],
               [
                4.424152073837329,
                51.18904885018396
               ],
               [
                4.422768249732058,
                51.144101526567376
               ],
               [
                4.494221945290669,
                51.143210362875934
               ]
              ]
             ],
             "type": "Polygon"
            },
            "id": "4",
            "properties": {},
            "type": "Feature"
           },
           {
            "bbox": [
             4.424152073837329,
             51.18815626333831,
             4.497132214888826,
             51.23399579955925
            ],
            "geometry": {
             "coordinates": [
              [
               [
                4.495675205639821,
                51.18815626333831
               ],
               [
                4.497132214888826,
                51.23310178680106
               ],
               [
                4.425539467893135,
                51.23399579955925
               ],
               [
                4.424152073837329,
                51.18904885018396
               ],
               [
                4.495675205639821,
                51.18815626333831
               ]
              ]
             ],
             "type": "Polygon"
            },
            "id": "5",
            "properties": {},
            "type": "Feature"
           }
          ],
          "type": "FeatureCollection"
         },
         "hovertemplate": "Job Status=not_started<br>index=%{location}<extra></extra>",
         "locations": [
          5
         ],
         "name": "not_started",
         "showlegend": true,
         "showscale": false,
         "subplot": "mapbox",
         "type": "choroplethmapbox",
         "z": [
          1
         ]
        }
       ],
       "layout": {
        "geo": {
         "fitbounds": "locations"
        },
        "legend": {
         "title": {
          "text": "Job Status"
         },
         "tracegroupgap": 0
        },
        "mapbox": {
         "center": {
          "lat": 51.16655505840851,
          "lon": 4.4235661074444135
         },
         "domain": {
          "x": [
           0,
           1
          ],
          "y": [
           0,
           1
          ]
         },
         "style": "carto-positron",
         "zoom": 8
        },
        "margin": {
         "b": 0,
         "l": 0,
         "r": 0,
         "t": 0
        },
        "template": {
         "data": {
          "bar": [
           {
            "error_x": {
             "color": "#2a3f5f"
            },
            "error_y": {
             "color": "#2a3f5f"
            },
            "marker": {
             "line": {
              "color": "#E5ECF6",
              "width": 0.5
             },
             "pattern": {
              "fillmode": "overlay",
              "size": 10,
              "solidity": 0.2
             }
            },
            "type": "bar"
           }
          ],
          "barpolar": [
           {
            "marker": {
             "line": {
              "color": "#E5ECF6",
              "width": 0.5
             },
             "pattern": {
              "fillmode": "overlay",
              "size": 10,
              "solidity": 0.2
             }
            },
            "type": "barpolar"
           }
          ],
          "carpet": [
           {
            "aaxis": {
             "endlinecolor": "#2a3f5f",
             "gridcolor": "white",
             "linecolor": "white",
             "minorgridcolor": "white",
             "startlinecolor": "#2a3f5f"
            },
            "baxis": {
             "endlinecolor": "#2a3f5f",
             "gridcolor": "white",
             "linecolor": "white",
             "minorgridcolor": "white",
             "startlinecolor": "#2a3f5f"
            },
            "type": "carpet"
           }
          ],
          "choropleth": [
           {
            "colorbar": {
             "outlinewidth": 0,
             "ticks": ""
            },
            "type": "choropleth"
           }
          ],
          "contour": [
           {
            "colorbar": {
             "outlinewidth": 0,
             "ticks": ""
            },
            "colorscale": [
             [
              0,
              "#0d0887"
             ],
             [
              0.1111111111111111,
              "#46039f"
             ],
             [
              0.2222222222222222,
              "#7201a8"
             ],
             [
              0.3333333333333333,
              "#9c179e"
             ],
             [
              0.4444444444444444,
              "#bd3786"
             ],
             [
              0.5555555555555556,
              "#d8576b"
             ],
             [
              0.6666666666666666,
              "#ed7953"
             ],
             [
              0.7777777777777778,
              "#fb9f3a"
             ],
             [
              0.8888888888888888,
              "#fdca26"
             ],
             [
              1,
              "#f0f921"
             ]
            ],
            "type": "contour"
           }
          ],
          "contourcarpet": [
           {
            "colorbar": {
             "outlinewidth": 0,
             "ticks": ""
            },
            "type": "contourcarpet"
           }
          ],
          "heatmap": [
           {
            "colorbar": {
             "outlinewidth": 0,
             "ticks": ""
            },
            "colorscale": [
             [
              0,
              "#0d0887"
             ],
             [
              0.1111111111111111,
              "#46039f"
             ],
             [
              0.2222222222222222,
              "#7201a8"
             ],
             [
              0.3333333333333333,
              "#9c179e"
             ],
             [
              0.4444444444444444,
              "#bd3786"
             ],
             [
              0.5555555555555556,
              "#d8576b"
             ],
             [
              0.6666666666666666,
              "#ed7953"
             ],
             [
              0.7777777777777778,
              "#fb9f3a"
             ],
             [
              0.8888888888888888,
              "#fdca26"
             ],
             [
              1,
              "#f0f921"
             ]
            ],
            "type": "heatmap"
           }
          ],
          "heatmapgl": [
           {
            "colorbar": {
             "outlinewidth": 0,
             "ticks": ""
            },
            "colorscale": [
             [
              0,
              "#0d0887"
             ],
             [
              0.1111111111111111,
              "#46039f"
             ],
             [
              0.2222222222222222,
              "#7201a8"
             ],
             [
              0.3333333333333333,
              "#9c179e"
             ],
             [
              0.4444444444444444,
              "#bd3786"
             ],
             [
              0.5555555555555556,
              "#d8576b"
             ],
             [
              0.6666666666666666,
              "#ed7953"
             ],
             [
              0.7777777777777778,
              "#fb9f3a"
             ],
             [
              0.8888888888888888,
              "#fdca26"
             ],
             [
              1,
              "#f0f921"
             ]
            ],
            "type": "heatmapgl"
           }
          ],
          "histogram": [
           {
            "marker": {
             "pattern": {
              "fillmode": "overlay",
              "size": 10,
              "solidity": 0.2
             }
            },
            "type": "histogram"
           }
          ],
          "histogram2d": [
           {
            "colorbar": {
             "outlinewidth": 0,
             "ticks": ""
            },
            "colorscale": [
             [
              0,
              "#0d0887"
             ],
             [
              0.1111111111111111,
              "#46039f"
             ],
             [
              0.2222222222222222,
              "#7201a8"
             ],
             [
              0.3333333333333333,
              "#9c179e"
             ],
             [
              0.4444444444444444,
              "#bd3786"
             ],
             [
              0.5555555555555556,
              "#d8576b"
             ],
             [
              0.6666666666666666,
              "#ed7953"
             ],
             [
              0.7777777777777778,
              "#fb9f3a"
             ],
             [
              0.8888888888888888,
              "#fdca26"
             ],
             [
              1,
              "#f0f921"
             ]
            ],
            "type": "histogram2d"
           }
          ],
          "histogram2dcontour": [
           {
            "colorbar": {
             "outlinewidth": 0,
             "ticks": ""
            },
            "colorscale": [
             [
              0,
              "#0d0887"
             ],
             [
              0.1111111111111111,
              "#46039f"
             ],
             [
              0.2222222222222222,
              "#7201a8"
             ],
             [
              0.3333333333333333,
              "#9c179e"
             ],
             [
              0.4444444444444444,
              "#bd3786"
             ],
             [
              0.5555555555555556,
              "#d8576b"
             ],
             [
              0.6666666666666666,
              "#ed7953"
             ],
             [
              0.7777777777777778,
              "#fb9f3a"
             ],
             [
              0.8888888888888888,
              "#fdca26"
             ],
             [
              1,
              "#f0f921"
             ]
            ],
            "type": "histogram2dcontour"
           }
          ],
          "mesh3d": [
           {
            "colorbar": {
             "outlinewidth": 0,
             "ticks": ""
            },
            "type": "mesh3d"
           }
          ],
          "parcoords": [
           {
            "line": {
             "colorbar": {
              "outlinewidth": 0,
              "ticks": ""
             }
            },
            "type": "parcoords"
           }
          ],
          "pie": [
           {
            "automargin": true,
            "type": "pie"
           }
          ],
          "scatter": [
           {
            "fillpattern": {
             "fillmode": "overlay",
             "size": 10,
             "solidity": 0.2
            },
            "type": "scatter"
           }
          ],
          "scatter3d": [
           {
            "line": {
             "colorbar": {
              "outlinewidth": 0,
              "ticks": ""
             }
            },
            "marker": {
             "colorbar": {
              "outlinewidth": 0,
              "ticks": ""
             }
            },
            "type": "scatter3d"
           }
          ],
          "scattercarpet": [
           {
            "marker": {
             "colorbar": {
              "outlinewidth": 0,
              "ticks": ""
             }
            },
            "type": "scattercarpet"
           }
          ],
          "scattergeo": [
           {
            "marker": {
             "colorbar": {
              "outlinewidth": 0,
              "ticks": ""
             }
            },
            "type": "scattergeo"
           }
          ],
          "scattergl": [
           {
            "marker": {
             "colorbar": {
              "outlinewidth": 0,
              "ticks": ""
             }
            },
            "type": "scattergl"
           }
          ],
          "scattermapbox": [
           {
            "marker": {
             "colorbar": {
              "outlinewidth": 0,
              "ticks": ""
             }
            },
            "type": "scattermapbox"
           }
          ],
          "scatterpolar": [
           {
            "marker": {
             "colorbar": {
              "outlinewidth": 0,
              "ticks": ""
             }
            },
            "type": "scatterpolar"
           }
          ],
          "scatterpolargl": [
           {
            "marker": {
             "colorbar": {
              "outlinewidth": 0,
              "ticks": ""
             }
            },
            "type": "scatterpolargl"
           }
          ],
          "scatterternary": [
           {
            "marker": {
             "colorbar": {
              "outlinewidth": 0,
              "ticks": ""
             }
            },
            "type": "scatterternary"
           }
          ],
          "surface": [
           {
            "colorbar": {
             "outlinewidth": 0,
             "ticks": ""
            },
            "colorscale": [
             [
              0,
              "#0d0887"
             ],
             [
              0.1111111111111111,
              "#46039f"
             ],
             [
              0.2222222222222222,
              "#7201a8"
             ],
             [
              0.3333333333333333,
              "#9c179e"
             ],
             [
              0.4444444444444444,
              "#bd3786"
             ],
             [
              0.5555555555555556,
              "#d8576b"
             ],
             [
              0.6666666666666666,
              "#ed7953"
             ],
             [
              0.7777777777777778,
              "#fb9f3a"
             ],
             [
              0.8888888888888888,
              "#fdca26"
             ],
             [
              1,
              "#f0f921"
             ]
            ],
            "type": "surface"
           }
          ],
          "table": [
           {
            "cells": {
             "fill": {
              "color": "#EBF0F8"
             },
             "line": {
              "color": "white"
             }
            },
            "header": {
             "fill": {
              "color": "#C8D4E3"
             },
             "line": {
              "color": "white"
             }
            },
            "type": "table"
           }
          ]
         },
         "layout": {
          "annotationdefaults": {
           "arrowcolor": "#2a3f5f",
           "arrowhead": 0,
           "arrowwidth": 1
          },
          "autotypenumbers": "strict",
          "coloraxis": {
           "colorbar": {
            "outlinewidth": 0,
            "ticks": ""
           }
          },
          "colorscale": {
           "diverging": [
            [
             0,
             "#8e0152"
            ],
            [
             0.1,
             "#c51b7d"
            ],
            [
             0.2,
             "#de77ae"
            ],
            [
             0.3,
             "#f1b6da"
            ],
            [
             0.4,
             "#fde0ef"
            ],
            [
             0.5,
             "#f7f7f7"
            ],
            [
             0.6,
             "#e6f5d0"
            ],
            [
             0.7,
             "#b8e186"
            ],
            [
             0.8,
             "#7fbc41"
            ],
            [
             0.9,
             "#4d9221"
            ],
            [
             1,
             "#276419"
            ]
           ],
           "sequential": [
            [
             0,
             "#0d0887"
            ],
            [
             0.1111111111111111,
             "#46039f"
            ],
            [
             0.2222222222222222,
             "#7201a8"
            ],
            [
             0.3333333333333333,
             "#9c179e"
            ],
            [
             0.4444444444444444,
             "#bd3786"
            ],
            [
             0.5555555555555556,
             "#d8576b"
            ],
            [
             0.6666666666666666,
             "#ed7953"
            ],
            [
             0.7777777777777778,
             "#fb9f3a"
            ],
            [
             0.8888888888888888,
             "#fdca26"
            ],
            [
             1,
             "#f0f921"
            ]
           ],
           "sequentialminus": [
            [
             0,
             "#0d0887"
            ],
            [
             0.1111111111111111,
             "#46039f"
            ],
            [
             0.2222222222222222,
             "#7201a8"
            ],
            [
             0.3333333333333333,
             "#9c179e"
            ],
            [
             0.4444444444444444,
             "#bd3786"
            ],
            [
             0.5555555555555556,
             "#d8576b"
            ],
            [
             0.6666666666666666,
             "#ed7953"
            ],
            [
             0.7777777777777778,
             "#fb9f3a"
            ],
            [
             0.8888888888888888,
             "#fdca26"
            ],
            [
             1,
             "#f0f921"
            ]
           ]
          },
          "colorway": [
           "#636efa",
           "#EF553B",
           "#00cc96",
           "#ab63fa",
           "#FFA15A",
           "#19d3f3",
           "#FF6692",
           "#B6E880",
           "#FF97FF",
           "#FECB52"
          ],
          "font": {
           "color": "#2a3f5f"
          },
          "geo": {
           "bgcolor": "white",
           "lakecolor": "white",
           "landcolor": "#E5ECF6",
           "showlakes": true,
           "showland": true,
           "subunitcolor": "white"
          },
          "hoverlabel": {
           "align": "left"
          },
          "hovermode": "closest",
          "mapbox": {
           "style": "light"
          },
          "paper_bgcolor": "white",
          "plot_bgcolor": "#E5ECF6",
          "polar": {
           "angularaxis": {
            "gridcolor": "white",
            "linecolor": "white",
            "ticks": ""
           },
           "bgcolor": "#E5ECF6",
           "radialaxis": {
            "gridcolor": "white",
            "linecolor": "white",
            "ticks": ""
           }
          },
          "scene": {
           "xaxis": {
            "backgroundcolor": "#E5ECF6",
            "gridcolor": "white",
            "gridwidth": 2,
            "linecolor": "white",
            "showbackground": true,
            "ticks": "",
            "zerolinecolor": "white"
           },
           "yaxis": {
            "backgroundcolor": "#E5ECF6",
            "gridcolor": "white",
            "gridwidth": 2,
            "linecolor": "white",
            "showbackground": true,
            "ticks": "",
            "zerolinecolor": "white"
           },
           "zaxis": {
            "backgroundcolor": "#E5ECF6",
            "gridcolor": "white",
            "gridwidth": 2,
            "linecolor": "white",
            "showbackground": true,
            "ticks": "",
            "zerolinecolor": "white"
           }
          },
          "shapedefaults": {
           "line": {
            "color": "#2a3f5f"
           }
          },
          "ternary": {
           "aaxis": {
            "gridcolor": "white",
            "linecolor": "white",
            "ticks": ""
           },
           "baxis": {
            "gridcolor": "white",
            "linecolor": "white",
            "ticks": ""
           },
           "bgcolor": "#E5ECF6",
           "caxis": {
            "gridcolor": "white",
            "linecolor": "white",
            "ticks": ""
           }
          },
          "title": {
           "x": 0.05
          },
          "xaxis": {
           "automargin": true,
           "gridcolor": "white",
           "linecolor": "white",
           "ticks": "",
           "title": {
            "standoff": 15
           },
           "zerolinecolor": "white",
           "zerolinewidth": 2
          },
          "yaxis": {
           "automargin": true,
           "gridcolor": "white",
           "linecolor": "white",
           "ticks": "",
           "title": {
            "standoff": 15
           },
           "zerolinecolor": "white",
           "zerolinewidth": 2
          }
         }
        },
        "title": {
         "text": "Job Status Overview"
        }
       }
      }
     },
     "metadata": {},
     "output_type": "display_data"
    }
   ],
   "source": [
    "# Step 5: Initialize job database\n",
    "import plotly.express as px\n",
    "from shapely import geometry\n",
    "import json\n",
    "import geopandas as gpd\n",
    "import pandas as pd\n",
    "import time\n",
    "from plotly import offline\n",
    "from IPython.display import clear_output\n",
    "\n",
    "# Update colors based on job status\n",
    "color_dict = {\n",
    "    \"not_started\": 'lightgrey', \n",
    "    \"created\": 'gold', \n",
    "    \"queued\": 'lightsteelblue', \n",
    "    \"running\": 'navy', \n",
    "    \"finished\": 'lime',\n",
    "    \"error\": 'darkred',\n",
    "    \"skipped\": 'darkorange',\n",
    "    None: 'grey'  # Default color for no status\n",
    "}\n",
    "\n",
    "# Step 6: Start job manager in a separate thread\n",
    "manager.start_job_thread(start_job=start_job, job_db=job_db)\n",
    "\n",
    "# Step 7: Visualization Loop\n",
    "# Initialize the figure outside the loop\n",
    "\n",
    "while not manager._stop_thread:\n",
    "    try:\n",
    "        # Read job statuses from the tracker\n",
    "        status_df = pd.read_csv(job_tracker)\n",
    "\n",
    "        # Parse spatial extent into geometries\n",
    "        status_df['geometry'] = status_df['spatial_extent'].apply(lambda x: geometry.shape(json.loads(x)))\n",
    "        status_df = gpd.GeoDataFrame(status_df, geometry='geometry', crs='EPSG:4326')\n",
    "\n",
    "        # Use the 'status' column to determine colors, with a fallback for NaNs or None\n",
    "        status_df['color'] = status_df['status'].map(color_dict).fillna(color_dict[None])\n",
    "\n",
    "        minx, miny, maxx, maxy = status_df.total_bounds\n",
    "        center_lat = (miny + maxy) / 2\n",
    "        center_lon = (minx + maxx) / 2\n",
    "\n",
    "        fig = px.choropleth_mapbox(\n",
    "            status_df,\n",
    "            geojson=status_df.geometry.__geo_interface__,  # Use the correct GeoJSON representation\n",
    "            locations=status_df.index,\n",
    "            color='status',  # Use 'status' for the color\n",
    "            color_discrete_map=color_dict,  # Map colors directly from the dictionary\n",
    "            mapbox_style=\"carto-positron\",\n",
    "            center={\"lat\": center_lat, \"lon\": center_lon},  # Center on your area of interest\n",
    "            zoom=8,\n",
    "            title=\"Job Status Overview\",\n",
    "            labels={'status': 'Job Status'} \n",
    "        )\n",
    "        fig.update_geos(fitbounds=\"locations\")\n",
    "        fig.update_layout(margin={\"r\": 0, \"t\": 0, \"l\": 0, \"b\": 0})\n",
    "\n",
    "        # Display the updated figure\n",
    "        clear_output()\n",
    "        offline.iplot(fig)\n",
    "\n",
    "        # Check if all jobs are done\n",
    "        if status_df['status'].isin([\"not_started\", \"created\", \"queued\", \"running\"]).sum() == 0:\n",
    "            manager.stop_job_thread()\n",
    "\n",
    "        time.sleep(15)  # Wait before the next update\n",
    "\n",
    "    except KeyboardInterrupt:\n",
    "        break"
   ]
  },
  {
   "cell_type": "code",
   "execution_count": null,
   "metadata": {},
   "outputs": [],
   "source": []
  }
 ],
 "metadata": {
  "kernelspec": {
   "display_name": "eotdl_openeo_env",
   "language": "python",
   "name": "python3"
  },
  "language_info": {
   "codemirror_mode": {
    "name": "ipython",
    "version": 3
   },
   "file_extension": ".py",
   "mimetype": "text/x-python",
   "name": "python",
   "nbconvert_exporter": "python",
   "pygments_lexer": "ipython3",
   "version": "3.9.20"
  }
 },
 "nbformat": 4,
 "nbformat_minor": 2
}
