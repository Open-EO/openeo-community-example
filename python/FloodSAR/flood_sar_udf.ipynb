{
 "cells": [
  {
   "cell_type": "markdown",
   "id": "5d9dbb2a",
   "metadata": {},
   "source": [
    "# Flood extent using Sentinel 1\n",
    "\n",
    "Flood extent can be determined using a change detection approach on Sentinel-1 data. In this notebook we have tried in adopting (UN SPIDER's)[https://www.un-spider.org/advisory-support/recommended-practices/recommended-practice-google-earth-engine-flood-mapping] recommendation practice for computing flood extent by implementing openeo process."
   ]
  },
  {
   "cell_type": "code",
   "execution_count": 1,
   "id": "990b2125",
   "metadata": {},
   "outputs": [
    {
     "name": "stdout",
     "output_type": "stream",
     "text": [
      "Authenticated using refresh token.\n"
     ]
    }
   ],
   "source": [
    "# import necessary packages\n",
    "import openeo\n",
    "from openeo.api.process import Parameter\n",
    "import json\n",
    "from pathlib import Path\n",
    "import matplotlib.pyplot as plt\n",
    "import rasterio\n",
    "import numpy as np\n",
    "\n",
    "# connect with the backend\n",
    "eoconn = openeo.connect(\"openeo.vito.be\").authenticate_oidc()"
   ]
  },
  {
   "cell_type": "markdown",
   "id": "894a7ad2",
   "metadata": {},
   "source": [
    "User can choose among different backend available [here](https://hub.openeo.org/) to connect to the backend. Rrgarding the authentication process OpenID connect (oidc) is recommended, but not always straightforward to use. In cases where you are unable to connect with the backend use basic authentication method explained [here](https://openeo.org/documentation/1.0/authentication.html#openid-connect)."
   ]
  },
  {
   "cell_type": "code",
   "execution_count": 2,
   "id": "a23f66b3",
   "metadata": {},
   "outputs": [],
   "source": [
    "# function to load geojson file\n",
    "def read_json(path: Path) -> dict:\n",
    "    with open(path) as input:\n",
    "        field = json.load(input)\n",
    "        input.close()\n",
    "    return field"
   ]
  },
  {
   "cell_type": "markdown",
   "id": "74cbac83",
   "metadata": {},
   "source": [
    "To use the data collection, a user must use the correct backend with the data collection. Then using load_collection, they can specify bands, temporal extent (i.e. interested time interval) and even spatial extent. In this example, we have loaded Sentinel1 data from Terrascope available in VITO backend over a specified spatial extent."
   ]
  },
  {
   "cell_type": "code",
   "execution_count": 3,
   "id": "4e33a86a",
   "metadata": {},
   "outputs": [],
   "source": [
    "# load before flash flood params\n",
    "before_date = [\"2021-05-12\",\"2021-05-12\"]\n",
    "after_date = [\"2021-06-18\", \"2021-06-18\"]\n",
    "spatial_param = read_json(\"../aoi/cologne_all.geojson\")\n"
   ]
  },
  {
   "cell_type": "code",
   "execution_count": 4,
   "id": "96c8b2d2",
   "metadata": {},
   "outputs": [],
   "source": [
    "# using S1 data from Sentinelhub (https://hub.openeo.org/) directly instead of downloading\n",
    "\n",
    "before_cube = eoconn.load_collection(\n",
    "                            \"SENTINEL1_GAMMA0_SENTINELHUB\",\n",
    "                            temporal_extent = before_date,\n",
    "                            spatial_extent = spatial_param,\n",
    "                            bands = ['VV'],\n",
    "                            properties={\"sat:orbit_state\": lambda v: v==\"ascending\"}\n",
    "                            )\n",
    "after_cube = eoconn.load_collection(\n",
    "                            \"SENTINEL1_GAMMA0_SENTINELHUB\",\n",
    "                            temporal_extent = after_date,\n",
    "                            spatial_extent = spatial_param,\n",
    "                            bands = ['VV'],\n",
    "                            properties={\"sat:orbit_state\": lambda v: v==\"ascending\"}\n",
    "                            )"
   ]
  },
  {
   "attachments": {},
   "cell_type": "markdown",
   "id": "14f96685",
   "metadata": {},
   "source": [
    "Since now we have details on temporal dimension we can perform dimension reduction. As we loaded our collection for specific time intervals, it can include multiple time dimensions. Thus [reduce_dimension](https://processes.openeo.org/#reduce_dimension) applies a reducer to a data cube dimension by collapsing all the pixel values along the time dimension into an output value computed by the reducer."
   ]
  },
  {
   "cell_type": "code",
   "execution_count": 5,
   "id": "bc9a1cd0",
   "metadata": {},
   "outputs": [],
   "source": [
    "#'reduce_dimension' to reduce temporal dimension\n",
    "rbefore_cube = before_cube.reduce_dimension(dimension=\"t\", reducer=\"mean\")\n",
    "rafter_cube = after_cube.reduce_dimension(dimension=\"t\", reducer=\"mean\")"
   ]
  },
  {
   "cell_type": "code",
   "execution_count": 6,
   "id": "6d470883",
   "metadata": {},
   "outputs": [],
   "source": [
    "# calculating the ratio of post and pre datacube as mentioned in the UNSPIDER documentation for flood extent using Sentinel 1\n",
    "difference = rafter_cube.divide(rbefore_cube)"
   ]
  },
  {
   "cell_type": "markdown",
   "id": "f332d9ee",
   "metadata": {},
   "source": [
    "Here we tried in presenting a method to create and use UDF as an openEO feature. In a similar manner user can create their own UDF as needed to apply to their data cube. More information on [UDF](https://open-eo.github.io/openeo-python-client/udf.html). \n",
    "\n",
    "Our UDF is designed to perform thresholding to the final result obtained by comparing pre and post datacubes and returns a cube that assigns 1 to region with higher value than threshold otherwise 0."
   ]
  },
  {
   "cell_type": "code",
   "execution_count": 7,
   "id": "feba9012",
   "metadata": {},
   "outputs": [],
   "source": [
    "# define a udf that will perform thresholding of the dataset\n",
    "udf = openeo.UDF(\"\"\"\n",
    "from openeo.udf import XarrayDataCube\n",
    "\n",
    "def apply_datacube(cube: XarrayDataCube, context: dict) -> XarrayDataCube:\n",
    "    array = cube.get_array()\n",
    "    \n",
    "    # UN defined difference threshold\n",
    "    array.values = np.where(array > 1.5, 1, 0)\n",
    "    return cube\n",
    "\"\"\")\n",
    "\n",
    "# Apply the UDF to a cube.\n",
    "threshold_cube = difference.apply(process=udf)"
   ]
  },
  {
   "cell_type": "markdown",
   "id": "b939859e",
   "metadata": {},
   "source": [
    "Once the process is completed, you can also save it as your process using [save_user_defined_process](https://open-eo.github.io/openeo-python-client/udp.html) that can later be used for a similar task. Otherwise, you can download the result either by direct download (in case of the small spatial extent with few processing) or perform create a [batch job](https://open-eo.github.io/openeo-python-client/batch_jobs.html) in case it is a heavy task over a large extent."
   ]
  },
  {
   "cell_type": "code",
   "execution_count": 8,
   "id": "f6f5a306",
   "metadata": {},
   "outputs": [],
   "source": [
    "# download your result either syncronous or proceed as batch job\n",
    "threshold_cube.download(\"s1_diff.tiff\")"
   ]
  },
  {
   "cell_type": "code",
   "execution_count": null,
   "id": "f9eb18a8",
   "metadata": {},
   "outputs": [],
   "source": []
  }
 ],
 "metadata": {
  "kernelspec": {
   "display_name": "Python 3",
   "language": "python",
   "name": "python3"
  },
  "language_info": {
   "codemirror_mode": {
    "name": "ipython",
    "version": 3
   },
   "file_extension": ".py",
   "mimetype": "text/x-python",
   "name": "python",
   "nbconvert_exporter": "python",
   "pygments_lexer": "ipython3",
   "version": "3.6.8"
  }
 },
 "nbformat": 4,
 "nbformat_minor": 5
}
