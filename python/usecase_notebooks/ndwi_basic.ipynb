{
 "cells": [
  {
   "cell_type": "markdown",
   "id": "032db1f1",
   "metadata": {},
   "source": [
    "# Obtain NDWI using available EOplaza services\n",
    "\n",
    "In this notebook user can find ways to execute simple process like ndwi already available in EOplaza. Service available [here](https://portal.terrascope.be/catalogue/app-details/13)."
   ]
  },
  {
   "cell_type": "code",
   "execution_count": 1,
   "id": "12d2a511",
   "metadata": {},
   "outputs": [
    {
     "name": "stdout",
     "output_type": "stream",
     "text": [
      "Authenticated using refresh token.\n"
     ]
    }
   ],
   "source": [
    "# import necessary packages\n",
    "import openeo\n",
    "from openeo.api.process import Parameter\n",
    "import json\n",
    "from pathlib import Path\n",
    "import matplotlib.pyplot as plt\n",
    "import rasterio\n",
    "import numpy as np\n",
    "\n",
    "# connect with the backend\n",
    "eoconn = openeo.connect(\"openeo.vito.be\").authenticate_oidc()"
   ]
  },
  {
   "cell_type": "markdown",
   "id": "acbb3fb2",
   "metadata": {},
   "source": [
    "User can choose among different backend available [here](https://hub.openeo.org/) to connect to the backend. Rrgarding the authentication process OpenID connect (oidc) is recommended, but not always straightforward to use. In cases where you are unable to connect with the backend use basic authentication method explained [here](https://openeo.org/documentation/1.0/authentication.html#openid-connect)."
   ]
  },
  {
   "cell_type": "code",
   "execution_count": 2,
   "id": "02bc43a7",
   "metadata": {},
   "outputs": [],
   "source": [
    "# function to load geojson file\n",
    "def read_json(path: Path) -> dict:\n",
    "    with open(path) as input:\n",
    "        field = json.load(input)\n",
    "        input.close()\n",
    "    return field"
   ]
  },
  {
   "cell_type": "markdown",
   "id": "92fd9b2f",
   "metadata": {},
   "source": [
    "Since this is an already published service available service, they need not be concerned with selecting the backend. They can directly execute the process by providing time and area of interest."
   ]
  },
  {
   "cell_type": "code",
   "execution_count": 3,
   "id": "30f0cb5c",
   "metadata": {},
   "outputs": [
    {
     "name": "stderr",
     "output_type": "stream",
     "text": [
      "/home/pratixa/.local/lib/python3.6/site-packages/openeo/metadata.py:252: UserWarning: No cube:dimensions metadata\n",
      "  complain(\"No cube:dimensions metadata\")\n"
     ]
    }
   ],
   "source": [
    "#load datacube\n",
    "date = [\"2021-05-12\",\"2021-06-12\"]\n",
    "aoi = read_json(\"./aoi/cologne_aoi.geojson\")\n",
    "\n",
    "# using an available EOplaza service\n",
    "ndwi = eoconn.datacube_from_process(\"NDWI\", namespace=\"vito\", date=date\n",
    "                                        ,polygon=aoi)"
   ]
  },
  {
   "cell_type": "markdown",
   "id": "9e1a127f",
   "metadata": {},
   "source": [
    "Not all the available service requires updating metadata. If a service lack metadata then performing further computation on output of the service could be an issue. In such case user can update the metadata based on it's status."
   ]
  },
  {
   "cell_type": "code",
   "execution_count": 4,
   "id": "0603befc",
   "metadata": {},
   "outputs": [
    {
     "data": {
      "text/html": [
       "\n",
       "    <script>\n",
       "    if (!window.customElements || !window.customElements.get('openeo-collection')) {\n",
       "        var el = document.createElement('script');\n",
       "        el.src = \"https://cdn.jsdelivr.net/npm/@openeo/vue-components@2/assets/openeo.min.js\";\n",
       "        document.head.appendChild(el);\n",
       "\n",
       "        var font = document.createElement('font');\n",
       "        font.as = \"font\";\n",
       "        font.type = \"font/woff2\";\n",
       "        font.crossOrigin = true;\n",
       "        font.href = \"https://use.fontawesome.com/releases/v5.13.0/webfonts/fa-solid-900.woff2\"\n",
       "        document.head.appendChild(font);\n",
       "    }\n",
       "    </script>\n",
       "    <openeo-collection>\n",
       "        <script type=\"application/json\">{\"mapOptions\": {}, \"data\": {}}</script>\n",
       "    </openeo-collection>\n",
       "    "
      ],
      "text/plain": [
       "<openeo.metadata.CollectionMetadata at 0x7f7184053080>"
      ]
     },
     "execution_count": 4,
     "metadata": {},
     "output_type": "execute_result"
    }
   ],
   "source": [
    "# check available information is available in metadata or not\n",
    "ndwi.metadata"
   ]
  },
  {
   "cell_type": "code",
   "execution_count": 8,
   "id": "9d4634aa",
   "metadata": {},
   "outputs": [
    {
     "data": {
      "text/html": [
       "\n",
       "    <script>\n",
       "    if (!window.customElements || !window.customElements.get('openeo-collection')) {\n",
       "        var el = document.createElement('script');\n",
       "        el.src = \"https://cdn.jsdelivr.net/npm/@openeo/vue-components@2/assets/openeo.min.js\";\n",
       "        document.head.appendChild(el);\n",
       "\n",
       "        var font = document.createElement('font');\n",
       "        font.as = \"font\";\n",
       "        font.type = \"font/woff2\";\n",
       "        font.crossOrigin = true;\n",
       "        font.href = \"https://use.fontawesome.com/releases/v5.13.0/webfonts/fa-solid-900.woff2\"\n",
       "        document.head.appendChild(font);\n",
       "    }\n",
       "    </script>\n",
       "    <openeo-collection>\n",
       "        <script type=\"application/json\">{\"mapOptions\": {}, \"data\": {\"cube:dimensions\": {\"t\": {\"type\": \"temporal\"}}}}</script>\n",
       "    </openeo-collection>\n",
       "    "
      ],
      "text/plain": [
       "<openeo.metadata.CollectionMetadata at 0x7f2ef9329630>"
      ]
     },
     "execution_count": 8,
     "metadata": {},
     "output_type": "execute_result"
    }
   ],
   "source": [
    "# including temporal metadate to our dataset inorder to peform temporal reduction\n",
    "from openeo.metadata import CollectionMetadata\n",
    "\n",
    "ndwi.metadata = CollectionMetadata({\"cube:dimensions\":{\"t\":{\"type\":\"temporal\"}}})\n",
    "ndwi.metadata"
   ]
  },
  {
   "cell_type": "markdown",
   "id": "0a226b4a",
   "metadata": {},
   "source": [
    "Once the metadata is updated you can perform further operations like subtraction or sum etc. An example of similar case is provided in a seperate notebook named: flood_ndwi.ipynb.\n",
    "\n",
    "Since now we have details on temporal dimension we can perform dimension reduction. As we loaded our collection for specific time intervals, it can include multiple datacubes. Thus [reduce_dimension](https://processes.openeo.org/#reduce_dimension) applies a reducer to a data cube dimension by collapsing all the pixel values along the time dimension into an output value computed by the reducer."
   ]
  },
  {
   "cell_type": "code",
   "execution_count": 9,
   "id": "fd7d4364",
   "metadata": {},
   "outputs": [],
   "source": [
    "# perform temporal dimension reduction\n",
    "Rndwi = ndwi.reduce_dimension(dimension=\"t\", reducer=\"mean\")"
   ]
  },
  {
   "cell_type": "markdown",
   "id": "d8d4da43",
   "metadata": {},
   "source": [
    "Once the process is completed, you can also save it as your process using [save_user_defined_process](https://open-eo.github.io/openeo-python-client/udp.html) that can later be used for a similar task. Otherwise, you can download the result either by direct download (in case of the small spatial extent with few processing) or perform create a [batch job](https://open-eo.github.io/openeo-python-client/batch_jobs.html) in case it is a heavy task over a large extent."
   ]
  },
  {
   "cell_type": "code",
   "execution_count": 10,
   "id": "9c9a1132",
   "metadata": {},
   "outputs": [],
   "source": [
    "#download your result\n",
    "Rndwi.download(\"ndwi.tiff\")"
   ]
  }
 ],
 "metadata": {
  "kernelspec": {
   "display_name": "Python 3",
   "language": "python",
   "name": "python3"
  },
  "language_info": {
   "codemirror_mode": {
    "name": "ipython",
    "version": 3
   },
   "file_extension": ".py",
   "mimetype": "text/x-python",
   "name": "python",
   "nbconvert_exporter": "python",
   "pygments_lexer": "ipython3",
   "version": "3.6.8"
  }
 },
 "nbformat": 4,
 "nbformat_minor": 5
}
