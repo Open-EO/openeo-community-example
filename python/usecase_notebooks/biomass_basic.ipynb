{
 "cells": [
  {
   "cell_type": "markdown",
   "id": "030948a5",
   "metadata": {},
   "source": [
    "# Obtain Biomass computation using available EOplaza services\n",
    "\n",
    "In this notebook user can find ways to execute simple process like ndwi already available in EOplaza. Service available [here](https://portal.terrascope.be/catalogue/app-details/17)"
   ]
  },
  {
   "cell_type": "code",
   "execution_count": 1,
   "id": "5635b255",
   "metadata": {},
   "outputs": [
    {
     "name": "stdout",
     "output_type": "stream",
     "text": [
      "Authenticated using refresh token.\n"
     ]
    }
   ],
   "source": [
    "# import necessary packages\n",
    "import openeo\n",
    "from openeo.api.process import Parameter\n",
    "import json\n",
    "from pathlib import Path\n",
    "import matplotlib.pyplot as plt\n",
    "import rasterio\n",
    "import numpy as np\n",
    "\n",
    "# connect with the backend\n",
    "eoconn = openeo.connect(\"openeo.vito.be\").authenticate_oidc()"
   ]
  },
  {
   "cell_type": "markdown",
   "id": "d4e2c537",
   "metadata": {},
   "source": [
    "User can choose among different backend available [here](https://hub.openeo.org/) to connect to the backend. Rrgarding the authentication process OpenID connect (oidc) is recommended, but not always straightforward to use. In cases where you are unable to connect with the backend use basic authentication method explained [here](https://openeo.org/documentation/1.0/authentication.html#openid-connect)."
   ]
  },
  {
   "cell_type": "code",
   "execution_count": 2,
   "id": "32d07689",
   "metadata": {},
   "outputs": [],
   "source": [
    "# function to load geojson file\n",
    "def read_json(path: Path) -> dict:\n",
    "    with open(path) as input:\n",
    "        field = json.load(input)\n",
    "        input.close()\n",
    "    return field"
   ]
  },
  {
   "cell_type": "markdown",
   "id": "1c46086b",
   "metadata": {},
   "source": [
    "Since users are using the available service, they need not be concerned with selecting the backend. They can directly execute the process by providing time and area of interest."
   ]
  },
  {
   "cell_type": "code",
   "execution_count": 3,
   "id": "345556e5",
   "metadata": {},
   "outputs": [
    {
     "name": "stderr",
     "output_type": "stream",
     "text": [
      "/home/pratixa/.local/lib/python3.6/site-packages/openeo/metadata.py:252: UserWarning: No cube:dimensions metadata\n",
      "  complain(\"No cube:dimensions metadata\")\n"
     ]
    }
   ],
   "source": [
    "# Setup process parameters\n",
    "aoi = spatial_param = read_json(\"./aoi/cologne_aoi.geojson\")\n",
    "date = [\"2020-05-06\", \"2020-05-30\"]\n",
    "\n",
    "# execute the service\n",
    "biomass = eoconn.datacube_from_process(\"BIOMASS\", namespace=\"vito\", date=date,\n",
    "                                        polygon=aoi)"
   ]
  },
  {
   "cell_type": "markdown",
   "id": "69f6b92f",
   "metadata": {},
   "source": [
    "Once the process is completed, you can also save it as your process using [save_user_defined_process](https://open-eo.github.io/openeo-python-client/udp.html) that can later be used for a similar task. Otherwise, you can download the result either by direct download (in case of the small spatial extent with few processing) or perform create a [batch job](https://open-eo.github.io/openeo-python-client/batch_jobs.html) in case it is a heavy task over a large extent."
   ]
  },
  {
   "cell_type": "code",
   "execution_count": 4,
   "id": "78573028",
   "metadata": {},
   "outputs": [],
   "source": [
    "#download the result\n",
    "biomass.download(\"biomass.json\")\n",
    "\n",
    "# batch_job = biomass.create_job(out_format = \"json\", title=\"biomass\")\n",
    "# batch_job.start_and_wait()\n",
    "# results = batch_job.get_results()\n",
    "# results.download_files()"
   ]
  },
  {
   "cell_type": "code",
   "execution_count": null,
   "id": "1fa20929",
   "metadata": {},
   "outputs": [],
   "source": []
  }
 ],
 "metadata": {
  "kernelspec": {
   "display_name": "Python 3",
   "language": "python",
   "name": "python3"
  },
  "language_info": {
   "codemirror_mode": {
    "name": "ipython",
    "version": 3
   },
   "file_extension": ".py",
   "mimetype": "text/x-python",
   "name": "python",
   "nbconvert_exporter": "python",
   "pygments_lexer": "ipython3",
   "version": "3.6.8"
  }
 },
 "nbformat": 4,
 "nbformat_minor": 5
}
