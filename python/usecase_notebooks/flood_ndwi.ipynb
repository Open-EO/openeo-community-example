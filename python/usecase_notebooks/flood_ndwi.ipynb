{
 "cells": [
  {
   "cell_type": "markdown",
   "id": "866a6867",
   "metadata": {},
   "source": [
    "# Comparitive study of before and after flash flood in Cologne using NDWI service available in EOplaza\n",
    "\n",
    "In this notebook, we tried in performing comparative study between pre and post image for Colong during 2021 flood. A simple technique to subtract pre and post image is done to know the change in water content due to flood in that region. Refernce: https://labo.obs-mip.fr/multitemp/the-ndwi-applied-to-the-recent-flooding-in-the-central-us/"
   ]
  },
  {
   "cell_type": "code",
   "execution_count": 1,
   "id": "5ed48975",
   "metadata": {},
   "outputs": [
    {
     "name": "stdout",
     "output_type": "stream",
     "text": [
      "Authenticated using refresh token.\n"
     ]
    }
   ],
   "source": [
    "# import necessary packages\n",
    "import openeo\n",
    "from openeo.api.process import Parameter\n",
    "import json\n",
    "from pathlib import Path\n",
    "import matplotlib.pyplot as plt\n",
    "import rasterio\n",
    "import numpy as np\n",
    "\n",
    "# connect with the backend\n",
    "eoconn = openeo.connect(\"openeo.vito.be\").authenticate_oidc()"
   ]
  },
  {
   "cell_type": "markdown",
   "id": "4fc4a780",
   "metadata": {},
   "source": [
    "User can choose among different backend available [here](https://hub.openeo.org/) to connect to the backend. Rrgarding the authentication process OpenID connect (oidc) is recommended, but not always straightforward to use. In cases where you are unable to connect with the backend use basic authentication method explained [here](https://openeo.org/documentation/1.0/authentication.html#openid-connect)."
   ]
  },
  {
   "cell_type": "code",
   "execution_count": 2,
   "id": "c7d6cf20",
   "metadata": {},
   "outputs": [],
   "source": [
    "# function to load geojson file\n",
    "def read_json(path: Path) -> dict:\n",
    "    with open(path) as input:\n",
    "        field = json.load(input)\n",
    "        input.close()\n",
    "    return field"
   ]
  },
  {
   "cell_type": "markdown",
   "id": "2ccde576",
   "metadata": {},
   "source": [
    "Since this is an already published service available service, they need not be concerned with selecting the backend. They can directly execute the process by providing time and area of interest."
   ]
  },
  {
   "cell_type": "code",
   "execution_count": 3,
   "id": "3e2d26f4",
   "metadata": {},
   "outputs": [
    {
     "name": "stderr",
     "output_type": "stream",
     "text": [
      "/home/pratixa/.local/lib/python3.6/site-packages/openeo/metadata.py:252: UserWarning: No cube:dimensions metadata\n",
      "  complain(\"No cube:dimensions metadata\")\n"
     ]
    }
   ],
   "source": [
    "before_date = [\"2021-05-12\",\"2021-06-12\"]\n",
    "after_date = [\"2021-06-18\", \"2021-07-18\"]\n",
    "aoi = read_json(\"/home/pratixa/Private/aoi/cologne_all.geojson\")\n",
    "\n",
    "# Create a processing graph from the NDWI process using an active openEO connection\n",
    "before_ndwi = eoconn.datacube_from_process(\"NDWI\", namespace=\"vito\", date=before_date\n",
    "                                        ,polygon=aoi)\n",
    "# Create a processing graph from the NDWI process using an active openEO connection\n",
    "after_ndwi = eoconn.datacube_from_process(\"NDWI\", namespace=\"vito\", date=after_date\n",
    "                                        ,polygon=aoi)"
   ]
  },
  {
   "cell_type": "markdown",
   "id": "b03f8567",
   "metadata": {},
   "source": [
    "As you can see a userwarning for missing data pops up which might not be an issue in normal case but here we wish to further evaluate our result in our process thus defining metadata is needed.\n",
    "\n",
    "Not all the available service requires updating metadata. If a service lack metadata then performing further computation on output of the service could be an issue. In such case user can update the metadata based on it's status."
   ]
  },
  {
   "cell_type": "code",
   "execution_count": 5,
   "id": "2a35a2c1",
   "metadata": {},
   "outputs": [
    {
     "data": {
      "text/html": [
       "\n",
       "    <script>\n",
       "    if (!window.customElements || !window.customElements.get('openeo-collection')) {\n",
       "        var el = document.createElement('script');\n",
       "        el.src = \"https://cdn.jsdelivr.net/npm/@openeo/vue-components@2/assets/openeo.min.js\";\n",
       "        document.head.appendChild(el);\n",
       "\n",
       "        var font = document.createElement('font');\n",
       "        font.as = \"font\";\n",
       "        font.type = \"font/woff2\";\n",
       "        font.crossOrigin = true;\n",
       "        font.href = \"https://use.fontawesome.com/releases/v5.13.0/webfonts/fa-solid-900.woff2\"\n",
       "        document.head.appendChild(font);\n",
       "    }\n",
       "    </script>\n",
       "    <openeo-collection>\n",
       "        <script type=\"application/json\">{\"mapOptions\": {}, \"data\": {}}</script>\n",
       "    </openeo-collection>\n",
       "    "
      ],
      "text/plain": [
       "<openeo.metadata.CollectionMetadata at 0x7fb54f853080>"
      ]
     },
     "execution_count": 5,
     "metadata": {},
     "output_type": "execute_result"
    }
   ],
   "source": [
    "# check available information is available in metadata or not\n",
    "before_ndwi.metadata"
   ]
  },
  {
   "cell_type": "code",
   "execution_count": 6,
   "id": "8142f430",
   "metadata": {},
   "outputs": [],
   "source": [
    "# updating our metadata\n",
    "from openeo.metadata import CollectionMetadata\n",
    "\n",
    "before_ndwi.metadata = CollectionMetadata({\"cube:dimensions\":{\"t\":{\"type\":\"temporal\"}}})\n",
    "after_ndwi.metadata = CollectionMetadata({\"cube:dimensions\":{\"t\":{\"type\":\"temporal\"}}})"
   ]
  },
  {
   "cell_type": "markdown",
   "id": "42987ff4",
   "metadata": {},
   "source": [
    "Once the metadata is updated you can perform further operations like subtraction or sum etc as done for this use case.\n",
    "\n",
    "Since now we have details on temporal dimension we can perform dimension reduction. As we loaded our collection for specific time intervals, it can include multiple datacubes. Thus [reduce_dimension](https://processes.openeo.org/#reduce_dimension) applies a reducer to a data cube dimension by collapsing all the pixel values along the time dimension into an output value computed by the reducer. \n",
    "\n",
    "It is then followed by subtracting our before datacube from the later."
   ]
  },
  {
   "cell_type": "code",
   "execution_count": 7,
   "id": "f4879929",
   "metadata": {},
   "outputs": [],
   "source": [
    "# compute the change between pre and post image\n",
    "merging_cubes = after_ndwi.merge_cubes(-before_ndwi)\n",
    "differenced_cube = merging_cubes.reduce_dimension(dimension=\"t\",reducer='sum')"
   ]
  },
  {
   "cell_type": "markdown",
   "id": "20bd4a2a",
   "metadata": {},
   "source": [
    "Once the process is completed, you can also save it as your process using [save_user_defined_process](https://open-eo.github.io/openeo-python-client/udp.html) that can later be used for a similar task. Otherwise, you can download the result either by direct download (in case of the small spatial extent with few processing) or perform create a [batch job](https://open-eo.github.io/openeo-python-client/batch_jobs.html) in case it is a heavy task over a large extent."
   ]
  },
  {
   "cell_type": "code",
   "execution_count": 9,
   "id": "c997000e",
   "metadata": {},
   "outputs": [],
   "source": [
    "# download your result either using synchronous method or batch\n",
    "# synchronous download\n",
    "differenced_cube.download(\"changed_ndwi.tiff\")\n",
    "# \n",
    "# # Or perform batch processing if area is comparatively large\n",
    "# batch_job = Rrescaled_chunks.create_job(out_format = \"GTiff\", title=\"changed_ndwi\")\n",
    "# batch_job.start_and_wait()\n",
    "# results = batch_job.get_results()\n",
    "# results.download_files()"
   ]
  },
  {
   "cell_type": "code",
   "execution_count": null,
   "id": "fbced3e1",
   "metadata": {},
   "outputs": [],
   "source": []
  }
 ],
 "metadata": {
  "kernelspec": {
   "display_name": "Python 3",
   "language": "python",
   "name": "python3"
  },
  "language_info": {
   "codemirror_mode": {
    "name": "ipython",
    "version": 3
   },
   "file_extension": ".py",
   "mimetype": "text/x-python",
   "name": "python",
   "nbconvert_exporter": "python",
   "pygments_lexer": "ipython3",
   "version": "3.6.8"
  }
 },
 "nbformat": 4,
 "nbformat_minor": 5
}
